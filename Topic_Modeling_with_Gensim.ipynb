{
  "cells": [
    {
      "cell_type": "markdown",
      "metadata": {
        "id": "aWYMoBGElR3O"
      },
      "source": [
        "<div class=\"alert\" style=\"background-color:#fff; color:white; padding:0px 10px; border-radius:5px;\"><h1 style='margin:15px 15px; color:#5d3a8e; font-size:40px'> Topic Modeling with Gensim (Python)</h1>\n",
        "</div>"
      ]
    },
    {
      "cell_type": "markdown",
      "source": [
        "# 1. Prerequisites Installation"
      ],
      "metadata": {
        "id": "i8aTks0q3Hqw"
      }
    },
    {
      "cell_type": "code",
      "source": [
        "#! bash /content/Prerequisites.txt"
      ],
      "metadata": {
        "id": "wK6I8p2W02V2"
      },
      "execution_count": 1,
      "outputs": []
    },
    {
      "cell_type": "code",
      "source": [
        "import warnings\n",
        "warnings.filterwarnings(\"ignore\")"
      ],
      "metadata": {
        "id": "0K6sG8rR5LmU"
      },
      "execution_count": 2,
      "outputs": []
    },
    {
      "cell_type": "markdown",
      "metadata": {
        "id": "3gjPwI-UJME0"
      },
      "source": [
        " # 2. Import and prepare the Data"
      ]
    },
    {
      "cell_type": "code",
      "source": [
        "import re\n",
        "import numpy as np\n",
        "import pandas as pd"
      ],
      "metadata": {
        "id": "liE0L6-SgPPE"
      },
      "execution_count": 3,
      "outputs": []
    },
    {
      "cell_type": "code",
      "execution_count": 4,
      "metadata": {
        "colab": {
          "base_uri": "https://localhost:8080/",
          "height": 206
        },
        "id": "5LK_zPh8ZzXn",
        "outputId": "715a829b-5c43-4315-e0ca-71c2c0f980cb"
      },
      "outputs": [
        {
          "output_type": "execute_result",
          "data": {
            "text/plain": [
              "   ArticleID                                              Title  \\\n",
              "0   34153941  Stable Coordination Variability in Overground ...   \n",
              "1   34153942  Weak Hip Strength Increases Dynamic Knee Valgu...   \n",
              "2   34153964  Current and Future Projections of Amyotrophic ...   \n",
              "3   34153968  Disparities between Asian and Non-Asian Thromb...   \n",
              "4   34153978  Maternal Factors Predicting Loss to Follow-Up ...   \n",
              "\n",
              "                                            Abstract  \n",
              "0  Coordination variability (CV) is commonly anal...  \n",
              "1  Clinical Scenario: Dynamic knee valgus (DKV) i...  \n",
              "2  Various methodologies have been reported to as...  \n",
              "3  As outcomes for acute ischemic stroke (AIS) va...  \n",
              "4  Because hearing loss in children can result in...  "
            ],
            "text/html": [
              "\n",
              "  <div id=\"df-200cc7a4-c357-4fb8-9160-3aa7d32e7961\">\n",
              "    <div class=\"colab-df-container\">\n",
              "      <div>\n",
              "<style scoped>\n",
              "    .dataframe tbody tr th:only-of-type {\n",
              "        vertical-align: middle;\n",
              "    }\n",
              "\n",
              "    .dataframe tbody tr th {\n",
              "        vertical-align: top;\n",
              "    }\n",
              "\n",
              "    .dataframe thead th {\n",
              "        text-align: right;\n",
              "    }\n",
              "</style>\n",
              "<table border=\"1\" class=\"dataframe\">\n",
              "  <thead>\n",
              "    <tr style=\"text-align: right;\">\n",
              "      <th></th>\n",
              "      <th>ArticleID</th>\n",
              "      <th>Title</th>\n",
              "      <th>Abstract</th>\n",
              "    </tr>\n",
              "  </thead>\n",
              "  <tbody>\n",
              "    <tr>\n",
              "      <th>0</th>\n",
              "      <td>34153941</td>\n",
              "      <td>Stable Coordination Variability in Overground ...</td>\n",
              "      <td>Coordination variability (CV) is commonly anal...</td>\n",
              "    </tr>\n",
              "    <tr>\n",
              "      <th>1</th>\n",
              "      <td>34153942</td>\n",
              "      <td>Weak Hip Strength Increases Dynamic Knee Valgu...</td>\n",
              "      <td>Clinical Scenario: Dynamic knee valgus (DKV) i...</td>\n",
              "    </tr>\n",
              "    <tr>\n",
              "      <th>2</th>\n",
              "      <td>34153964</td>\n",
              "      <td>Current and Future Projections of Amyotrophic ...</td>\n",
              "      <td>Various methodologies have been reported to as...</td>\n",
              "    </tr>\n",
              "    <tr>\n",
              "      <th>3</th>\n",
              "      <td>34153968</td>\n",
              "      <td>Disparities between Asian and Non-Asian Thromb...</td>\n",
              "      <td>As outcomes for acute ischemic stroke (AIS) va...</td>\n",
              "    </tr>\n",
              "    <tr>\n",
              "      <th>4</th>\n",
              "      <td>34153978</td>\n",
              "      <td>Maternal Factors Predicting Loss to Follow-Up ...</td>\n",
              "      <td>Because hearing loss in children can result in...</td>\n",
              "    </tr>\n",
              "  </tbody>\n",
              "</table>\n",
              "</div>\n",
              "      <button class=\"colab-df-convert\" onclick=\"convertToInteractive('df-200cc7a4-c357-4fb8-9160-3aa7d32e7961')\"\n",
              "              title=\"Convert this dataframe to an interactive table.\"\n",
              "              style=\"display:none;\">\n",
              "        \n",
              "  <svg xmlns=\"http://www.w3.org/2000/svg\" height=\"24px\"viewBox=\"0 0 24 24\"\n",
              "       width=\"24px\">\n",
              "    <path d=\"M0 0h24v24H0V0z\" fill=\"none\"/>\n",
              "    <path d=\"M18.56 5.44l.94 2.06.94-2.06 2.06-.94-2.06-.94-.94-2.06-.94 2.06-2.06.94zm-11 1L8.5 8.5l.94-2.06 2.06-.94-2.06-.94L8.5 2.5l-.94 2.06-2.06.94zm10 10l.94 2.06.94-2.06 2.06-.94-2.06-.94-.94-2.06-.94 2.06-2.06.94z\"/><path d=\"M17.41 7.96l-1.37-1.37c-.4-.4-.92-.59-1.43-.59-.52 0-1.04.2-1.43.59L10.3 9.45l-7.72 7.72c-.78.78-.78 2.05 0 2.83L4 21.41c.39.39.9.59 1.41.59.51 0 1.02-.2 1.41-.59l7.78-7.78 2.81-2.81c.8-.78.8-2.07 0-2.86zM5.41 20L4 18.59l7.72-7.72 1.47 1.35L5.41 20z\"/>\n",
              "  </svg>\n",
              "      </button>\n",
              "      \n",
              "  <style>\n",
              "    .colab-df-container {\n",
              "      display:flex;\n",
              "      flex-wrap:wrap;\n",
              "      gap: 12px;\n",
              "    }\n",
              "\n",
              "    .colab-df-convert {\n",
              "      background-color: #E8F0FE;\n",
              "      border: none;\n",
              "      border-radius: 50%;\n",
              "      cursor: pointer;\n",
              "      display: none;\n",
              "      fill: #1967D2;\n",
              "      height: 32px;\n",
              "      padding: 0 0 0 0;\n",
              "      width: 32px;\n",
              "    }\n",
              "\n",
              "    .colab-df-convert:hover {\n",
              "      background-color: #E2EBFA;\n",
              "      box-shadow: 0px 1px 2px rgba(60, 64, 67, 0.3), 0px 1px 3px 1px rgba(60, 64, 67, 0.15);\n",
              "      fill: #174EA6;\n",
              "    }\n",
              "\n",
              "    [theme=dark] .colab-df-convert {\n",
              "      background-color: #3B4455;\n",
              "      fill: #D2E3FC;\n",
              "    }\n",
              "\n",
              "    [theme=dark] .colab-df-convert:hover {\n",
              "      background-color: #434B5C;\n",
              "      box-shadow: 0px 1px 3px 1px rgba(0, 0, 0, 0.15);\n",
              "      filter: drop-shadow(0px 1px 2px rgba(0, 0, 0, 0.3));\n",
              "      fill: #FFFFFF;\n",
              "    }\n",
              "  </style>\n",
              "\n",
              "      <script>\n",
              "        const buttonEl =\n",
              "          document.querySelector('#df-200cc7a4-c357-4fb8-9160-3aa7d32e7961 button.colab-df-convert');\n",
              "        buttonEl.style.display =\n",
              "          google.colab.kernel.accessAllowed ? 'block' : 'none';\n",
              "\n",
              "        async function convertToInteractive(key) {\n",
              "          const element = document.querySelector('#df-200cc7a4-c357-4fb8-9160-3aa7d32e7961');\n",
              "          const dataTable =\n",
              "            await google.colab.kernel.invokeFunction('convertToInteractive',\n",
              "                                                     [key], {});\n",
              "          if (!dataTable) return;\n",
              "\n",
              "          const docLinkHtml = 'Like what you see? Visit the ' +\n",
              "            '<a target=\"_blank\" href=https://colab.research.google.com/notebooks/data_table.ipynb>data table notebook</a>'\n",
              "            + ' to learn more about interactive tables.';\n",
              "          element.innerHTML = '';\n",
              "          dataTable['output_type'] = 'display_data';\n",
              "          await google.colab.output.renderOutput(dataTable, element);\n",
              "          const docLink = document.createElement('div');\n",
              "          docLink.innerHTML = docLinkHtml;\n",
              "          element.appendChild(docLink);\n",
              "        }\n",
              "      </script>\n",
              "    </div>\n",
              "  </div>\n",
              "  "
            ]
          },
          "metadata": {},
          "execution_count": 4
        }
      ],
      "source": [
        "# Import Dataset\n",
        "df = pd.read_excel(\"/content/dataset/Pubmed5k.xlsx\")\n",
        "df.head()"
      ]
    },
    {
      "cell_type": "code",
      "source": [
        "def clean_data (df: pd.DataFrame):\n",
        "\n",
        "  \"\"\"\n",
        "  This function Extracts the text columns from the dataset and cleans it\n",
        "\n",
        "  Parameters\n",
        "  ----------\n",
        "  df: the dataframe with columns [\"ArticleID\",\"Title\",\"Abstract\"]\n",
        "\n",
        "  Returns\n",
        "  -------\n",
        "  list of the cleaned articls text from the dataset \n",
        "  \n",
        "  \"\"\"\n",
        "\n",
        "  #combine the ['Title', 'Abstract'] columns to one column\n",
        "  df[\"Article\"] = df[['Title', 'Abstract']].agg(' '.join, axis=1)\n",
        "\n",
        "  # remove unwanted ID column\n",
        "  df = df.drop(columns = [\"ArticleID\",\"Title\",\"Abstract\"])\n",
        "\n",
        "  # Convert to list\n",
        "  data = df.values.tolist()\n",
        "\n",
        "  # Remove new line characters\n",
        "  data = [re.sub('\\s+', ' ', str(sent)) for sent in data]\n",
        "\n",
        "  # Remove distracting single quotes\n",
        "  data = [re.sub(\"\\'\",\" \", str(sent)) for sent in data] \n",
        "\n",
        "  return data"
      ],
      "metadata": {
        "id": "VvgsxiRMwLd5"
      },
      "execution_count": 5,
      "outputs": []
    },
    {
      "cell_type": "code",
      "source": [
        "data = clean_data(df)"
      ],
      "metadata": {
        "id": "ssB5evzLuC-6"
      },
      "execution_count": 6,
      "outputs": []
    },
    {
      "cell_type": "code",
      "source": [
        "data[0]"
      ],
      "metadata": {
        "colab": {
          "base_uri": "https://localhost:8080/",
          "height": 184
        },
        "id": "l4X5Ptzczkup",
        "outputId": "9685d45e-0fe2-4f00-e3b4-0e4572548d0e"
      },
      "execution_count": 7,
      "outputs": [
        {
          "output_type": "execute_result",
          "data": {
            "text/plain": [
              "'[ Stable Coordination Variability in Overground Walking and Running at Preferred and Fixed Speeds. Coordination variability (CV) is commonly analyzed to understand dynamical qualities of human locomotion. The purpose of this study was to develop guidelines for the number of trials required to inform the calculation of a stable mean lower limb CV during overground locomotion. Three-dimensional lower limb kinematics were captured for 10 recreational runners performing 20 trials each of preferred and fixed speed walking and running. Stance phase CV was calculated for 9 segment and joint couplings using a modified vector coding technique. The number of trials required to achieve a CV mean within 10% of 20 strides average was determined for each coupling and individual. The statistical outputs of mode (walking vs running) and speed (preferred vs fixed) were compared when informed by differing numbers of trials. A minimum of 11 trials were required for stable mean stance phase CV. With fewer than 11 trials, CV was underestimated and led to an oversight of significant differences between mode and speed. Future overground locomotion CV research in healthy populations using a vector coding approach should use 11 trials as a standard minimum. Researchers should be aware of the notable consequences of an insufficient number of trials for overall study findings. ]'"
            ],
            "application/vnd.google.colaboratory.intrinsic+json": {
              "type": "string"
            }
          },
          "metadata": {},
          "execution_count": 7
        }
      ]
    },
    {
      "cell_type": "code",
      "source": [
        "import spacy"
      ],
      "metadata": {
        "id": "LeRxj4HFaa4u"
      },
      "execution_count": 8,
      "outputs": []
    },
    {
      "cell_type": "code",
      "source": [
        "def lemmatization(texts, allowed_postags=[\"NOUN\", \"ADJ\", \"VERB\", \"ADV\"]):\n",
        "    nlp = spacy.load(\"en_core_web_sm\", disable=[\"parser\", \"ner\"])\n",
        "    texts_out = []\n",
        "    for text in texts:\n",
        "        doc = nlp(text)\n",
        "        new_text = []\n",
        "        for token in doc:\n",
        "            if token.pos_ in allowed_postags:\n",
        "                new_text.append(token.lemma_)\n",
        "        final = \" \".join(new_text)\n",
        "        texts_out.append(final)\n",
        "    return (texts_out)"
      ],
      "metadata": {
        "id": "YLHkN5QNYa12"
      },
      "execution_count": 9,
      "outputs": []
    },
    {
      "cell_type": "code",
      "source": [
        "lemmatized_data = lemmatization(data)"
      ],
      "metadata": {
        "id": "dt6VlxcDYaXv"
      },
      "execution_count": 10,
      "outputs": []
    },
    {
      "cell_type": "code",
      "source": [
        "print (lemmatized_data[0])"
      ],
      "metadata": {
        "colab": {
          "base_uri": "https://localhost:8080/"
        },
        "id": "bvzPfmnuajQ9",
        "outputId": "683811f1-da94-401c-8b46-9d6a080b0e15"
      },
      "execution_count": 11,
      "outputs": [
        {
          "output_type": "stream",
          "name": "stdout",
          "text": [
            "stable run coordination variability commonly analyze understand dynamical quality human locomotion purpose study develop guideline number trial require inform calculation stable mean low limb overground locomotion dimensional low limb kinematic capture recreational runner perform trial preferred fix speed walk run stance phase calculate segment joint coupling use modify vector code technique number trial require achieve mean % stride average determine coupling individual statistical output mode walk run speed prefer fix compare when inform differ number trial minimum trial require stable mean stance phase few trial underestimate lead oversight significant difference mode speed future overground locomotion research healthy population use vector code approach use trial standard minimum researcher aware notable consequence insufficient number trial overall study finding\n"
          ]
        }
      ]
    },
    {
      "cell_type": "code",
      "source": [
        "lemmatized_data[0]"
      ],
      "metadata": {
        "colab": {
          "base_uri": "https://localhost:8080/",
          "height": 165
        },
        "id": "wnvOvmy8ZJgy",
        "outputId": "4a27217f-1da5-4b41-8d2e-e64d649d9f48"
      },
      "execution_count": 12,
      "outputs": [
        {
          "output_type": "execute_result",
          "data": {
            "text/plain": [
              "'stable run coordination variability commonly analyze understand dynamical quality human locomotion purpose study develop guideline number trial require inform calculation stable mean low limb overground locomotion dimensional low limb kinematic capture recreational runner perform trial preferred fix speed walk run stance phase calculate segment joint coupling use modify vector code technique number trial require achieve mean % stride average determine coupling individual statistical output mode walk run speed prefer fix compare when inform differ number trial minimum trial require stable mean stance phase few trial underestimate lead oversight significant difference mode speed future overground locomotion research healthy population use vector code approach use trial standard minimum researcher aware notable consequence insufficient number trial overall study finding'"
            ],
            "application/vnd.google.colaboratory.intrinsic+json": {
              "type": "string"
            }
          },
          "metadata": {},
          "execution_count": 12
        }
      ]
    },
    {
      "cell_type": "markdown",
      "metadata": {
        "id": "GMWsrdMYJME6"
      },
      "source": [
        "# 3. Tokenize words\n",
        "\n",
        "The sentences look better now, but you want to tokenize each sentence into a list of words, removing punctuations and unneccessary characters altogether.\n",
        "\n",
        "Gensim's `simple_preprocess()` is great for this. Additionally I have set `deacc=True` to remove the punctuations."
      ]
    },
    {
      "cell_type": "code",
      "source": [
        "# Gensim\n",
        "import gensim\n",
        "\n",
        "# Enable logging for gensim\n",
        "import logging\n",
        "logging.basicConfig(format='%(asctime)s : %(levelname)s : %(message)s', level=logging.ERROR)\n",
        "\n"
      ],
      "metadata": {
        "id": "XZI8m2qSgidv"
      },
      "execution_count": 13,
      "outputs": []
    },
    {
      "cell_type": "code",
      "execution_count": 14,
      "metadata": {
        "id": "hEawaeOJJME6"
      },
      "outputs": [],
      "source": [
        "def sent_to_words(sentences):\n",
        "  \"\"\"\n",
        "  This function Tokenize sentences to words and removes the punctuation\n",
        "\n",
        "  Parameters\n",
        "  ----------\n",
        "  sentences: list of the articls text\n",
        "\n",
        "  Returns\n",
        "  -------\n",
        "  list of lists of the Tokenized sentences\n",
        "  \"\"\"\n",
        "  tokenized =list()\n",
        "\n",
        "  for sentence in sentences:\n",
        "      tokenized.append(gensim.utils.simple_preprocess(str(sentence).encode('utf-8'), deacc=True))\n",
        "  \n",
        "  return tokenized\n"
      ]
    },
    {
      "cell_type": "code",
      "source": [
        "data_words = sent_to_words(lemmatized_data)\n",
        "print(data_words[:1])\n"
      ],
      "metadata": {
        "colab": {
          "base_uri": "https://localhost:8080/"
        },
        "id": "2_IX919n1r6i",
        "outputId": "a8f807f8-7405-4b96-eab3-cd396c939677"
      },
      "execution_count": 15,
      "outputs": [
        {
          "output_type": "stream",
          "name": "stdout",
          "text": [
            "[['stable', 'run', 'coordination', 'variability', 'commonly', 'analyze', 'understand', 'dynamical', 'quality', 'human', 'locomotion', 'purpose', 'study', 'develop', 'guideline', 'number', 'trial', 'require', 'inform', 'calculation', 'stable', 'mean', 'low', 'limb', 'overground', 'locomotion', 'dimensional', 'low', 'limb', 'kinematic', 'capture', 'recreational', 'runner', 'perform', 'trial', 'preferred', 'fix', 'speed', 'walk', 'run', 'stance', 'phase', 'calculate', 'segment', 'joint', 'coupling', 'use', 'modify', 'vector', 'code', 'technique', 'number', 'trial', 'require', 'achieve', 'mean', 'stride', 'average', 'determine', 'coupling', 'individual', 'statistical', 'output', 'mode', 'walk', 'run', 'speed', 'prefer', 'fix', 'compare', 'when', 'inform', 'differ', 'number', 'trial', 'minimum', 'trial', 'require', 'stable', 'mean', 'stance', 'phase', 'few', 'trial', 'underestimate', 'lead', 'oversight', 'significant', 'difference', 'mode', 'speed', 'future', 'overground', 'locomotion', 'research', 'healthy', 'population', 'use', 'vector', 'code', 'approach', 'use', 'trial', 'standard', 'minimum', 'researcher', 'aware', 'notable', 'consequence', 'insufficient', 'number', 'trial', 'overall', 'study', 'finding']]\n"
          ]
        }
      ]
    },
    {
      "cell_type": "markdown",
      "metadata": {
        "id": "mSKmvrrMJME7"
      },
      "source": [
        "# 4. Remove Stopwords and Make multigrams\n",
        "\n",
        "\n",
        "The bigrams model is ready. Let's define the functions to remove the stopwords, make multigrams."
      ]
    },
    {
      "cell_type": "markdown",
      "source": [
        "### Remove Stopwords"
      ],
      "metadata": {
        "id": "dgtt36eadpBp"
      }
    },
    {
      "cell_type": "code",
      "source": [
        "import nltk; \n",
        "nltk.download('stopwords')\n"
      ],
      "metadata": {
        "colab": {
          "base_uri": "https://localhost:8080/"
        },
        "id": "qF0Y3gHtdagM",
        "outputId": "2e5b9797-1bc0-433d-9630-e7c6f8fa983b"
      },
      "execution_count": 16,
      "outputs": [
        {
          "output_type": "stream",
          "name": "stdout",
          "text": [
            "[nltk_data] Downloading package stopwords to /root/nltk_data...\n",
            "[nltk_data]   Package stopwords is already up-to-date!\n"
          ]
        },
        {
          "output_type": "execute_result",
          "data": {
            "text/plain": [
              "True"
            ]
          },
          "metadata": {},
          "execution_count": 16
        }
      ]
    },
    {
      "cell_type": "code",
      "source": [
        "# NLTK Stop words\n",
        "from nltk.corpus import stopwords\n",
        "stop_words = stopwords.words('english')"
      ],
      "metadata": {
        "id": "HBIZx1M7c6Ll"
      },
      "execution_count": 17,
      "outputs": []
    },
    {
      "cell_type": "code",
      "source": [
        "from gensim.utils import simple_preprocess"
      ],
      "metadata": {
        "id": "aXNh6uvqg-G5"
      },
      "execution_count": 18,
      "outputs": []
    },
    {
      "cell_type": "code",
      "source": [
        "def remove_stopwords(texts):\n",
        "  \"\"\"\n",
        "  This function remove the stop words from the texts\n",
        "  \"\"\"\n",
        "  return [[word for word in simple_preprocess(str(doc)) if word not in stop_words] for doc in texts]"
      ],
      "metadata": {
        "id": "NukqRaPfOqVe"
      },
      "execution_count": 19,
      "outputs": []
    },
    {
      "cell_type": "code",
      "source": [
        "# Remove Stop Words\n",
        "data_words_nostops = remove_stopwords(data_words)"
      ],
      "metadata": {
        "id": "iE6xtYgrQA35"
      },
      "execution_count": 20,
      "outputs": []
    },
    {
      "cell_type": "markdown",
      "source": [
        "### Make Bigrams and Trigrams"
      ],
      "metadata": {
        "id": "hvQ8VfY0hGcR"
      }
    },
    {
      "cell_type": "code",
      "source": [
        "# Build the bigram and trigram models\n",
        "bigram = gensim.models.Phrases(data_words_nostops, min_count=5, threshold=100) # higher threshold fewer phrases.\n",
        "trigram = gensim.models.Phrases(bigram[data_words_nostops], threshold=100)  \n",
        "\n",
        "# Faster way to get a sentence clubbed as a trigram/bigram\n",
        "bigram_mod = gensim.models.phrases.Phraser(bigram)\n",
        "trigram_mod = gensim.models.phrases.Phraser(trigram)"
      ],
      "metadata": {
        "id": "dQ5_TmfBOuZ7"
      },
      "execution_count": 21,
      "outputs": []
    },
    {
      "cell_type": "code",
      "source": [
        "def make_bigrams(texts):\n",
        "    return [bigram_mod[doc] for doc in texts]"
      ],
      "metadata": {
        "id": "6Jgk8sdPd82Z"
      },
      "execution_count": 22,
      "outputs": []
    },
    {
      "cell_type": "code",
      "source": [
        "def make_trigrams(texts):\n",
        "    return [trigram_mod[bigram_mod[doc]] for doc in texts]"
      ],
      "metadata": {
        "id": "I5RPru6ld_7d"
      },
      "execution_count": 23,
      "outputs": []
    },
    {
      "cell_type": "code",
      "source": [
        "# Form Bigrams and trigrams\n",
        "data_words_bigrams = make_bigrams(data_words_nostops)\n",
        "data_words_trigrams = make_trigrams(data_words_bigrams)"
      ],
      "metadata": {
        "id": "UoIwpzEeQKFV"
      },
      "execution_count": 24,
      "outputs": []
    },
    {
      "cell_type": "markdown",
      "metadata": {
        "id": "R7uMrXUpJME8"
      },
      "source": [
        "# 5. Create the Dictionary and Corpus needed for Topic Modeling\n",
        "\n",
        "The two main inputs to the LDA topic model are the dictionary(`id2word`) and the corpus. Let's create them."
      ]
    },
    {
      "cell_type": "code",
      "source": [
        "import gensim.corpora as corpora\n",
        "from gensim.models import TfidfModel"
      ],
      "metadata": {
        "id": "yg0pEMdch31F"
      },
      "execution_count": 25,
      "outputs": []
    },
    {
      "cell_type": "code",
      "execution_count": 26,
      "metadata": {
        "id": "DqlOgG27JME8"
      },
      "outputs": [],
      "source": [
        "#TF-IDF REMOVAL\n",
        "from gensim.models import TfidfModel\n",
        "\n",
        "id2word = corpora.Dictionary(data_words_trigrams)\n",
        "\n",
        "texts = data_words_trigrams\n",
        "\n",
        "corpus = [id2word.doc2bow(text) for text in texts]\n",
        "\n",
        "tfidf = TfidfModel(corpus, id2word=id2word)\n",
        "\n",
        "low_value = 0.03\n",
        "words  = []\n",
        "words_missing_in_tfidf = []\n",
        "for i in range(0, len(corpus)):\n",
        "    bow = corpus[i]\n",
        "    low_value_words = [] #reinitialize to be safe. You can skip this.\n",
        "    tfidf_ids = [id for id, value in tfidf[bow]]\n",
        "    bow_ids = [id for id, value in bow]\n",
        "    low_value_words = [id for id, value in tfidf[bow] if value < low_value]\n",
        "    drops = low_value_words+words_missing_in_tfidf\n",
        "    for item in drops:\n",
        "        words.append(id2word[item])\n",
        "    words_missing_in_tfidf = [id for id in bow_ids if id not in tfidf_ids] # The words with tf-idf socre 0 will be missing\n",
        "\n",
        "    new_bow = [b for b in bow if b[0] not in low_value_words and b[0] not in words_missing_in_tfidf]\n",
        "    corpus[i] = new_bow"
      ]
    },
    {
      "cell_type": "markdown",
      "metadata": {
        "id": "vl0gK6hEJME-"
      },
      "source": [
        "If you want to see what word a given id corresponds to, pass the id as a key to the dictionary."
      ]
    },
    {
      "cell_type": "code",
      "execution_count": 27,
      "metadata": {
        "id": "RLtyx0RpJME-",
        "colab": {
          "base_uri": "https://localhost:8080/",
          "height": 36
        },
        "outputId": "91731ee6-b313-4e7b-8114-8bad48d856ad"
      },
      "outputs": [
        {
          "output_type": "execute_result",
          "data": {
            "text/plain": [
              "'achieve'"
            ],
            "application/vnd.google.colaboratory.intrinsic+json": {
              "type": "string"
            }
          },
          "metadata": {},
          "execution_count": 27
        }
      ],
      "source": [
        "id2word[0]"
      ]
    },
    {
      "cell_type": "markdown",
      "metadata": {
        "id": "rUb3j6Q3JME_"
      },
      "source": [
        "Or, you can see a human readable form of the corpus itself."
      ]
    },
    {
      "cell_type": "code",
      "execution_count": 28,
      "metadata": {
        "id": "02ezXeDuJME_",
        "colab": {
          "base_uri": "https://localhost:8080/"
        },
        "outputId": "616d7b9d-7898-407f-9a1a-c6e4a86a16ef"
      },
      "outputs": [
        {
          "output_type": "execute_result",
          "data": {
            "text/plain": [
              "[(0, 1),\n",
              " (1, 1),\n",
              " (2, 1),\n",
              " (3, 1),\n",
              " (4, 1),\n",
              " (5, 1),\n",
              " (6, 1),\n",
              " (7, 1),\n",
              " (8, 2),\n",
              " (9, 1)]"
            ]
          },
          "metadata": {},
          "execution_count": 28
        }
      ],
      "source": [
        "corpus[:1][0][:10]"
      ]
    },
    {
      "cell_type": "code",
      "execution_count": 29,
      "metadata": {
        "id": "U6ZzD5UiJME_",
        "scrolled": true,
        "colab": {
          "base_uri": "https://localhost:8080/"
        },
        "outputId": "9c45bae5-d29c-44d2-d264-17bdc434cc35"
      },
      "outputs": [
        {
          "output_type": "execute_result",
          "data": {
            "text/plain": [
              "[[('achieve', 1),\n",
              "  ('analyze', 1),\n",
              "  ('approach', 1),\n",
              "  ('average', 1),\n",
              "  ('aware', 1),\n",
              "  ('calculate', 1),\n",
              "  ('calculation', 1),\n",
              "  ('capture', 1),\n",
              "  ('code', 2),\n",
              "  ('commonly', 1),\n",
              "  ('consequence', 1),\n",
              "  ('coordination', 1),\n",
              "  ('coupling', 2),\n",
              "  ('determine', 1),\n",
              "  ('differ', 1),\n",
              "  ('difference', 1),\n",
              "  ('dimensional', 1),\n",
              "  ('dynamical', 1),\n",
              "  ('finding', 1),\n",
              "  ('fix', 2),\n",
              "  ('future', 1),\n",
              "  ('guideline', 1),\n",
              "  ('healthy', 1),\n",
              "  ('human', 1),\n",
              "  ('individual', 1),\n",
              "  ('inform', 2),\n",
              "  ('insufficient', 1),\n",
              "  ('joint', 1),\n",
              "  ('kinematic', 1),\n",
              "  ('lead', 1),\n",
              "  ('limb', 2),\n",
              "  ('locomotion', 3),\n",
              "  ('low', 2),\n",
              "  ('mean', 3),\n",
              "  ('minimum', 2),\n",
              "  ('mode', 2),\n",
              "  ('modify', 1),\n",
              "  ('notable', 1),\n",
              "  ('number', 4),\n",
              "  ('output', 1),\n",
              "  ('overall', 1),\n",
              "  ('overground', 2),\n",
              "  ('oversight', 1),\n",
              "  ('perform', 1),\n",
              "  ('phase', 2),\n",
              "  ('population', 1),\n",
              "  ('prefer', 1),\n",
              "  ('preferred', 1),\n",
              "  ('purpose', 1),\n",
              "  ('quality', 1),\n",
              "  ('recreational', 1),\n",
              "  ('require', 3),\n",
              "  ('research', 1),\n",
              "  ('researcher', 1),\n",
              "  ('run', 3),\n",
              "  ('runner', 1),\n",
              "  ('segment', 1),\n",
              "  ('speed', 3),\n",
              "  ('stable', 3),\n",
              "  ('stance', 2),\n",
              "  ('standard', 1),\n",
              "  ('statistical', 1),\n",
              "  ('stride', 1),\n",
              "  ('technique', 1),\n",
              "  ('trial', 8),\n",
              "  ('underestimate', 1),\n",
              "  ('understand', 1),\n",
              "  ('variability', 1),\n",
              "  ('vector', 2),\n",
              "  ('walk', 2)]]"
            ]
          },
          "metadata": {},
          "execution_count": 29
        }
      ],
      "source": [
        "# Human readable format of corpus (term-frequency)\n",
        "[[(id2word[id], freq) for id, freq in cp] for cp in corpus[:1]]"
      ]
    },
    {
      "cell_type": "markdown",
      "metadata": {
        "id": "DAuJo71iJMFA"
      },
      "source": [
        "# 6. Building the Topic Model"
      ]
    },
    {
      "cell_type": "markdown",
      "metadata": {
        "id": "rJ0KiNu8JMFA"
      },
      "source": [
        "We have everything required to train the LDA model. In addition to the corpus and dictionary, you need to provide the number of topics as well. \n",
        "\n",
        "Apart from that, `alpha` and `eta` are hyperparameters that affect sparsity of the topics. According to the gensim docs, both defaults to 1.0/num_topics prior.\n",
        "\n",
        "`chunksize` is the number of documents to be used in each training chunk.  `update_every` determines how often the model parameters should be updated and `passes` is the total number of training passes."
      ]
    },
    {
      "cell_type": "code",
      "execution_count": 30,
      "metadata": {
        "id": "VAPlP5krJMFA"
      },
      "outputs": [],
      "source": [
        "# Build LDA model\n",
        "lda_model = gensim.models.ldamodel.LdaModel(corpus=corpus,\n",
        "                                           id2word=id2word,\n",
        "                                           num_topics=10, \n",
        "                                           random_state=0,\n",
        "                                           update_every=1,\n",
        "                                           chunksize=100,\n",
        "                                           passes=10,\n",
        "                                           alpha='auto',\n",
        "                                           per_word_topics=True)"
      ]
    },
    {
      "cell_type": "markdown",
      "metadata": {
        "id": "YVvKis8MJMFA"
      },
      "source": [
        "# 7. View the topics in LDA model\n",
        "\n",
        "The above LDA model is built with 10 different topics where each topic is a combination of keywords and each keyword contributes a certain weightage to the topic.\n",
        "\n",
        "You can see the keywords for each topic and the weightage(importance) of each keyword using `lda_model.print_topics()` as shown next."
      ]
    },
    {
      "cell_type": "code",
      "execution_count": 31,
      "metadata": {
        "id": "_xrMa9_nJMFB",
        "colab": {
          "base_uri": "https://localhost:8080/"
        },
        "outputId": "01ac1488-140e-4d91-85f1-d1a7f9ee9a3b"
      },
      "outputs": [
        {
          "output_type": "stream",
          "name": "stdout",
          "text": [
            "[(0, '0.016*\"research\" + 0.015*\"pandemic\" + 0.014*\"impact\" + 0.014*\"social\" + 0.012*\"work\" + 0.011*\"support\" + 0.010*\"mental_health\" + 0.009*\"behavior\" + 0.008*\"relate\" + 0.008*\"depression\"'), (1, '0.032*\"cell\" + 0.017*\"protein\" + 0.010*\"activity\" + 0.010*\"induce\" + 0.008*\"drug\" + 0.008*\"human\" + 0.007*\"tissue\" + 0.007*\"implant\" + 0.006*\"surface\" + 0.006*\"interaction\"'), (2, '0.031*\"use\" + 0.030*\"model\" + 0.024*\"base\" + 0.021*\"method\" + 0.019*\"datum\" + 0.014*\"performance\" + 0.012*\"test\" + 0.010*\"sample\" + 0.010*\"detection\" + 0.010*\"result\"'), (3, '0.114*\"stress\" + 0.020*\"spinal\" + 0.019*\"compression\" + 0.016*\"psychological_distress\" + 0.014*\"trust\" + 0.014*\"ground\" + 0.013*\"artery\" + 0.012*\"southern\" + 0.012*\"min\" + 0.010*\"biomechanical\"'), (4, '0.029*\"brain\" + 0.028*\"function\" + 0.019*\"policy\" + 0.019*\"cognitive\" + 0.016*\"mitochondrial\" + 0.015*\"restoration\" + 0.013*\"attribute\" + 0.012*\"probe\" + 0.012*\"cardiac\" + 0.012*\"effect\"'), (5, '0.057*\"patient\" + 0.020*\"group\" + 0.017*\"treatment\" + 0.013*\"clinical\" + 0.013*\"case\" + 0.010*\"outcome\" + 0.009*\"follow\" + 0.007*\"compare\" + 0.007*\"day\" + 0.007*\"month\"'), (6, '0.013*\"gene\" + 0.012*\"specie\" + 0.011*\"cancer\" + 0.010*\"new\" + 0.009*\"expression\" + 0.008*\"development\" + 0.008*\"identify\" + 0.007*\"type\" + 0.006*\"describe\" + 0.006*\"provide\"'), (7, '0.034*\"study\" + 0.032*\"health\" + 0.021*\"care\" + 0.019*\"intervention\" + 0.013*\"participant\" + 0.012*\"community\" + 0.011*\"service\" + 0.010*\"self\" + 0.009*\"conduct\" + 0.009*\"practice\"'), (8, '0.030*\"effect\" + 0.023*\"exposure\" + 0.021*\"water\" + 0.019*\"environmental\" + 0.011*\"temperature\" + 0.011*\"environment\" + 0.011*\"change\" + 0.010*\"food\" + 0.010*\"area\" + 0.010*\"increase\"'), (9, '0.026*\"risk\" + 0.022*\"level\" + 0.022*\"high\" + 0.018*\"age\" + 0.018*\"child\" + 0.018*\"factor\" + 0.016*\"associate\" + 0.014*\"population\" + 0.011*\"low\" + 0.011*\"year\"')]\n"
          ]
        }
      ],
      "source": [
        "# Print the Keyword in the 10 topics\n",
        "print(lda_model.print_topics())\n",
        "doc_lda = lda_model[corpus]"
      ]
    },
    {
      "cell_type": "markdown",
      "metadata": {
        "id": "efQl15CYJMFB"
      },
      "source": [
        "#8. Compute Model Perplexity and Coherence Score\n"
      ]
    },
    {
      "cell_type": "markdown",
      "metadata": {
        "id": "41dafJVjJMFC"
      },
      "source": [
        "Model perplexity and [topic coherence](https://rare-technologies.com/what-is-topic-coherence/) provide a convenient measure to judge how good a given topic model is. In my experience, topic coherence score, in particular, has been more helpful."
      ]
    },
    {
      "cell_type": "code",
      "source": [
        "from gensim.models import CoherenceModel"
      ],
      "metadata": {
        "id": "WVzo9jJCfOkx"
      },
      "execution_count": 32,
      "outputs": []
    },
    {
      "cell_type": "code",
      "execution_count": 33,
      "metadata": {
        "id": "wuud9M0VJMFC",
        "scrolled": true,
        "colab": {
          "base_uri": "https://localhost:8080/"
        },
        "outputId": "c6ef5bde-da58-428a-82a3-da03c6cab151"
      },
      "outputs": [
        {
          "output_type": "stream",
          "name": "stdout",
          "text": [
            "\n",
            "Perplexity:  -9.039897018997143\n",
            "\n",
            "Coherence Score:  0.44587124056629523\n"
          ]
        }
      ],
      "source": [
        "# Compute Perplexity\n",
        "print('\\nPerplexity: ', lda_model.log_perplexity(corpus))  # a measure of how good the model is. lower the better.\n",
        "\n",
        "# Compute Coherence Score\n",
        "coherence_model_lda = CoherenceModel(model=lda_model, texts=data_words_bigrams, dictionary=id2word, coherence='c_v')\n",
        "coherence_lda = coherence_model_lda.get_coherence()\n",
        "print('\\nCoherence Score: ', coherence_lda)"
      ]
    },
    {
      "cell_type": "markdown",
      "metadata": {
        "id": "UqNrGJbJJMFC"
      },
      "source": [
        "# 9. Visualize the topics-keywords\n",
        "\n",
        "Now that the LDA model is built, the next step is to examine the produced topics and the associated keywords. There is no better tool than pyLDAvis package’s interactive chart and is designed to work well with jupyter notebooks."
      ]
    },
    {
      "cell_type": "code",
      "source": [
        "# Plotting tools\n",
        "import pyLDAvis\n",
        "import pyLDAvis.gensim_models  # don't skip this\n",
        "import matplotlib.pyplot as plt\n",
        "%matplotlib inline\n"
      ],
      "metadata": {
        "colab": {
          "base_uri": "https://localhost:8080/"
        },
        "id": "YMQpqIRKxALE",
        "outputId": "964fa940-7ad1-4039-8bfa-dc6f216525e3"
      },
      "execution_count": 34,
      "outputs": [
        {
          "output_type": "stream",
          "name": "stderr",
          "text": [
            "/usr/local/lib/python3.7/dist-packages/past/types/oldstr.py:5: DeprecationWarning: Using or importing the ABCs from 'collections' instead of from 'collections.abc' is deprecated since Python 3.3,and in 3.9 it will stop working\n",
            "  from collections import Iterable\n",
            "/usr/local/lib/python3.7/dist-packages/past/builtins/misc.py:4: DeprecationWarning: Using or importing the ABCs from 'collections' instead of from 'collections.abc' is deprecated since Python 3.3,and in 3.9 it will stop working\n",
            "  from collections import Mapping\n"
          ]
        }
      ]
    },
    {
      "cell_type": "code",
      "execution_count": 35,
      "metadata": {
        "id": "VwiiQ6bEJMFD",
        "colab": {
          "base_uri": "https://localhost:8080/",
          "height": 881
        },
        "outputId": "b05a5279-61b1-43de-b421-da78c1eed7b3"
      },
      "outputs": [
        {
          "output_type": "execute_result",
          "data": {
            "text/plain": [
              "PreparedData(topic_coordinates=              x         y  topics  cluster       Freq\n",
              "topic                                                \n",
              "5      0.131401  0.143194       1        1  18.199320\n",
              "6      0.122791  0.020300       2        1  16.364581\n",
              "9      0.153523  0.208433       3        1  13.818173\n",
              "1     -0.061008  0.144891       4        1  12.392937\n",
              "7      0.113276 -0.266441       5        1  10.255752\n",
              "2      0.128373 -0.105233       6        1  10.229538\n",
              "0      0.082740 -0.151462       7        1   9.733136\n",
              "8     -0.143438  0.113087       8        1   5.833388\n",
              "4     -0.289354 -0.049590       9        1   2.583711\n",
              "3     -0.238303 -0.057180      10        1   0.589462, topic_info=                         Term         Freq        Total Category  logprob  \\\n",
              "162                   patient  5286.000000  5286.000000  Default  30.0000   \n",
              "367                      cell  2007.000000  2007.000000  Default  29.0000   \n",
              "66                      study  1857.000000  1857.000000  Default  28.0000   \n",
              "281                    health  1669.000000  1669.000000  Default  27.0000   \n",
              "160                     model  1580.000000  1580.000000  Default  26.0000   \n",
              "...                       ...          ...          ...      ...      ...   \n",
              "9207                 overlook    16.518336    17.446285  Topic10  -5.2111   \n",
              "21263              gait_speed    17.619479    18.616106  Topic10  -5.1466   \n",
              "5027   mechanical_ventilation    16.047430    16.974996  Topic10  -5.2401   \n",
              "12365                 modulus    15.741783    16.669432  Topic10  -5.2593   \n",
              "2301                   decide    15.293411    16.221358  Topic10  -5.2882   \n",
              "\n",
              "       loglift  \n",
              "162    30.0000  \n",
              "367    29.0000  \n",
              "66     28.0000  \n",
              "281    27.0000  \n",
              "160    26.0000  \n",
              "...        ...  \n",
              "9207    5.0791  \n",
              "21263   5.0787  \n",
              "5027    5.0775  \n",
              "12365   5.0765  \n",
              "2301    5.0748  \n",
              "\n",
              "[509 rows x 6 columns], token_table=      Topic      Freq      Term\n",
              "term                           \n",
              "1374      5  0.993085  academic\n",
              "310       5  0.996673    access\n",
              "1924      6  0.997352  accuracy\n",
              "355       6  0.997219  accurate\n",
              "1035      4  0.996773      acid\n",
              "...     ...       ...       ...\n",
              "4303      9  0.995835        xa\n",
              "182       1  0.348316      year\n",
              "182       3  0.651058      year\n",
              "262       1  0.009737     young\n",
              "262       3  0.989973     young\n",
              "\n",
              "[763 rows x 3 columns], R=30, lambda_step=0.01, plot_opts={'xlab': 'PC1', 'ylab': 'PC2'}, topic_order=[6, 7, 10, 2, 8, 3, 1, 9, 5, 4])"
            ],
            "text/html": [
              "\n",
              "<link rel=\"stylesheet\" type=\"text/css\" href=\"https://cdn.jsdelivr.net/gh/bmabey/pyLDAvis@3.3.1/pyLDAvis/js/ldavis.v1.0.0.css\">\n",
              "\n",
              "\n",
              "<div id=\"ldavis_el192441398388543819047182335498\"></div>\n",
              "<script type=\"text/javascript\">\n",
              "\n",
              "var ldavis_el192441398388543819047182335498_data = {\"mdsDat\": {\"x\": [0.1314008964713888, 0.12279124216995421, 0.153522795273649, -0.06100819534069381, 0.11327599259194815, 0.12837313223803534, 0.08273967515445291, -0.14343842992174208, -0.289354070455423, -0.2383030381815696], \"y\": [0.1431936146442122, 0.020299869685943068, 0.20843302100053945, 0.14489133886491365, -0.2664405846636082, -0.1052325628432309, -0.15146176724560576, 0.11308675884749532, -0.049590033379333896, -0.05717965491132483], \"topics\": [1, 2, 3, 4, 5, 6, 7, 8, 9, 10], \"cluster\": [1, 1, 1, 1, 1, 1, 1, 1, 1, 1], \"Freq\": [18.19932049411835, 16.36458141790421, 13.818173037434123, 12.392936904909766, 10.25575220835922, 10.229538270610645, 9.733136140395919, 5.833388368949125, 2.5837113533040523, 0.5894618040145969]}, \"tinfo\": {\"Term\": [\"patient\", \"cell\", \"study\", \"health\", \"model\", \"risk\", \"use\", \"level\", \"effect\", \"high\", \"group\", \"base\", \"care\", \"age\", \"child\", \"method\", \"factor\", \"treatment\", \"protein\", \"associate\", \"intervention\", \"datum\", \"function\", \"clinical\", \"case\", \"exposure\", \"gene\", \"population\", \"research\", \"water\", \"patient\", \"clinical\", \"case\", \"follow\", \"month\", \"mortality\", \"trial\", \"exercise\", \"surgery\", \"baseline\", \"surgical\", \"week\", \"pain\", \"rehabilitation\", \"severe\", \"injury\", \"dental\", \"procedure\", \"undergo\", \"complication\", \"acute\", \"diagnose\", \"fatigue\", \"oral\", \"fracture\", \"co\", \"center\", \"elderly\", \"discharge\", \"medication\", \"group\", \"treatment\", \"safety\", \"outcome\", \"day\", \"therapy\", \"diagnosis\", \"compare\", \"non\", \"perform\", \"receive\", \"report\", \"mean\", \"evaluate\", \"score\", \"treat\", \"control\", \"year\", \"disease\", \"effect\", \"gene\", \"cancer\", \"new\", \"expression\", \"plant\", \"genetic\", \"chemical\", \"sequence\", \"offer\", \"publish\", \"produce\", \"identification\", \"immune\", \"insight\", \"regulation\", \"local\", \"map\", \"algorithm\", \"derive\", \"genome\", \"experiment\", \"reach\", \"cellular\", \"breast_cancer\", \"root\", \"success\", \"composition\", \"crucial\", \"core\", \"recently\", \"specie\", \"recent\", \"reveal\", \"describe\", \"development\", \"tumor\", \"know\", \"image\", \"key\", \"type\", \"provide\", \"several\", \"specific\", \"identify\", \"present\", \"important\", \"review\", \"response\", \"target\", \"human\", \"well\", \"mechanism\", \"region\", \"find\", \"level\", \"high\", \"age\", \"child\", \"factor\", \"associate\", \"association\", \"prevalence\", \"variable\", \"adolescent\", \"vaccine\", \"gender\", \"cluster\", \"serum\", \"memory\", \"adjust\", \"retrospective\", \"vaccination\", \"suicide\", \"depressive_symptom\", \"recruit\", \"longitudinal\", \"positive\", \"length\", \"dementia\", \"national\", \"infect\", \"probability\", \"screen\", \"chinese\", \"infection\", \"young\", \"risk\", \"population\", \"adult\", \"predictor\", \"status\", \"diabetes\", \"low\", \"rate\", \"individual\", \"year\", \"measure\", \"suggest\", \"increase\", \"disease\", \"woman\", \"analysis\", \"control\", \"difference\", \"old\", \"identify\", \"sample\", \"cell\", \"protein\", \"induce\", \"implant\", \"production\", \"mouse\", \"property\", \"rat\", \"bone\", \"acid\", \"soil\", \"formation\", \"anti\", \"receptor\", \"release\", \"stability\", \"membrane\", \"resistance\", \"enzyme\", \"compound\", \"strain\", \"host\", \"toxicity\", \"bind\", \"metal\", \"like\", \"peptide\", \"metabolism\", \"inhibit\", \"effectively\", \"tissue\", \"surface\", \"drug\", \"activity\", \"regulate\", \"signal\", \"interaction\", \"human\", \"detect\", \"growth\", \"virus\", \"reduce\", \"muscle\", \"show\", \"mechanism\", \"demonstrate\", \"process\", \"potential\", \"health\", \"care\", \"community\", \"service\", \"practice\", \"student\", \"program\", \"user\", \"education\", \"resource\", \"professional\", \"qualitative\", \"access\", \"communication\", \"healthcare\", \"old_adult\", \"physical_activity\", \"systematic_review\", \"implementation\", \"resident\", \"mother\", \"plan\", \"academic\", \"interview\", \"city\", \"participation\", \"facility\", \"industry\", \"personal\", \"web\", \"study\", \"intervention\", \"self\", \"search\", \"conduct\", \"participant\", \"survey\", \"training\", \"knowledge\", \"tool\", \"quality\", \"article\", \"evidence\", \"review\", \"management\", \"experience\", \"include\", \"design\", \"need\", \"medical\", \"use\", \"model\", \"method\", \"performance\", \"detection\", \"prediction\", \"accuracy\", \"nurse\", \"extract\", \"dataset\", \"visual\", \"extraction\", \"efficient\", \"traditional\", \"accurate\", \"selection\", \"instrument\", \"build\", \"movement\", \"mobility\", \"reliable\", \"analytical\", \"bias\", \"mixed\", \"validation\", \"fast\", \"pediatric\", \"placebo\", \"suitable\", \"coefficient\", \"preparation\", \"measurement\", \"set\", \"base\", \"use\", \"datum\", \"propose\", \"apply\", \"technique\", \"test\", \"sensitivity\", \"sample\", \"result\", \"obtain\", \"application\", \"scale\", \"predict\", \"distribution\", \"analysis\", \"develop\", \"paper\", \"design\", \"cost\", \"value\", \"system\", \"time\", \"different\", \"pandemic\", \"social\", \"depression\", \"parent\", \"psychological\", \"issue\", \"online\", \"anxiety\", \"home\", \"face\", \"economic\", \"caregiver\", \"effort\", \"emotion\", \"emotional\", \"sleep\", \"project\", \"outbreak\", \"epidemic\", \"language\", \"adapt\", \"behavioral\", \"crisis\", \"emergency\", \"contact\", \"world\", \"rural\", \"transition\", \"occupational\", \"ensure\", \"context\", \"mental_health\", \"behavior\", \"research\", \"state\", \"work\", \"impact\", \"recommendation\", \"problem\", \"support\", \"concern\", \"country\", \"life\", \"physical\", \"perspective\", \"information\", \"also\", \"relate\", \"focus\", \"well\", \"experience\", \"people\", \"change\", \"challenge\", \"condition\", \"relationship\", \"water\", \"temperature\", \"food\", \"sex\", \"noise\", \"fish\", \"maternal\", \"energy\", \"alcohol\", \"diet\", \"land\", \"protective\", \"ecosystem\", \"season\", \"nutrient\", \"consumption\", \"obesity\", \"hazard\", \"layer\", \"dietary\", \"whole\", \"power\", \"male_female\", \"dry\", \"intake\", \"disturbance\", \"groundwater\", \"storage\", \"particle\", \"sustainable\", \"exposure\", \"environmental\", \"product\", \"environment\", \"effect\", \"area\", \"concentration\", \"change\", \"content\", \"increase\", \"quality\", \"source\", \"condition\", \"brain\", \"policy\", \"mitochondrial\", \"restoration\", \"attribute\", \"probe\", \"xa\", \"trigger\", \"channel\", \"seizure\", \"lifestyle\", \"impairment\", \"music\", \"prostate_cancer\", \"height\", \"fetal\", \"detailed\", \"modulate\", \"loneliness\", \"adaptation\", \"stimulus\", \"chromosome\", \"bilateral\", \"stimulation\", \"reward\", \"leaf\", \"encounter\", \"homeostasis\", \"vascular\", \"angle\", \"cognitive\", \"cardiac\", \"function\", \"dysfunction\", \"heart\", \"effect\", \"disorder\", \"activation\", \"stress\", \"spinal\", \"compression\", \"psychological_distress\", \"trust\", \"ground\", \"artery\", \"southern\", \"min\", \"biomechanical\", \"latent\", \"thoracolumbar\", \"adjuvant\", \"incision\", \"malformation\", \"curative\", \"visceral\", \"timely\", \"bleeding\", \"pedicle_screw\", \"cigarette\", \"store\", \"allergy\", \"quarantine\", \"stiffness\", \"overlook\", \"gait_speed\", \"mechanical_ventilation\", \"modulus\", \"decide\"], \"Freq\": [5286.0, 2007.0, 1857.0, 1669.0, 1580.0, 1922.0, 1899.0, 1557.0, 1870.0, 1527.0, 1918.0, 1421.0, 1122.0, 1287.0, 1285.0, 1095.0, 1260.0, 1748.0, 1113.0, 1138.0, 1044.0, 1236.0, 762.0, 1213.0, 1170.0, 705.0, 1058.0, 1016.0, 871.0, 637.0, 5285.243761216656, 1212.2233346670484, 1169.690725277595, 875.9941090568631, 616.4746616396543, 612.9921651619512, 538.0804659076053, 511.33042311874306, 461.23068960624863, 373.1581669339281, 369.28262228440803, 361.9690270740555, 357.56045791021353, 353.988307793142, 349.16514224117464, 344.94576206334625, 341.57995244183485, 337.05119211591665, 327.6838342326142, 306.67558575258784, 286.96817479546763, 272.6954851818498, 252.10083185969611, 251.6323431649244, 228.44659301223732, 221.17981619913684, 216.42011993884176, 212.52034987038093, 210.65549322706883, 208.43948772142855, 1863.2508441137456, 1601.5242063702956, 463.2212224121519, 945.9027042701282, 627.4417460421743, 583.8173168280068, 425.8960986305838, 647.3769368817877, 554.1110764203701, 468.9293666781465, 397.9598156510015, 547.5625952500943, 420.0116072448605, 426.6976052137595, 464.6814079063655, 399.44320356802814, 421.59176624239984, 427.8471481391299, 398.3212597722326, 398.0003001786114, 1057.799913673542, 901.597656102997, 800.2164866641174, 796.4590566863269, 444.487855048965, 425.03707206721924, 346.4956219028717, 318.2414449343352, 310.9531847177059, 307.59264678570895, 305.5716464191857, 302.82056744995856, 272.3900896373916, 267.3552422851304, 252.50661819228952, 246.83418751857195, 236.07533838254506, 230.5980950638597, 228.59032508458222, 227.44842132148645, 223.17708082846133, 219.3610731154246, 201.12768147607463, 192.8683186642394, 189.21426576549044, 187.7786708914337, 185.24193985285058, 182.446002825092, 181.07583573884963, 176.33618650911433, 981.0076929329747, 331.14453666837414, 440.3636928282594, 522.4525699302394, 688.5315072955178, 456.75888264675956, 276.6711376334846, 376.11192203877766, 374.35365054560776, 622.0971140420642, 506.78861343759036, 348.73351450527844, 442.8067347192902, 640.6824026676247, 435.65672813506313, 383.00252691804167, 487.7520042056883, 443.2204387512436, 360.0078398828413, 412.4223284031382, 379.5544061710674, 357.02806701573473, 350.213517291555, 332.52793414186226, 1556.8473041554203, 1526.1565322845431, 1286.9437417231388, 1284.4369236862656, 1259.8595037496232, 1137.3917715477126, 703.8404940617115, 534.724145082133, 504.66328379280134, 384.35297384869415, 363.10874535430855, 326.90230614601114, 314.5346342520255, 252.66670950687484, 212.87141937745324, 203.7147115497902, 189.43517940165287, 184.92988757935805, 178.9015461402297, 171.9328174143535, 169.16305186821978, 167.52124536611535, 615.1012376821691, 158.6990267338159, 158.47270116412696, 156.34605059020544, 155.677881980633, 153.6631960459698, 309.1380873750884, 151.84426231086601, 727.4204619294129, 304.7474209015605, 1858.9157706832048, 984.4969586607563, 488.26577729740086, 263.1254628006996, 354.81450403492795, 213.80466736912214, 807.2933748667933, 733.0596456821568, 530.5157950514534, 800.1440318911084, 600.172839463006, 389.6781277748422, 679.4805582066396, 643.4376286870242, 458.2516519490025, 544.1977252335065, 500.7571308681702, 417.5612726990629, 379.753284680356, 420.23959907929014, 383.7672541815955, 2007.0291683497458, 1112.8418160870096, 610.783526871283, 426.5177329869089, 368.30603260337875, 320.14142308846516, 311.0004361415, 310.6612289188267, 302.30051047795337, 282.0392596236192, 270.891012528432, 266.16561847450026, 263.5238158279346, 257.2051586608115, 239.68516341398592, 234.279857932732, 219.5900182725112, 217.36834880491514, 212.1385755764848, 209.3376481924105, 200.85468116407716, 197.82216622192055, 191.25609202394511, 189.11656388415017, 166.01107691967985, 165.17715420813153, 163.49124125010354, 162.81854794379163, 160.2200836664952, 153.6470729579801, 446.1009251143855, 393.8123525811794, 539.5922220372601, 629.2678452991614, 256.47809971206465, 277.11626394892886, 393.0244361275695, 498.51764523333105, 341.48883070640807, 284.3372603503592, 302.6718509374858, 311.47742499232913, 247.2587361246426, 314.523501701887, 287.42694221805334, 271.59717301593747, 289.14648539491577, 257.4758011446888, 1668.773098291342, 1122.0896248018078, 651.2976801627135, 562.2196597668548, 471.70072680561503, 411.9713709334966, 371.1554827513051, 303.43889669216674, 298.53697779018404, 262.7044275028674, 260.6020806785679, 238.36824391815856, 235.88897548319687, 220.80092483773944, 220.59719337164444, 218.24811191929155, 211.70952161996675, 206.81783222085718, 198.69963005340608, 169.3159350018411, 168.8246735521098, 167.13334668138305, 154.1735600539553, 151.79662344449815, 151.46518264517132, 143.15553913378218, 143.11361534382957, 133.87701206009467, 133.61216115417116, 131.6878125861011, 1810.0897800261498, 993.944617778521, 507.28389309722763, 316.42219645749356, 485.01811673791934, 685.356625995043, 396.1183889724733, 259.9844345794301, 317.18258950439866, 380.2576306267719, 401.6910149201518, 290.56682130580134, 355.15229636320186, 430.55854937230623, 330.47898074495373, 345.9462344009947, 357.4097293197894, 339.9315565545767, 313.9952530336313, 268.7967956025212, 282.41439813952996, 1579.186772447191, 1094.5239354675111, 728.7470305433905, 525.3907192919606, 310.93259390560195, 302.9115571110547, 284.8347581566608, 266.2209250101052, 213.19511140189528, 189.57539433865458, 184.44760845617083, 177.03967835713095, 176.7135869283475, 169.58085382034295, 164.42788987226166, 162.4265762159743, 162.29866723841258, 156.96864937131897, 156.635339741028, 154.5080745855538, 154.07066380843614, 151.76643037362854, 150.24167706195746, 140.44707922004582, 130.57562588343856, 129.59981067929672, 124.07628384060158, 119.01171227538818, 117.83666247539811, 113.34632942570991, 348.5430206264508, 337.6153486614515, 1277.9832130921804, 1616.0085066623014, 974.7927153126983, 411.1327554843269, 420.1317729434682, 444.14269205993844, 655.5283838574886, 207.94018729895987, 527.7294655173662, 501.6355447251749, 314.59170823185633, 329.4172090109326, 287.9769024440965, 293.4055038158474, 288.0395417520942, 497.08538624265293, 361.48498677621126, 260.84747559156784, 340.2136320508929, 294.16290113606675, 302.66902554040104, 349.114530906491, 350.1123555081109, 313.76643534898636, 760.5838817307896, 682.2926624702482, 392.9971663453056, 297.4973393694544, 248.58420831485532, 235.76644193114785, 226.04059370040585, 208.92287545311893, 205.34729216230144, 190.104658096374, 186.12575279120514, 175.04187063405223, 171.77097891924623, 167.47035190336845, 160.769639950842, 153.22987665929324, 153.04267322374724, 152.98990657946604, 141.08243174281108, 138.67267350340538, 137.13551468791462, 136.58500947252833, 136.11583682797652, 135.8463812176035, 130.9462422419265, 130.26955339009461, 129.14238662804038, 123.4806991409661, 123.41035525581471, 122.87899875647577, 279.9547873587246, 478.13042555930394, 435.4749552222906, 821.2051547262415, 327.30517365383776, 595.8374084939012, 695.0620274184998, 208.1495001359441, 267.1353912970557, 541.2115344698062, 275.540315696681, 324.7842946585732, 264.4401367599133, 296.7292255839837, 185.11323387374068, 320.28226272777084, 340.0078382112376, 396.33386212808455, 267.09986431749553, 303.63438063677717, 271.9673398906018, 244.26581780919747, 249.3843801939396, 220.0093418138965, 225.6601803019701, 221.587079610628, 636.2584521750862, 332.6199491309125, 308.6600415613692, 289.49766885409997, 192.10029645314827, 170.9806335566577, 169.9751426272352, 162.62281636040112, 159.21179072859223, 144.92658343415377, 139.96853168847267, 140.22705540333402, 138.4371470407252, 138.1497403331089, 136.36590158491958, 133.73187031762765, 129.46419186447196, 128.81006882082443, 127.28962343216868, 123.73214567864213, 123.44578545627058, 118.86862643340282, 117.28710816586386, 116.70132060869808, 111.04800499611444, 107.33878688210012, 103.4180322407134, 102.77096948418375, 101.35674234786944, 98.86617025449522, 692.4311011106768, 583.9527197033244, 269.00500410371313, 329.7970063472395, 913.504262471557, 303.14269228835093, 246.3571378746191, 321.08547713825976, 183.30347172015362, 290.7569115256678, 176.14555450551964, 152.82428199800162, 134.56011455286384, 380.63276304379286, 256.97065256746305, 208.8807107731017, 197.02363548985969, 171.35647693485646, 163.391104535324, 140.70385043417184, 133.0075592451481, 124.86994767848472, 96.41403491862064, 85.02429820080512, 84.29518329374498, 82.42508742098566, 82.21236247043628, 81.22143414118983, 78.84430497137568, 73.2672600685623, 72.2929747273705, 71.48916722705799, 69.76744300569725, 69.14613980551182, 68.62792672182836, 68.38517270371209, 66.1197981395394, 63.74488762279307, 62.831896435157226, 62.411353527194485, 62.16240705678308, 61.28870271469625, 59.9441371546797, 248.52961083833858, 162.89049235397238, 376.61698863086485, 103.41446627623303, 76.94280187050876, 162.60151124686655, 80.98707268816015, 69.76966165876506, 346.54581242041365, 59.09746911240604, 58.63215429394988, 48.027640579017756, 41.74632479737093, 40.998671238424585, 40.71316290908557, 35.45892645064678, 34.89308716307769, 30.8513960942057, 28.054456708710525, 28.0293312312701, 26.829912564204434, 25.642464452889, 24.504731511862538, 23.975187400515185, 23.079303394386503, 22.39389531538193, 21.857593268379585, 21.415174781469723, 20.528183389606852, 20.43035194304786, 18.44550549334862, 17.928261868263345, 17.74436508677501, 16.518336254965618, 17.619479338244812, 16.04742953732154, 15.741782757124975, 15.293411421407402], \"Total\": [5286.0, 2007.0, 1857.0, 1669.0, 1580.0, 1922.0, 1899.0, 1557.0, 1870.0, 1527.0, 1918.0, 1421.0, 1122.0, 1287.0, 1285.0, 1095.0, 1260.0, 1748.0, 1113.0, 1138.0, 1044.0, 1236.0, 762.0, 1213.0, 1170.0, 705.0, 1058.0, 1016.0, 871.0, 637.0, 5286.125520915401, 1213.1051403602867, 1170.5725600227952, 876.8759713674303, 617.3564456098538, 613.8739657759359, 538.9622629647242, 512.2123435385774, 462.11243007177563, 374.04005491254827, 370.16435723215784, 362.8508442836215, 358.44218532097074, 354.87039922068027, 350.04694441876956, 345.8275239675661, 342.46182302281153, 337.9330352202033, 328.5656477972878, 307.5573917235785, 287.85003969245355, 273.5773370187699, 252.98283398231226, 252.5141170644484, 229.32835797425918, 222.06202972332014, 217.3021058555597, 213.4023965736445, 211.53752796545456, 209.32130261413934, 1918.9890251657107, 1748.516993869227, 483.4110015550751, 1127.2392426076326, 745.1239345406171, 692.5753807606213, 511.7345981437837, 925.6286566558615, 799.5516304821941, 638.8079474304857, 491.0176098274397, 1015.7464262897702, 566.5063754168866, 609.6186847507178, 881.9589595483037, 548.9788088078218, 1085.8565684522976, 1228.768935272746, 1254.065752094567, 1870.9633353562735, 1058.6719790812688, 902.4698851538251, 801.088597789277, 797.3311600788971, 445.359978789384, 425.9091881361872, 347.3678841747699, 319.11351895764, 311.82559932565215, 308.46516046948057, 306.44392440183236, 303.69275807306974, 273.26220303468995, 268.2275497130625, 253.3788223221223, 247.70645957076962, 236.94771163283528, 231.47034255172682, 229.46261232313609, 228.32046882419922, 224.04933394390787, 220.2335519974384, 201.99982217165098, 193.74059067799914, 190.086643259519, 188.65110480943753, 186.11426868521576, 183.31830108286854, 181.94821613383903, 177.20846128838417, 1001.8560874646636, 340.6956185079124, 465.8453711069418, 580.4258111141406, 792.1616243230893, 531.1997632840639, 297.3412820167308, 431.1695578787727, 431.08652878052783, 922.9614548343476, 704.9601177141174, 424.45854072257123, 648.2090425512731, 1165.1842319849166, 683.0900382761884, 551.0097653347342, 985.5201382036629, 934.2442317695827, 605.5746340010594, 911.6951371568803, 715.3172103332817, 645.2102211303448, 616.5843379610309, 712.4598725610256, 1557.7341113641555, 1527.0432671235199, 1287.8304382465174, 1285.323637204948, 1260.7465886884866, 1138.2811347387155, 704.7272247382807, 535.6108406539289, 505.5502226409845, 385.2396892623818, 363.9953987689964, 327.78912339198854, 315.4213674828044, 253.55344814214862, 213.7582587795815, 204.60141592912157, 190.3219398492664, 185.81651257222984, 179.78851190000253, 172.81973661020282, 170.0498294510094, 168.40810129893543, 618.3660026709088, 159.58590421320315, 159.35957046533693, 157.23455316232466, 156.56463977439066, 154.54999269474163, 310.93660170247534, 152.7312419404973, 740.2694059366607, 308.0891600346965, 1922.4876281115678, 1016.3875384254329, 502.7424545321736, 276.96105931656285, 397.8540440585347, 223.0528612458517, 1047.2814870800237, 1049.7349117876236, 720.5286376319119, 1228.768935272746, 884.4752420045955, 512.7142044665447, 1284.9374979345405, 1254.065752094567, 757.3676748850969, 1250.5349148040532, 1085.8565684522976, 718.555147413764, 604.5218821495603, 1165.1842319849166, 912.3077842867993, 2007.9028077088637, 1113.7154580878782, 611.6573388739031, 427.39163033892174, 369.1798634452451, 321.0150691090617, 311.87418785735866, 311.53491974845707, 303.17424460999484, 282.9129508952851, 271.764782321998, 267.0393653357487, 264.3975161820017, 258.0788206816074, 240.55898417937388, 235.15369622003598, 220.46366945676968, 218.2421397720142, 213.01222124380376, 210.2113334540416, 201.72846189354635, 198.6958639323139, 192.12977770501595, 189.99019473131887, 166.88481088500507, 166.05092462293393, 164.36488010348788, 163.6923192014891, 161.09371152253445, 154.52123004764746, 450.99601395485723, 436.873917498331, 641.9647627235959, 871.5252246744249, 287.141372183264, 327.4290607162237, 542.7075035411807, 911.6951371568803, 543.1699295208716, 407.08244532507996, 477.3339910365409, 692.5728701178338, 354.59074578059017, 900.2637103181934, 645.2102211303448, 543.6651017421174, 863.0109520909026, 653.4976681557446, 1669.6718262282743, 1122.9883034554243, 652.1965104402067, 563.1187748696773, 472.5994608401297, 412.87014806982245, 372.05428061644045, 304.3376344511575, 299.43569658152614, 263.60317650637063, 261.5008026349644, 239.2669545991921, 236.78768349872684, 221.69972720749314, 221.49588376216772, 219.14686113021196, 212.6083850847554, 207.71657480692934, 199.59840391650073, 170.21480702695828, 169.72342994382322, 168.03225173715012, 155.07234754533928, 152.69529896021993, 152.36416325894794, 144.05426229797934, 144.01227373927946, 134.77607402109246, 134.5111079663831, 132.58658077737894, 1857.8424849399253, 1044.2770150515955, 567.3776679459041, 341.9255938135232, 585.3838729100452, 935.8656101353895, 510.66506248225346, 312.61376430980204, 437.98464830166677, 596.3634129844664, 662.9590237868861, 429.7661442079864, 650.2845086210585, 985.5201382036629, 564.5684738542285, 667.0675407575677, 806.49467418063, 708.7429527131609, 582.6186064585621, 549.0550134197694, 1899.223962724879, 1580.0798992680877, 1095.417030942752, 729.640176604135, 526.2838273624211, 311.82568963792255, 303.8045835341991, 285.728280652722, 267.11411598928316, 214.0881423684351, 190.4686343136768, 185.34069523426027, 177.93282174520076, 177.60678576930238, 170.47404239484564, 165.3210098511899, 163.31981126576255, 163.19194072044021, 157.86181151984746, 157.52862329604378, 155.40129092627274, 154.96379751196977, 152.65960996995054, 151.13519494005777, 141.34016662603526, 131.46874149488974, 130.49327976343076, 124.9694589597358, 119.90486050288511, 118.72979357930357, 114.23944044058443, 352.7466633283044, 343.436863200447, 1421.3468978802007, 1899.223962724879, 1236.8652187136627, 480.80448359097574, 494.43107200323783, 543.8685001363859, 895.2847172273096, 225.78993712162662, 912.3077842867993, 894.9206897844508, 453.0696765757082, 490.35236986567446, 409.11773661263294, 436.73038636663176, 451.74073778786953, 1250.5349148040532, 743.0919883639868, 388.06334413651, 708.7429527131609, 544.76158623269, 586.0840181632584, 857.4522150596254, 1066.4587404917747, 819.9910842908631, 761.4858770580312, 683.1946624891431, 393.9027516386254, 298.39939666221187, 249.48627603818053, 236.6684912075483, 226.94257380749426, 209.8249779774969, 206.24936315053424, 191.00665457827463, 187.02782021229885, 175.94385378793658, 172.67303501940884, 168.3723685230422, 161.67168398776911, 154.13193323153556, 153.94476265110106, 153.89191822758895, 141.98446097414998, 139.5748658445676, 138.03767206064498, 137.48704638444244, 137.01793065381497, 136.74844787981127, 131.84838545424205, 131.17166805495873, 130.04453412590703, 124.3827267886042, 124.31246405233881, 123.78110229695757, 284.35182795903245, 491.81561580244227, 448.42226983874406, 871.2629681214886, 352.27582884664565, 685.9606190745803, 827.8882392759506, 219.5478096781419, 305.34318916268614, 745.6080821861126, 326.01510597747597, 404.9854896391432, 326.1495868477029, 407.80032480703244, 204.52143078247963, 493.82187749892233, 611.3116856862879, 889.9617765427588, 418.77821825674295, 715.3172103332817, 667.0675407575677, 580.5192023771691, 1100.156272633271, 381.9521241129314, 572.738275300361, 591.8735008129541, 637.1537134758178, 333.51521048914026, 309.55532865562054, 290.3930925695163, 192.99583653113143, 171.87586927358754, 170.87046982116505, 163.5181014671563, 160.10722268668715, 145.82181086825932, 140.86380134774382, 141.1246643771836, 139.3323705082797, 139.04515696842788, 137.26114155295681, 134.62725029141282, 130.35950943167418, 129.70557837032848, 128.1849883366265, 124.62741553587074, 124.3413134049769, 119.76410316572594, 118.18268508905268, 117.59656511726675, 111.94327355032426, 108.23425137594893, 104.31330027933336, 103.66623948736246, 102.25203558560244, 99.76156911651755, 705.2454609256322, 614.0263991721828, 307.9849641696447, 412.7640543623404, 1870.9633353562735, 657.9222362873599, 468.15112068960394, 1100.156272633271, 347.0979618870423, 1284.9374979345405, 662.9590237868861, 338.82098845006817, 572.738275300361, 381.5184715854303, 257.85667980109866, 209.7664519231219, 197.90967311035692, 172.24263944346174, 164.27705523972747, 141.58975249198988, 133.89356941033128, 125.75574158111428, 97.2998719040784, 85.91030128169177, 85.18129776165436, 83.31109252932758, 83.09850725167236, 82.10757056446286, 79.7301872549092, 74.15334415177317, 73.17884837803943, 72.37534287293785, 70.65357546561981, 70.0319195430594, 69.51367170381315, 69.27093139038556, 67.00560807144736, 64.63069410236874, 63.71768086236218, 63.29735698377062, 63.048205051679695, 62.174471532073156, 60.83009499830704, 390.8434626223223, 231.1753552284094, 762.9909668292767, 132.62882898648263, 115.35472623224608, 1870.9633353562735, 408.09929663626747, 191.46354212709562, 347.47347674387765, 60.025089916795835, 59.55992353795636, 48.95571734131523, 42.67401568401891, 41.926338740407644, 41.640755846844485, 36.38656829602374, 35.820771549658346, 31.779050860591415, 28.982362564224115, 28.96074807255117, 27.75772054906803, 26.570176694552842, 25.432463929087966, 24.902940054980267, 24.007080226828357, 23.321739115271054, 22.78534112610201, 22.35989873532667, 21.45628958846377, 21.358220403948938, 19.373171564892466, 18.856070985027035, 18.671890613114808, 17.44628490286026, 18.61610618986905, 16.974995854082213, 16.66943185378343, 16.221358410788415], \"Category\": [\"Default\", \"Default\", \"Default\", \"Default\", \"Default\", \"Default\", \"Default\", \"Default\", \"Default\", \"Default\", \"Default\", \"Default\", \"Default\", \"Default\", \"Default\", \"Default\", \"Default\", \"Default\", \"Default\", \"Default\", \"Default\", \"Default\", \"Default\", \"Default\", \"Default\", \"Default\", \"Default\", \"Default\", \"Default\", \"Default\", \"Topic1\", \"Topic1\", \"Topic1\", \"Topic1\", \"Topic1\", \"Topic1\", \"Topic1\", \"Topic1\", \"Topic1\", \"Topic1\", \"Topic1\", \"Topic1\", \"Topic1\", \"Topic1\", \"Topic1\", \"Topic1\", \"Topic1\", \"Topic1\", \"Topic1\", \"Topic1\", \"Topic1\", \"Topic1\", \"Topic1\", \"Topic1\", \"Topic1\", \"Topic1\", \"Topic1\", \"Topic1\", \"Topic1\", \"Topic1\", \"Topic1\", \"Topic1\", \"Topic1\", \"Topic1\", \"Topic1\", \"Topic1\", \"Topic1\", \"Topic1\", \"Topic1\", \"Topic1\", \"Topic1\", \"Topic1\", \"Topic1\", \"Topic1\", \"Topic1\", \"Topic1\", \"Topic1\", \"Topic1\", \"Topic1\", \"Topic1\", \"Topic2\", \"Topic2\", \"Topic2\", \"Topic2\", \"Topic2\", \"Topic2\", \"Topic2\", \"Topic2\", \"Topic2\", \"Topic2\", \"Topic2\", \"Topic2\", \"Topic2\", \"Topic2\", \"Topic2\", \"Topic2\", \"Topic2\", \"Topic2\", \"Topic2\", \"Topic2\", \"Topic2\", \"Topic2\", \"Topic2\", \"Topic2\", \"Topic2\", \"Topic2\", \"Topic2\", \"Topic2\", \"Topic2\", \"Topic2\", \"Topic2\", \"Topic2\", \"Topic2\", \"Topic2\", \"Topic2\", \"Topic2\", \"Topic2\", \"Topic2\", \"Topic2\", \"Topic2\", \"Topic2\", \"Topic2\", \"Topic2\", \"Topic2\", \"Topic2\", \"Topic2\", \"Topic2\", \"Topic2\", \"Topic2\", \"Topic2\", \"Topic2\", \"Topic2\", \"Topic2\", \"Topic2\", \"Topic3\", \"Topic3\", \"Topic3\", \"Topic3\", \"Topic3\", \"Topic3\", \"Topic3\", \"Topic3\", \"Topic3\", \"Topic3\", \"Topic3\", \"Topic3\", \"Topic3\", \"Topic3\", \"Topic3\", \"Topic3\", \"Topic3\", \"Topic3\", \"Topic3\", \"Topic3\", \"Topic3\", \"Topic3\", \"Topic3\", \"Topic3\", \"Topic3\", \"Topic3\", \"Topic3\", \"Topic3\", \"Topic3\", \"Topic3\", \"Topic3\", \"Topic3\", \"Topic3\", \"Topic3\", \"Topic3\", \"Topic3\", \"Topic3\", \"Topic3\", \"Topic3\", \"Topic3\", \"Topic3\", \"Topic3\", \"Topic3\", \"Topic3\", \"Topic3\", \"Topic3\", \"Topic3\", \"Topic3\", \"Topic3\", \"Topic3\", \"Topic3\", \"Topic3\", \"Topic3\", \"Topic4\", \"Topic4\", \"Topic4\", \"Topic4\", \"Topic4\", \"Topic4\", \"Topic4\", \"Topic4\", \"Topic4\", \"Topic4\", \"Topic4\", \"Topic4\", \"Topic4\", \"Topic4\", \"Topic4\", \"Topic4\", \"Topic4\", \"Topic4\", \"Topic4\", \"Topic4\", \"Topic4\", \"Topic4\", \"Topic4\", \"Topic4\", \"Topic4\", \"Topic4\", \"Topic4\", \"Topic4\", \"Topic4\", \"Topic4\", \"Topic4\", \"Topic4\", \"Topic4\", \"Topic4\", \"Topic4\", \"Topic4\", \"Topic4\", \"Topic4\", \"Topic4\", \"Topic4\", \"Topic4\", \"Topic4\", \"Topic4\", \"Topic4\", \"Topic4\", \"Topic4\", \"Topic4\", \"Topic4\", \"Topic5\", \"Topic5\", \"Topic5\", \"Topic5\", \"Topic5\", \"Topic5\", \"Topic5\", \"Topic5\", \"Topic5\", \"Topic5\", \"Topic5\", \"Topic5\", \"Topic5\", \"Topic5\", \"Topic5\", \"Topic5\", \"Topic5\", \"Topic5\", \"Topic5\", \"Topic5\", \"Topic5\", \"Topic5\", \"Topic5\", \"Topic5\", \"Topic5\", \"Topic5\", \"Topic5\", \"Topic5\", \"Topic5\", \"Topic5\", \"Topic5\", \"Topic5\", \"Topic5\", \"Topic5\", \"Topic5\", \"Topic5\", \"Topic5\", \"Topic5\", \"Topic5\", \"Topic5\", \"Topic5\", \"Topic5\", \"Topic5\", \"Topic5\", \"Topic5\", \"Topic5\", \"Topic5\", \"Topic5\", \"Topic5\", \"Topic5\", \"Topic5\", \"Topic6\", \"Topic6\", \"Topic6\", \"Topic6\", \"Topic6\", \"Topic6\", \"Topic6\", \"Topic6\", \"Topic6\", \"Topic6\", \"Topic6\", \"Topic6\", \"Topic6\", \"Topic6\", \"Topic6\", \"Topic6\", \"Topic6\", \"Topic6\", \"Topic6\", \"Topic6\", \"Topic6\", \"Topic6\", \"Topic6\", \"Topic6\", \"Topic6\", \"Topic6\", \"Topic6\", \"Topic6\", \"Topic6\", \"Topic6\", \"Topic6\", \"Topic6\", \"Topic6\", \"Topic6\", \"Topic6\", \"Topic6\", \"Topic6\", \"Topic6\", \"Topic6\", \"Topic6\", \"Topic6\", \"Topic6\", \"Topic6\", \"Topic6\", \"Topic6\", \"Topic6\", \"Topic6\", \"Topic6\", \"Topic6\", \"Topic6\", \"Topic6\", \"Topic6\", \"Topic6\", \"Topic6\", \"Topic6\", \"Topic6\", \"Topic7\", \"Topic7\", \"Topic7\", \"Topic7\", \"Topic7\", \"Topic7\", \"Topic7\", \"Topic7\", \"Topic7\", \"Topic7\", \"Topic7\", \"Topic7\", \"Topic7\", \"Topic7\", \"Topic7\", \"Topic7\", \"Topic7\", \"Topic7\", \"Topic7\", \"Topic7\", \"Topic7\", \"Topic7\", \"Topic7\", \"Topic7\", \"Topic7\", \"Topic7\", \"Topic7\", \"Topic7\", \"Topic7\", \"Topic7\", \"Topic7\", \"Topic7\", \"Topic7\", \"Topic7\", \"Topic7\", \"Topic7\", \"Topic7\", \"Topic7\", \"Topic7\", \"Topic7\", \"Topic7\", \"Topic7\", \"Topic7\", \"Topic7\", \"Topic7\", \"Topic7\", \"Topic7\", \"Topic7\", \"Topic7\", \"Topic7\", \"Topic7\", \"Topic7\", \"Topic7\", \"Topic7\", \"Topic7\", \"Topic7\", \"Topic8\", \"Topic8\", \"Topic8\", \"Topic8\", \"Topic8\", \"Topic8\", \"Topic8\", \"Topic8\", \"Topic8\", \"Topic8\", \"Topic8\", \"Topic8\", \"Topic8\", \"Topic8\", \"Topic8\", \"Topic8\", \"Topic8\", \"Topic8\", \"Topic8\", \"Topic8\", \"Topic8\", \"Topic8\", \"Topic8\", \"Topic8\", \"Topic8\", \"Topic8\", \"Topic8\", \"Topic8\", \"Topic8\", \"Topic8\", \"Topic8\", \"Topic8\", \"Topic8\", \"Topic8\", \"Topic8\", \"Topic8\", \"Topic8\", \"Topic8\", \"Topic8\", \"Topic8\", \"Topic8\", \"Topic8\", \"Topic8\", \"Topic9\", \"Topic9\", \"Topic9\", \"Topic9\", \"Topic9\", \"Topic9\", \"Topic9\", \"Topic9\", \"Topic9\", \"Topic9\", \"Topic9\", \"Topic9\", \"Topic9\", \"Topic9\", \"Topic9\", \"Topic9\", \"Topic9\", \"Topic9\", \"Topic9\", \"Topic9\", \"Topic9\", \"Topic9\", \"Topic9\", \"Topic9\", \"Topic9\", \"Topic9\", \"Topic9\", \"Topic9\", \"Topic9\", \"Topic9\", \"Topic9\", \"Topic9\", \"Topic9\", \"Topic9\", \"Topic9\", \"Topic9\", \"Topic9\", \"Topic9\", \"Topic10\", \"Topic10\", \"Topic10\", \"Topic10\", \"Topic10\", \"Topic10\", \"Topic10\", \"Topic10\", \"Topic10\", \"Topic10\", \"Topic10\", \"Topic10\", \"Topic10\", \"Topic10\", \"Topic10\", \"Topic10\", \"Topic10\", \"Topic10\", \"Topic10\", \"Topic10\", \"Topic10\", \"Topic10\", \"Topic10\", \"Topic10\", \"Topic10\", \"Topic10\", \"Topic10\", \"Topic10\", \"Topic10\", \"Topic10\"], \"logprob\": [30.0, 29.0, 28.0, 27.0, 26.0, 25.0, 24.0, 23.0, 22.0, 21.0, 20.0, 19.0, 18.0, 17.0, 16.0, 15.0, 14.0, 13.0, 12.0, 11.0, 10.0, 9.0, 8.0, 7.0, 6.0, 5.0, 4.0, 3.0, 2.0, 1.0, -2.8729, -4.3453, -4.381, -4.6702, -5.0215, -5.0272, -5.1575, -5.2085, -5.3116, -5.5235, -5.534, -5.554, -5.5662, -5.5763, -5.59, -5.6022, -5.612, -5.6253, -5.6535, -5.7198, -5.7862, -5.8372, -5.9157, -5.9176, -6.0142, -6.0466, -6.0683, -6.0865, -6.0953, -6.1059, -3.9155, -4.0668, -5.3073, -4.5934, -5.0039, -5.076, -5.3913, -4.9726, -5.1282, -5.2951, -5.4592, -5.1401, -5.4053, -5.3895, -5.3042, -5.4555, -5.4015, -5.3868, -5.4583, -5.4591, -4.3753, -4.5351, -4.6544, -4.6591, -5.2424, -5.2871, -5.4914, -5.5765, -5.5996, -5.6105, -5.6171, -5.6261, -5.732, -5.7507, -5.8078, -5.8306, -5.8751, -5.8986, -5.9073, -5.9124, -5.9313, -5.9486, -6.0353, -6.0773, -6.0964, -6.104, -6.1176, -6.1328, -6.1404, -6.1669, -4.4507, -5.5367, -5.2517, -5.0807, -4.8047, -5.2151, -5.7164, -5.4094, -5.4141, -4.9062, -5.1112, -5.485, -5.2461, -4.8767, -5.2624, -5.3912, -5.1495, -5.2452, -5.4532, -5.3172, -5.4003, -5.4615, -5.4807, -5.5326, -3.8197, -3.8396, -4.0101, -4.0121, -4.0314, -4.1336, -4.6136, -4.8884, -4.9463, -5.2186, -5.2754, -5.3805, -5.419, -5.6381, -5.8095, -5.8534, -5.9261, -5.9502, -5.9833, -6.023, -6.0393, -6.049, -4.7484, -6.1031, -6.1046, -6.1181, -6.1224, -6.1354, -5.4364, -6.1473, -4.5806, -5.4507, -3.6424, -4.278, -4.9793, -5.5975, -5.2985, -5.8051, -4.4765, -4.5729, -4.8963, -4.4854, -4.7729, -5.2048, -4.6488, -4.7033, -5.0427, -4.8708, -4.954, -5.1357, -5.2306, -5.1293, -5.2201, -3.4569, -4.0466, -4.6465, -5.0056, -5.1524, -5.2925, -5.3215, -5.3226, -5.3499, -5.4192, -5.4596, -5.4772, -5.4871, -5.5114, -5.582, -5.6048, -5.6695, -5.6797, -5.704, -5.7173, -5.7587, -5.7739, -5.8077, -5.8189, -5.9492, -5.9543, -5.9645, -5.9686, -5.9847, -6.0266, -4.9607, -5.0854, -4.7705, -4.6167, -5.5142, -5.4368, -5.0874, -4.8496, -5.228, -5.4111, -5.3486, -5.32, -5.5508, -5.3102, -5.4003, -5.457, -5.3944, -5.5104, -3.4522, -3.849, -4.393, -4.5401, -4.7157, -4.851, -4.9554, -5.1568, -5.1731, -5.301, -5.309, -5.3982, -5.4086, -5.4747, -5.4757, -5.4864, -5.5168, -5.5402, -5.5802, -5.7402, -5.7431, -5.7532, -5.8339, -5.8495, -5.8516, -5.9081, -5.9084, -5.9751, -5.9771, -5.9916, -3.3709, -3.9703, -4.6429, -5.1149, -4.6878, -4.3421, -4.8903, -5.3114, -5.1125, -4.9311, -4.8763, -5.2002, -4.9995, -4.8069, -5.0715, -5.0257, -4.9931, -5.0433, -5.1226, -5.278, -5.2286, -3.5048, -3.8714, -4.2781, -4.6053, -5.1299, -5.156, -5.2175, -5.2851, -5.5072, -5.6247, -5.6521, -5.6931, -5.6949, -5.7361, -5.767, -5.7792, -5.78, -5.8134, -5.8155, -5.8292, -5.832, -5.8471, -5.8572, -5.9246, -5.9975, -6.005, -6.0485, -6.0902, -6.1001, -6.139, -5.0157, -5.0475, -3.7164, -3.4817, -3.9872, -4.8505, -4.8289, -4.7733, -4.384, -5.5322, -4.6009, -4.6516, -5.1182, -5.0721, -5.2066, -5.1879, -5.2063, -4.6607, -4.9792, -5.3055, -5.0399, -5.1853, -5.1568, -5.014, -5.0112, -5.1208, -4.1856, -4.2942, -4.8459, -5.1243, -5.3039, -5.3569, -5.399, -5.4777, -5.495, -5.5721, -5.5933, -5.6547, -5.6735, -5.6989, -5.7397, -5.7878, -5.789, -5.7893, -5.8704, -5.8876, -5.8987, -5.9027, -5.9062, -5.9082, -5.9449, -5.9501, -5.9588, -6.0036, -6.0042, -6.0085, -5.1851, -4.6498, -4.7433, -4.1089, -5.0288, -4.4297, -4.2757, -5.4814, -5.2319, -4.5259, -5.201, -5.0365, -5.2421, -5.1269, -5.5987, -5.0505, -4.9907, -4.8374, -5.2321, -5.1039, -5.214, -5.3214, -5.3007, -5.426, -5.4007, -5.4189, -3.8522, -4.5008, -4.5755, -4.6396, -5.0497, -5.1662, -5.1721, -5.2163, -5.2375, -5.3315, -5.3663, -5.3645, -5.3773, -5.3794, -5.3924, -5.4119, -5.4444, -5.4494, -5.4613, -5.4896, -5.492, -5.5297, -5.5431, -5.5481, -5.5978, -5.6318, -5.669, -5.6753, -5.6891, -5.714, -3.7675, -3.9379, -4.713, -4.5093, -3.4905, -4.5936, -4.801, -4.536, -5.0966, -4.6353, -5.1364, -5.2785, -5.4057, -3.5516, -3.9444, -4.1516, -4.2101, -4.3496, -4.3972, -4.5467, -4.603, -4.6661, -4.9247, -5.0504, -5.0591, -5.0815, -5.0841, -5.0962, -5.1259, -5.1993, -5.2127, -5.2238, -5.2482, -5.2572, -5.2647, -5.2682, -5.3019, -5.3385, -5.3529, -5.3596, -5.3636, -5.3778, -5.4, -3.9778, -4.4003, -3.5622, -4.8546, -5.1503, -4.4021, -5.0991, -5.2482, -2.1676, -3.9364, -3.9443, -4.1438, -4.284, -4.3021, -4.3091, -4.4472, -4.4633, -4.5864, -4.6815, -4.6824, -4.7261, -4.7714, -4.8167, -4.8386, -4.8767, -4.9068, -4.9311, -4.9515, -4.9938, -4.9986, -5.1008, -5.1292, -5.1395, -5.2111, -5.1466, -5.2401, -5.2593, -5.2882], \"loglift\": [30.0, 29.0, 28.0, 27.0, 26.0, 25.0, 24.0, 23.0, 22.0, 21.0, 20.0, 19.0, 18.0, 17.0, 16.0, 15.0, 14.0, 13.0, 12.0, 11.0, 10.0, 9.0, 8.0, 7.0, 6.0, 5.0, 4.0, 3.0, 2.0, 1.0, 1.7036, 1.7031, 1.703, 1.7028, 1.7024, 1.7023, 1.7021, 1.7021, 1.7019, 1.7014, 1.7014, 1.7014, 1.7013, 1.7013, 1.7013, 1.7012, 1.7012, 1.7012, 1.7011, 1.7009, 1.7007, 1.7006, 1.7003, 1.7003, 1.6999, 1.6998, 1.6997, 1.6996, 1.6996, 1.6996, 1.6743, 1.616, 1.6611, 1.5284, 1.5319, 1.533, 1.5202, 1.3462, 1.3371, 1.3946, 1.4937, 1.0859, 1.4046, 1.347, 1.063, 1.3858, 0.7577, 0.6488, 0.5569, 0.156, 1.8092, 1.8091, 1.809, 1.809, 1.8081, 1.808, 1.8075, 1.8073, 1.8072, 1.8072, 1.8072, 1.8072, 1.8069, 1.8068, 1.8066, 1.8065, 1.8064, 1.8063, 1.8062, 1.8062, 1.8062, 1.8061, 1.8057, 1.8055, 1.8055, 1.8054, 1.8054, 1.8053, 1.8052, 1.8051, 1.789, 1.7816, 1.7538, 1.7048, 1.6698, 1.6591, 1.738, 1.6734, 1.6689, 1.4156, 1.48, 1.6135, 1.429, 1.212, 1.3603, 1.4463, 1.1067, 1.0644, 1.29, 1.0168, 1.1763, 1.2183, 1.2444, 1.0481, 1.9786, 1.9786, 1.9785, 1.9785, 1.9785, 1.9784, 1.9779, 1.9775, 1.9774, 1.9769, 1.9767, 1.9765, 1.9764, 1.9757, 1.975, 1.9748, 1.9745, 1.9744, 1.9742, 1.974, 1.974, 1.9739, 1.9739, 1.9736, 1.9736, 1.9735, 1.9735, 1.9734, 1.9734, 1.9734, 1.9617, 1.9683, 1.9456, 1.9473, 1.95, 1.9279, 1.8647, 1.9368, 1.7189, 1.6201, 1.6731, 1.5502, 1.5914, 1.7048, 1.342, 1.3119, 1.4768, 1.1472, 1.2052, 1.4364, 1.5143, 0.9594, 1.1132, 2.0876, 2.0873, 2.0866, 2.086, 2.0857, 2.0853, 2.0852, 2.0852, 2.0852, 2.085, 2.0848, 2.0848, 2.0847, 2.0847, 2.0844, 2.0843, 2.0841, 2.084, 2.0839, 2.0839, 2.0837, 2.0836, 2.0835, 2.0834, 2.0828, 2.0828, 2.0827, 2.0827, 2.0826, 2.0824, 2.0771, 1.9843, 1.9143, 1.7624, 1.9751, 1.9212, 1.7653, 1.4844, 1.6239, 1.7292, 1.6325, 1.289, 1.7275, 1.0364, 1.2794, 1.394, 0.9945, 1.1566, 2.2768, 2.2765, 2.276, 2.2757, 2.2754, 2.2752, 2.2749, 2.2744, 2.2743, 2.2739, 2.2739, 2.2736, 2.2735, 2.2733, 2.2733, 2.2732, 2.2731, 2.273, 2.2728, 2.272, 2.272, 2.272, 2.2715, 2.2714, 2.2714, 2.2711, 2.2711, 2.2706, 2.2706, 2.2705, 2.2513, 2.2279, 2.1654, 2.1998, 2.0892, 1.9658, 2.0233, 2.093, 1.9546, 1.8273, 1.7763, 1.8859, 1.6725, 1.4492, 1.7418, 1.6207, 1.4635, 1.5426, 1.6592, 1.5631, 0.3715, 2.2793, 2.2791, 2.2787, 2.2782, 2.277, 2.2769, 2.2768, 2.2765, 2.2757, 2.2752, 2.2751, 2.2749, 2.2748, 2.2746, 2.2745, 2.2744, 2.2744, 2.2742, 2.2742, 2.2741, 2.2741, 2.274, 2.274, 2.2736, 2.2731, 2.273, 2.2727, 2.2724, 2.2723, 2.272, 2.2679, 2.2628, 2.1736, 2.1184, 2.0418, 2.1233, 2.1171, 2.0773, 1.9682, 2.1975, 1.7325, 1.701, 1.9151, 1.8821, 1.9288, 1.8821, 1.8299, 1.3573, 1.5593, 1.8827, 1.546, 1.6637, 1.6191, 1.3813, 1.166, 1.3192, 2.3284, 2.3283, 2.3273, 2.3266, 2.326, 2.3258, 2.3257, 2.3253, 2.3253, 2.3249, 2.3248, 2.3245, 2.3244, 2.3243, 2.324, 2.3238, 2.3238, 2.3238, 2.3233, 2.3231, 2.3231, 2.3231, 2.323, 2.323, 2.3228, 2.3227, 2.3227, 2.3224, 2.3224, 2.3223, 2.314, 2.3014, 2.3003, 2.2705, 2.2561, 2.1888, 2.1548, 2.2763, 2.196, 2.0092, 2.1614, 2.1089, 2.1199, 2.0117, 2.2299, 1.8967, 1.743, 1.5207, 1.8799, 1.4727, 1.4324, 1.464, 0.8454, 1.778, 1.3982, 1.3472, 2.8402, 2.8389, 2.8387, 2.8385, 2.8369, 2.8363, 2.8363, 2.8361, 2.836, 2.8354, 2.8352, 2.8352, 2.8351, 2.8351, 2.835, 2.8349, 2.8347, 2.8346, 2.8346, 2.8344, 2.8343, 2.8341, 2.834, 2.8339, 2.8335, 2.8333, 2.833, 2.8329, 2.8328, 2.8326, 2.8232, 2.7914, 2.7063, 2.6172, 2.1247, 2.0667, 2.1996, 1.6101, 2.2031, 1.3556, 1.5162, 2.0454, 1.3932, 3.6536, 3.6525, 3.6517, 3.6515, 3.6508, 3.6505, 3.6497, 3.6493, 3.6489, 3.6468, 3.6456, 3.6455, 3.6453, 3.6452, 3.6451, 3.6448, 3.6439, 3.6438, 3.6436, 3.6433, 3.6432, 3.6431, 3.6431, 3.6426, 3.6421, 3.6419, 3.6418, 3.6418, 3.6416, 3.6413, 3.2032, 3.3058, 2.9499, 3.4071, 3.251, 1.213, 2.0387, 2.6464, 5.131, 5.1181, 5.118, 5.1146, 5.1117, 5.1113, 5.1112, 5.1079, 5.1075, 5.1041, 5.1012, 5.101, 5.0997, 5.0982, 5.0966, 5.0957, 5.0943, 5.0931, 5.0921, 5.0905, 5.0895, 5.0893, 5.0846, 5.0833, 5.0828, 5.0791, 5.0787, 5.0775, 5.0765, 5.0748]}, \"token.table\": {\"Topic\": [5, 5, 6, 6, 4, 4, 9, 3, 4, 7, 1, 7, 9, 3, 10, 3, 1, 3, 5, 3, 8, 2, 10, 1, 6, 7, 2, 3, 5, 6, 6, 9, 4, 7, 2, 4, 6, 4, 6, 7, 8, 2, 3, 6, 7, 8, 10, 2, 5, 7, 3, 3, 9, 5, 6, 1, 7, 8, 7, 6, 9, 4, 10, 10, 4, 9, 2, 6, 2, 1, 9, 5, 7, 1, 4, 2, 1, 2, 4, 5, 7, 1, 2, 4, 5, 7, 8, 9, 9, 2, 3, 3, 9, 10, 5, 1, 3, 1, 6, 5, 9, 5, 5, 1, 3, 4, 6, 1, 2, 4, 10, 4, 8, 1, 3, 5, 7, 1, 2, 4, 7, 8, 1, 3, 5, 8, 7, 4, 5, 8, 2, 7, 1, 3, 4, 6, 2, 1, 5, 6, 5, 7, 7, 2, 10, 6, 5, 6, 1, 8, 10, 3, 1, 2, 3, 4, 6, 1, 7, 3, 2, 2, 5, 4, 5, 6, 9, 1, 4, 6, 1, 2, 5, 6, 2, 4, 5, 1, 3, 1, 1, 2, 6, 8, 8, 1, 3, 6, 8, 2, 3, 4, 6, 7, 1, 1, 2, 3, 1, 7, 9, 3, 6, 8, 1, 4, 8, 1, 9, 7, 8, 5, 1, 2, 3, 7, 8, 9, 4, 6, 7, 1, 7, 7, 7, 9, 8, 7, 2, 8, 2, 8, 4, 7, 1, 3, 6, 1, 2, 5, 1, 1, 5, 7, 2, 3, 8, 2, 6, 6, 7, 5, 3, 6, 1, 9, 1, 2, 3, 7, 8, 2, 5, 7, 1, 8, 4, 1, 1, 2, 4, 9, 10, 3, 2, 2, 2, 10, 8, 1, 3, 2, 4, 8, 8, 5, 5, 1, 9, 9, 3, 7, 9, 4, 2, 4, 2, 1, 2, 3, 7, 1, 2, 2, 1, 7, 8, 9, 4, 5, 2, 3, 7, 10, 1, 2, 5, 1, 3, 4, 5, 8, 3, 7, 4, 5, 3, 1, 3, 2, 6, 7, 4, 1, 2, 6, 8, 2, 4, 7, 1, 5, 5, 7, 2, 5, 2, 3, 2, 5, 8, 7, 10, 8, 9, 3, 3, 7, 8, 9, 4, 2, 9, 3, 1, 3, 8, 8, 10, 1, 5, 2, 8, 1, 3, 6, 8, 1, 3, 5, 6, 7, 1, 6, 10, 2, 4, 1, 5, 7, 1, 4, 3, 5, 7, 4, 4, 6, 10, 9, 6, 6, 6, 9, 10, 1, 1, 5, 4, 6, 1, 4, 9, 3, 1, 5, 7, 2, 8, 1, 2, 3, 4, 7, 6, 8, 8, 1, 2, 3, 4, 6, 7, 2, 1, 3, 5, 7, 1, 7, 1, 5, 10, 1, 7, 6, 7, 7, 3, 5, 5, 8, 1, 6, 10, 3, 5, 7, 4, 1, 6, 6, 5, 5, 7, 1, 5, 7, 5, 6, 5, 2, 9, 3, 5, 1, 3, 2, 3, 4, 5, 8, 5, 3, 6, 6, 1, 3, 6, 1, 2, 3, 3, 9, 1, 6, 7, 1, 2, 4, 5, 6, 7, 2, 2, 8, 4, 5, 5, 7, 4, 2, 6, 9, 8, 4, 2, 5, 6, 7, 10, 2, 5, 5, 6, 8, 10, 4, 1, 3, 2, 1, 3, 5, 1, 2, 2, 4, 1, 7, 3, 1, 4, 6, 7, 8, 2, 3, 7, 8, 2, 4, 2, 1, 1, 2, 3, 7, 2, 3, 7, 8, 4, 6, 1, 2, 3, 7, 5, 7, 5, 4, 5, 2, 3, 4, 7, 9, 1, 3, 4, 6, 3, 2, 4, 1, 2, 5, 9, 1, 3, 2, 7, 1, 8, 3, 6, 3, 5, 6, 7, 8, 1, 3, 5, 3, 7, 1, 5, 8, 9, 6, 3, 5, 4, 6, 2, 3, 5, 3, 6, 1, 2, 5, 6, 7, 1, 8, 1, 2, 3, 4, 6, 4, 9, 7, 7, 4, 2, 6, 7, 8, 10, 2, 8, 1, 2, 4, 5, 7, 10, 4, 4, 7, 1, 2, 3, 5, 10, 9, 9, 8, 10, 4, 10, 5, 1, 5, 2, 3, 7, 3, 6, 2, 5, 7, 4, 8, 1, 1, 5, 7, 8, 2, 4, 5, 6, 7, 5, 2, 4, 5, 1, 4, 6, 8, 3, 6, 1, 4, 10, 1, 3, 6, 7, 10, 2, 4, 2, 5, 4, 6, 5, 6, 7, 1, 4, 1, 4, 1, 9, 10, 2, 4, 1, 2, 6, 1, 5, 6, 5, 3, 3, 6, 1, 3, 6, 8, 3, 9, 3, 4, 10, 6, 8, 5, 1, 1, 2, 7, 8, 1, 3, 5, 4, 6, 7, 7, 9, 1, 3, 1, 3], \"Freq\": [0.9930848564407929, 0.9966734608528274, 0.9973516412266094, 0.9972192693492439, 0.9967730325091302, 0.6319741014698185, 0.36560485208997767, 0.08949827014948238, 0.7217232297951848, 0.18817585005788603, 0.9970469356427334, 0.9924826893618642, 0.9907495769136575, 0.9970605485480613, 0.9727023496857897, 0.9967820312991234, 0.023869080265295252, 0.9706759307886735, 0.003978180044215875, 0.9993551649177914, 0.9930844925787398, 0.9979680223974192, 0.9291199398976628, 0.26663975810802365, 0.17666928758077644, 0.5561810905320739, 0.165529164799397, 0.43501384372401913, 0.0007996578009632705, 0.3974299270787454, 0.9937804988813899, 0.9863538763447576, 0.9984965207398996, 0.9960682565753188, 0.022432847633658434, 0.30386311794682785, 0.6709460792248749, 0.04045053220253324, 0.849461176253198, 0.10719391033671306, 0.0020225266101266616, 0.185432249088347, 0.11551517156323256, 0.05623764931367901, 0.18087243968453517, 0.46054074978499293, 0.9846122906798043, 0.13030342374502787, 0.677112434103627, 0.19080144191236223, 0.9988745005960152, 0.9989680762814992, 0.9927855294863289, 0.10060879593382197, 0.8991471412826886, 0.9972194023102915, 0.9700677893549515, 0.02676049074082625, 0.9964575107455538, 0.9956792109577617, 0.9816527457495403, 0.9947881798178102, 0.9754853955831166, 0.965533053828088, 0.9961268325694836, 0.9986410314990104, 0.9961774108595033, 0.9926960809757015, 0.9994793342564057, 0.29414900188133636, 0.7050924603920269, 0.999119934328449, 0.9946354830383891, 0.9995108718226028, 0.9995503728042027, 0.995050380931517, 0.9940078544088055, 0.26704917595861244, 0.04974445434523173, 0.10472516704259312, 0.5759884187342621, 0.2617809916319067, 0.006362732435497732, 0.10543956607396242, 0.07362590389647376, 0.22633148234841932, 0.291776730256396, 0.033631585730488016, 0.9939904009819956, 0.9960621455319062, 0.9989701915014756, 0.995212230770819, 0.9926104938608075, 0.9787339937512263, 0.9910466921501121, 0.9990889986996853, 0.9986641124342112, 0.9952174186435953, 0.9938533239442034, 0.3633168098738718, 0.6370837018210851, 0.9968438066374423, 0.9981654142255391, 0.6989844095120182, 0.2322745719398515, 0.027008671155796686, 0.04105318015681096, 0.9981876822388991, 0.9940129862525459, 0.9942375445027732, 0.9905989883012605, 0.47206978736793115, 0.5254713470249369, 0.07668356325098391, 0.03987545289051163, 0.036808110360472275, 0.8465865382908623, 0.1588858365582026, 0.005237994611808876, 0.2060277880644825, 0.39459559408960204, 0.23570975753139944, 0.03587389569788683, 0.1349541790539552, 0.8285161625464339, 0.9953408370886646, 0.9935654467719176, 0.19879114133909837, 0.2708169171865978, 0.5272286792036956, 0.014067080309314185, 0.984695621651993, 0.3886332801775917, 0.4613869037179465, 0.12616767626618497, 0.02394423053226868, 0.9947885384424899, 0.011013992454007493, 0.44790235979630477, 0.5396856302463672, 0.1950687173271118, 0.8024978877381183, 0.9925708215781857, 0.9928086771747213, 0.963741628378546, 0.9949173160344282, 0.2110173332155297, 0.7882831413223811, 0.8414707553134194, 0.15702085864700172, 0.9247067736339442, 0.9914685358314727, 0.07541407360637979, 0.003678735297872185, 0.05150229417021059, 0.5003080005106172, 0.3678735297872185, 0.9986514612965173, 0.9977081865133718, 0.9952566956397362, 0.997983931593681, 0.8993397433480931, 0.09820376507824005, 0.039506565663633524, 0.4797225830584071, 0.4797225830584071, 0.9844464984692725, 0.37004994031481353, 0.6277961673997582, 0.9975605798702665, 0.1857105205828216, 0.1776361501226989, 0.14937585351226954, 0.48580795601738114, 0.869771999607729, 0.031559216241209324, 0.0984647546725731, 0.03586593758679607, 0.9594138304467948, 0.9978896752740513, 0.8324627678981076, 0.03517448315062426, 0.13288138079124723, 0.9943642801898698, 0.9949656700078953, 0.3757540405517776, 0.5817229220394187, 0.009741771421712753, 0.03340035916015801, 0.341467127343399, 0.11341586729620039, 0.11707444366059395, 0.38293099280652604, 0.043902916372722735, 0.9974589474944496, 0.317367729192231, 0.16905014720792202, 0.5127322861070466, 0.47047373416849236, 0.33080184433722115, 0.1984811066023327, 0.36082643508795587, 0.6375338239590876, 0.98859648068649, 0.15888722547208886, 0.8411676642639998, 0.9949270191976113, 0.21111548834419497, 0.77660340355186, 0.9945044528074372, 0.9904374661579413, 0.9985449410791691, 0.21272463894874338, 0.034741461134845025, 0.11544854777117732, 0.062000146025261896, 0.488518391957667, 0.08712089484584215, 0.9966268062486512, 0.9947574498282472, 0.9961022575451158, 0.998114376501364, 0.9945268272407078, 0.9918492058104272, 0.9958453826223526, 0.9795037732127858, 0.9968315344753415, 0.9936896482381966, 0.1986607097526404, 0.7994882221752603, 0.04722923971851565, 0.951099172262522, 0.9952480602385474, 0.9930664174981148, 0.700437848578422, 0.024605545032028876, 0.27394173468992145, 0.20913922782566474, 0.24297057350334578, 0.5459148961625807, 0.9976331231492742, 0.07195673161594388, 0.5186881070649287, 0.4077548124903486, 0.9953165049614895, 0.017015352334561702, 0.9812186512930582, 0.9983304803003492, 0.9958290636001885, 0.9927663202484176, 0.994729740801454, 0.9929709203736892, 0.9994078201795785, 0.9964345783677563, 0.99611501710673, 0.9908417717297631, 0.001403587820890706, 0.4673947443566051, 0.49687008859530996, 0.03368610770137694, 0.9949040590904977, 0.2172987897479665, 0.14327392730635152, 0.6375689765132643, 0.9990010316213086, 0.9982060439468695, 0.9961078197798968, 0.9942076157262318, 0.228049882062278, 0.05635715476251697, 0.22149672453175276, 0.4941080778016023, 0.9669046693446378, 0.9975925882353184, 0.9993652622393464, 0.9978653004877264, 0.994216599015413, 0.9779055656125093, 0.987410039987072, 0.9708236866227644, 0.028660924725846505, 0.03684757270243278, 0.6976473764993939, 0.2628460186106871, 0.9945601540103853, 0.9995976297750727, 0.9977612055188341, 0.3294186657206728, 0.6675062436971528, 0.9865107375988758, 0.9993168057867247, 0.9939424629901894, 0.9833745457016501, 0.996497843897994, 0.4519054486621715, 0.5473320846660767, 0.9977188851078791, 0.00686586702805944, 0.5501275956232626, 0.3604580189731206, 0.08239040433671328, 0.12524075276943045, 0.8720467229871453, 0.9953809819994399, 0.13166028315045103, 0.8394852916473712, 0.027781527637251134, 0.9861319586259445, 0.9990836733545503, 0.9970019604127142, 0.695087499524315, 0.13248404037930808, 0.1705958876117118, 0.9785407262771522, 0.33106232260152557, 0.22442801644522894, 0.44265636392788255, 0.038912398525509595, 0.5284303719764203, 0.17666228930581357, 0.02957342287938729, 0.22647015941846585, 0.7369589108146813, 0.2623074089340391, 0.9989253151525767, 0.9942417522788874, 0.9963935676969953, 0.016210314655400942, 0.9820748962063737, 0.022275238301940167, 0.32805350953766427, 0.6480069324200776, 0.9932107124964872, 0.9976071194158517, 0.9954234763939213, 0.9919188538393858, 0.9915736468980406, 0.02026874500209544, 0.7241469805294098, 0.25428061911719735, 0.04788001581891526, 0.9518547144800353, 0.9954464939984755, 0.9971754110395622, 0.8675752430909495, 0.12990431447351114, 0.9315894453714427, 0.06726277583909333, 0.2739822056898868, 0.7237696600307844, 0.9938678259462033, 0.9958813082778974, 0.9661048141935556, 0.9907556387686005, 0.9887365507870185, 0.9963285967135268, 0.999528731277822, 0.8094445329568241, 0.187030744357448, 0.9894040497110238, 0.9936710703338728, 0.9971479969799989, 0.9809970796911816, 0.9975767121902822, 0.11362752179625525, 0.7705664713409914, 0.11458237492059353, 0.9899927380380509, 0.9829955945167648, 0.41270458906311613, 0.5845172291451859, 0.9960003343087617, 0.9949056743270146, 0.7413861842082996, 0.21005941885901822, 0.008826026002479757, 0.04059971961140688, 0.01017552507134308, 0.6783683380895387, 0.0497470114598995, 0.17524515400646415, 0.08592665615800824, 0.00850468710800497, 0.9893786002312448, 0.9425628222555505, 0.5533080355958576, 0.4448162639103953, 0.38247533465184586, 0.48993269057784067, 0.12749177821728194, 0.9936876820579746, 0.9978968441471007, 0.9964527275628523, 0.026432670257509634, 0.9719089525453541, 0.9957706066792484, 0.9946980741967298, 0.9996192948156072, 0.9770867149379932, 0.9963461653849072, 0.9924888776534943, 0.9966442714664602, 0.9993165540118649, 0.9838908591188872, 0.9598407516431647, 0.9978028161534559, 0.9985763107337006, 0.9957375953098363, 0.9968379393781143, 0.9945407219672054, 0.3017563240813067, 0.6965776826923622, 0.9842626895228143, 0.992148334208384, 0.16134053900437115, 0.5389460558231121, 0.29865163602936784, 0.9986411018802651, 0.9948401139162876, 0.6928883375122296, 0.11381378829172002, 0.03251822522620572, 0.045025234928592534, 0.11506448926195871, 0.9974511425643332, 0.99081210065217, 0.9895710758839059, 0.006621498094231204, 0.013242996188462409, 0.22513093520386096, 0.059593482848080845, 0.6952572998942765, 0.9894422167371227, 0.9973523683512913, 0.37054076389013463, 0.6285959387421927, 0.9947667006303571, 0.9958466417663272, 0.9979640066447565, 0.9942042555719535, 0.839218476648867, 0.16056928570131598, 0.9744194878539962, 0.998766369196821, 0.9993619355622085, 0.6725706097821684, 0.32468925989483993, 0.9953103234193332, 0.2671323716701515, 0.7319426983762152, 0.9926814918131435, 0.9877553969617135, 0.9997870801760292, 0.9962198837800305, 0.9391813553619476, 0.2170470838587981, 0.3600225438610222, 0.42031340048846616, 0.991696035657809, 0.7341799705005017, 0.2645552558946371, 0.9991226132761568, 0.9962002545803813, 0.09289979992467196, 0.904550683477069, 0.15448737082250008, 0.11770466348380959, 0.7282976053060718, 0.9971384708815089, 0.9922424329287673, 0.9938568237556867, 0.9969463381216228, 0.9966776900960662, 0.9681346561218105, 0.030500177174569234, 0.0032343304634494755, 0.9945566175107138, 0.3733754715431499, 0.09334386788578747, 0.3932684269942193, 0.13772046081509626, 0.9936199316362049, 0.9987315668133347, 0.32743313601255264, 0.6708944674942512, 0.9973520794938951, 0.04693800649116225, 0.9495919774750516, 0.9891505032254683, 0.36159215646493215, 0.6382760332741313, 0.9988595438935046, 0.9964413282385076, 0.9922262105449609, 0.026200027653924905, 0.09825010370221839, 0.8744259229497436, 0.9972389937562769, 0.22363563235483822, 0.3348740816090583, 0.042873152316730646, 0.19466728619488508, 0.2039371569660701, 0.9985513682390705, 0.12338264662514106, 0.8734192616358669, 0.9968040958836856, 0.998084890639271, 0.9971663257987687, 0.9938629763375435, 0.9971969855429059, 0.14350947704285316, 0.8548173197769949, 0.9867806620358965, 0.99203070290975, 0.999357593465474, 0.7191896211717381, 0.2028483546894646, 0.076600077994623, 0.9980508906305287, 0.9804779218195896, 0.9984920161849961, 0.9947048492287017, 0.6063723180110546, 0.12670466346499648, 0.2654764377361831, 0.9545997156190804, 0.9982829541263336, 0.3010283800715693, 0.69827152719133, 0.9943988916027983, 0.8105615603885791, 0.07535371290044579, 0.1120122759330951, 0.02641654166089894, 0.97154169886195, 0.9931805666637015, 0.9958198015677608, 0.05010298219839246, 0.9474018452059666, 0.9938263422292237, 0.3941823478496234, 0.4490502204440765, 0.04042895875380753, 0.07363846058729229, 0.041872850137872085, 0.5676433513660228, 0.3032837334441322, 0.00648735258704026, 0.12001602286024482, 0.10447815224917471, 0.8915468991929576, 0.9985049171882223, 0.9975472757869022, 0.14382640173294023, 0.09101514484662623, 0.3191148288449611, 0.4449629303612838, 0.17909232269126116, 0.43928305565781034, 0.3750801475232073, 0.0067582008562740055, 0.9976763113575626, 0.9974177117585006, 0.539504728558767, 0.00886047911866588, 0.3357137088294517, 0.11617072622250821, 0.056240195891313786, 0.9423102209544617, 0.9928630942972788, 0.9943084329483215, 0.9977118010702118, 0.4741800751190073, 0.378915906528507, 0.1038272399244779, 0.0417449727531406, 0.9954035944981341, 0.251418927474113, 0.07263213460363264, 0.11509399791037173, 0.5609435626311321, 0.9930541909655115, 0.9445194205847146, 0.053665876169586055, 0.06798440478560175, 0.4951699930652784, 0.4373325143670799, 0.9902415700290983, 0.0327700418347472, 0.9669763138221437, 0.9942834318030676, 0.9919678736755231, 0.9577771265250163, 0.039304028950270645, 0.420910581509719, 0.5787520495758637, 0.004888568304467499, 0.043997114740207496, 0.7039538358433199, 0.19554273217869997, 0.05132996719690874, 0.5272354172105131, 0.4127176169131759, 0.06009349916592946, 0.9937717152246733, 0.0032160896932837326, 0.07311532231668598, 0.9241776740829107, 0.992483327062839, 0.9866405589376329, 0.9920094254663762, 0.10398717350578782, 0.8935846943632954, 0.07529122075463701, 0.9212102304096764, 0.9965105866988111, 0.9978172328311689, 0.9980132524085417, 0.014558716712602131, 0.9841692497719041, 0.042406968580153775, 0.8222240019152037, 0.02355942698897432, 0.009423770795589727, 0.10130553605258957, 0.9970091313880545, 0.9952027351711791, 0.06664713829106066, 0.11441092073298745, 0.3343464770934876, 0.3498974760280684, 0.13440506222030565, 0.8459847742105897, 0.15270483288999814, 0.9926560758189208, 0.998251358573572, 0.9971858667062613, 0.05312539840681283, 0.36007214475728694, 0.13281349601703207, 0.45156588645790907, 0.9618934029517903, 0.9791825515404684, 0.019962947024270507, 0.0678793369293666, 0.6834215059024865, 0.0647939125234863, 0.05708035150878555, 0.1265024006410923, 0.9829223093506937, 0.9950938631261979, 0.06812843242346835, 0.9282498917697563, 0.02262136111069884, 0.02262136111069884, 0.8922870215886765, 0.06283711419638567, 0.9640159303074064, 0.9849921804996519, 0.9852650113006696, 0.9935732260506693, 0.9364076042731624, 0.9963888987864749, 0.9986373729922797, 0.9978924413065696, 0.025298161916842903, 0.9742483631805458, 0.9965486297570575, 0.760657685319596, 0.23794932720254028, 0.99561422533804, 0.992453512734262, 0.03621205381899345, 0.23739013059117928, 0.7255822635583502, 0.901862034374037, 0.09613757726829836, 0.9975927285236563, 0.9968544858266092, 0.7754593550518482, 0.22323829918159266, 0.9923661072769608, 0.2997251572580389, 0.04081860118300141, 0.08047095661791706, 0.4070197660819283, 0.17143812496860591, 0.9965502280807615, 0.5944766834460411, 0.3071462864471213, 0.09742812312032341, 0.1544490993299581, 0.027580196308921088, 0.8163738107440642, 0.9984552114178402, 0.2669541827321495, 0.7327277986288288, 0.8432295115062012, 0.15593970418265365, 0.9668258544239139, 0.34788031258379604, 0.28693093167288836, 0.3281889741356566, 0.036569628546544594, 0.94332587682513, 0.008869257989496074, 0.9889222658288122, 0.36051842772185644, 0.6371953606246765, 0.9941197157540538, 0.9965835439976345, 0.8316972241258658, 0.16633944482517315, 0.9888832893095018, 0.726804010643835, 0.27141302653115645, 0.9162049929266028, 0.08349933144025219, 0.9982146004816163, 0.9933262709010853, 0.9842054778952681, 0.8603166484387439, 0.13930729099445743, 0.2416135569171996, 0.67391763409192, 0.08342710261266534, 0.9982784329369795, 0.14848169859620208, 0.85087384727469, 0.9956047681925051, 0.9956058126324352, 0.997265353429294, 0.9905181474026337, 0.1552678407529127, 0.23375488113350593, 0.5169907225069511, 0.09384320045505713, 0.9989116360425871, 0.9811100681174701, 0.3645246373972976, 0.6347756616746045, 0.9580506993223221, 0.9975395722483891, 0.9981892697924901, 0.9955758661703189, 0.9976551128458822, 0.04333741667638115, 0.5312328495814463, 0.42498627966515706, 0.9892126488916176, 0.12279372764900401, 0.6047260996047724, 0.27199470855585833, 0.026240573437413275, 0.10350448411424126, 0.8688545427054618, 0.991067674351234, 0.9958347798367453, 0.3483160972856123, 0.6510581257674997, 0.009737440939701173, 0.9899731622029526], \"Term\": [\"academic\", \"access\", \"accuracy\", \"accurate\", \"acid\", \"activation\", \"activation\", \"activity\", \"activity\", \"activity\", \"acute\", \"adapt\", \"adaptation\", \"adjust\", \"adjuvant\", \"adolescent\", \"adult\", \"adult\", \"adult\", \"age\", \"alcohol\", \"algorithm\", \"allergy\", \"also\", \"also\", \"also\", \"analysis\", \"analysis\", \"analysis\", \"analysis\", \"analytical\", \"angle\", \"anti\", \"anxiety\", \"application\", \"application\", \"application\", \"apply\", \"apply\", \"apply\", \"apply\", \"area\", \"area\", \"area\", \"area\", \"area\", \"artery\", \"article\", \"article\", \"article\", \"associate\", \"association\", \"attribute\", \"base\", \"base\", \"baseline\", \"behavior\", \"behavior\", \"behavioral\", \"bias\", \"bilateral\", \"bind\", \"biomechanical\", \"bleeding\", \"bone\", \"brain\", \"breast_cancer\", \"build\", \"cancer\", \"cardiac\", \"cardiac\", \"care\", \"caregiver\", \"case\", \"cell\", \"cellular\", \"center\", \"challenge\", \"challenge\", \"challenge\", \"challenge\", \"change\", \"change\", \"change\", \"change\", \"change\", \"change\", \"change\", \"channel\", \"chemical\", \"child\", \"chinese\", \"chromosome\", \"cigarette\", \"city\", \"clinical\", \"cluster\", \"co\", \"coefficient\", \"cognitive\", \"cognitive\", \"communication\", \"community\", \"compare\", \"compare\", \"compare\", \"compare\", \"complication\", \"composition\", \"compound\", \"compression\", \"concentration\", \"concentration\", \"concern\", \"concern\", \"concern\", \"concern\", \"condition\", \"condition\", \"condition\", \"condition\", \"condition\", \"conduct\", \"conduct\", \"conduct\", \"consumption\", \"contact\", \"content\", \"content\", \"content\", \"context\", \"context\", \"control\", \"control\", \"control\", \"control\", \"core\", \"cost\", \"cost\", \"cost\", \"country\", \"country\", \"crisis\", \"crucial\", \"curative\", \"dataset\", \"datum\", \"datum\", \"day\", \"day\", \"decide\", \"dementia\", \"demonstrate\", \"demonstrate\", \"demonstrate\", \"demonstrate\", \"demonstrate\", \"dental\", \"depression\", \"depressive_symptom\", \"derive\", \"describe\", \"describe\", \"design\", \"design\", \"design\", \"detailed\", \"detect\", \"detect\", \"detection\", \"develop\", \"develop\", \"develop\", \"develop\", \"development\", \"development\", \"development\", \"diabetes\", \"diabetes\", \"diagnose\", \"diagnosis\", \"diagnosis\", \"diagnosis\", \"diet\", \"dietary\", \"difference\", \"difference\", \"difference\", \"difference\", \"different\", \"different\", \"different\", \"different\", \"different\", \"discharge\", \"disease\", \"disease\", \"disease\", \"disorder\", \"disorder\", \"disorder\", \"distribution\", \"distribution\", \"disturbance\", \"drug\", \"drug\", \"dry\", \"dysfunction\", \"dysfunction\", \"economic\", \"ecosystem\", \"education\", \"effect\", \"effect\", \"effect\", \"effect\", \"effect\", \"effect\", \"effectively\", \"efficient\", \"effort\", \"elderly\", \"emergency\", \"emotion\", \"emotional\", \"encounter\", \"energy\", \"ensure\", \"environment\", \"environment\", \"environmental\", \"environmental\", \"enzyme\", \"epidemic\", \"evaluate\", \"evaluate\", \"evaluate\", \"evidence\", \"evidence\", \"evidence\", \"exercise\", \"experience\", \"experience\", \"experience\", \"experiment\", \"exposure\", \"exposure\", \"expression\", \"extract\", \"extraction\", \"face\", \"facility\", \"factor\", \"fast\", \"fatigue\", \"fetal\", \"find\", \"find\", \"find\", \"find\", \"fish\", \"focus\", \"focus\", \"focus\", \"follow\", \"food\", \"formation\", \"fracture\", \"function\", \"function\", \"function\", \"function\", \"gait_speed\", \"gender\", \"gene\", \"genetic\", \"genome\", \"ground\", \"groundwater\", \"group\", \"group\", \"growth\", \"growth\", \"growth\", \"hazard\", \"health\", \"healthcare\", \"heart\", \"heart\", \"height\", \"high\", \"home\", \"homeostasis\", \"host\", \"human\", \"human\", \"identification\", \"identify\", \"identify\", \"identify\", \"identify\", \"image\", \"image\", \"immune\", \"impact\", \"impact\", \"impact\", \"impairment\", \"implant\", \"implementation\", \"important\", \"important\", \"important\", \"incision\", \"include\", \"include\", \"include\", \"increase\", \"increase\", \"increase\", \"increase\", \"increase\", \"individual\", \"individual\", \"induce\", \"industry\", \"infect\", \"infection\", \"infection\", \"information\", \"information\", \"information\", \"inhibit\", \"injury\", \"insight\", \"instrument\", \"intake\", \"interaction\", \"interaction\", \"interaction\", \"intervention\", \"intervention\", \"interview\", \"issue\", \"key\", \"key\", \"know\", \"know\", \"knowledge\", \"knowledge\", \"land\", \"language\", \"latent\", \"layer\", \"leaf\", \"length\", \"level\", \"life\", \"life\", \"lifestyle\", \"like\", \"local\", \"loneliness\", \"longitudinal\", \"low\", \"low\", \"low\", \"male_female\", \"malformation\", \"management\", \"management\", \"map\", \"maternal\", \"mean\", \"mean\", \"mean\", \"mean\", \"measure\", \"measure\", \"measure\", \"measure\", \"measure\", \"measurement\", \"measurement\", \"mechanical_ventilation\", \"mechanism\", \"mechanism\", \"medical\", \"medical\", \"medical\", \"medication\", \"membrane\", \"memory\", \"mental_health\", \"mental_health\", \"metabolism\", \"metal\", \"method\", \"min\", \"mitochondrial\", \"mixed\", \"mobility\", \"model\", \"modulate\", \"modulus\", \"month\", \"mortality\", \"mother\", \"mouse\", \"movement\", \"muscle\", \"muscle\", \"music\", \"national\", \"need\", \"need\", \"need\", \"new\", \"noise\", \"non\", \"non\", \"non\", \"non\", \"non\", \"nurse\", \"nutrient\", \"obesity\", \"obtain\", \"obtain\", \"obtain\", \"obtain\", \"obtain\", \"occupational\", \"offer\", \"old\", \"old\", \"old_adult\", \"online\", \"oral\", \"outbreak\", \"outcome\", \"outcome\", \"overlook\", \"pain\", \"pandemic\", \"paper\", \"paper\", \"parent\", \"participant\", \"participant\", \"participation\", \"particle\", \"patient\", \"pediatric\", \"pedicle_screw\", \"people\", \"people\", \"people\", \"peptide\", \"perform\", \"perform\", \"performance\", \"personal\", \"perspective\", \"perspective\", \"physical\", \"physical\", \"physical\", \"physical_activity\", \"placebo\", \"plan\", \"plant\", \"policy\", \"population\", \"population\", \"positive\", \"positive\", \"potential\", \"potential\", \"potential\", \"potential\", \"power\", \"practice\", \"predict\", \"predict\", \"prediction\", \"predictor\", \"predictor\", \"preparation\", \"present\", \"present\", \"prevalence\", \"probability\", \"probe\", \"problem\", \"problem\", \"problem\", \"procedure\", \"process\", \"process\", \"process\", \"process\", \"process\", \"produce\", \"product\", \"product\", \"production\", \"professional\", \"program\", \"project\", \"property\", \"propose\", \"propose\", \"prostate_cancer\", \"protective\", \"protein\", \"provide\", \"provide\", \"provide\", \"psychological\", \"psychological_distress\", \"publish\", \"qualitative\", \"quality\", \"quality\", \"quality\", \"quarantine\", \"rat\", \"rate\", \"rate\", \"reach\", \"receive\", \"receive\", \"receive\", \"recent\", \"recent\", \"recently\", \"receptor\", \"recommendation\", \"recommendation\", \"recruit\", \"reduce\", \"reduce\", \"reduce\", \"reduce\", \"reduce\", \"region\", \"region\", \"region\", \"region\", \"regulate\", \"regulate\", \"regulation\", \"rehabilitation\", \"relate\", \"relate\", \"relate\", \"relate\", \"relationship\", \"relationship\", \"relationship\", \"relationship\", \"release\", \"reliable\", \"report\", \"report\", \"report\", \"report\", \"research\", \"research\", \"resident\", \"resistance\", \"resource\", \"response\", \"response\", \"response\", \"response\", \"restoration\", \"result\", \"result\", \"result\", \"result\", \"retrospective\", \"reveal\", \"reveal\", \"review\", \"review\", \"review\", \"reward\", \"risk\", \"risk\", \"root\", \"rural\", \"safety\", \"safety\", \"sample\", \"sample\", \"scale\", \"scale\", \"scale\", \"scale\", \"scale\", \"score\", \"score\", \"score\", \"screen\", \"screen\", \"search\", \"search\", \"season\", \"seizure\", \"selection\", \"self\", \"self\", \"sensitivity\", \"sensitivity\", \"sequence\", \"serum\", \"service\", \"set\", \"set\", \"several\", \"several\", \"several\", \"several\", \"several\", \"severe\", \"sex\", \"show\", \"show\", \"show\", \"show\", \"show\", \"signal\", \"signal\", \"sleep\", \"social\", \"soil\", \"source\", \"source\", \"source\", \"source\", \"southern\", \"specie\", \"specie\", \"specific\", \"specific\", \"specific\", \"specific\", \"specific\", \"spinal\", \"stability\", \"state\", \"state\", \"status\", \"status\", \"status\", \"status\", \"stiffness\", \"stimulation\", \"stimulus\", \"storage\", \"store\", \"strain\", \"stress\", \"student\", \"study\", \"study\", \"success\", \"suggest\", \"suggest\", \"suicide\", \"suitable\", \"support\", \"support\", \"support\", \"surface\", \"surface\", \"surgery\", \"surgical\", \"survey\", \"survey\", \"sustainable\", \"system\", \"system\", \"system\", \"system\", \"system\", \"systematic_review\", \"target\", \"target\", \"target\", \"technique\", \"technique\", \"technique\", \"temperature\", \"test\", \"test\", \"therapy\", \"therapy\", \"thoracolumbar\", \"time\", \"time\", \"time\", \"time\", \"timely\", \"tissue\", \"tissue\", \"tool\", \"tool\", \"toxicity\", \"traditional\", \"training\", \"training\", \"transition\", \"treat\", \"treat\", \"treatment\", \"treatment\", \"trial\", \"trigger\", \"trust\", \"tumor\", \"tumor\", \"type\", \"type\", \"type\", \"undergo\", \"use\", \"use\", \"user\", \"vaccination\", \"vaccine\", \"validation\", \"value\", \"value\", \"value\", \"value\", \"variable\", \"vascular\", \"virus\", \"virus\", \"visceral\", \"visual\", \"water\", \"web\", \"week\", \"well\", \"well\", \"well\", \"whole\", \"woman\", \"woman\", \"woman\", \"work\", \"work\", \"work\", \"world\", \"xa\", \"year\", \"year\", \"young\", \"young\"]}, \"R\": 30, \"lambda.step\": 0.01, \"plot.opts\": {\"xlab\": \"PC1\", \"ylab\": \"PC2\"}, \"topic.order\": [6, 7, 10, 2, 8, 3, 1, 9, 5, 4]};\n",
              "\n",
              "function LDAvis_load_lib(url, callback){\n",
              "  var s = document.createElement('script');\n",
              "  s.src = url;\n",
              "  s.async = true;\n",
              "  s.onreadystatechange = s.onload = callback;\n",
              "  s.onerror = function(){console.warn(\"failed to load library \" + url);};\n",
              "  document.getElementsByTagName(\"head\")[0].appendChild(s);\n",
              "}\n",
              "\n",
              "if(typeof(LDAvis) !== \"undefined\"){\n",
              "   // already loaded: just create the visualization\n",
              "   !function(LDAvis){\n",
              "       new LDAvis(\"#\" + \"ldavis_el192441398388543819047182335498\", ldavis_el192441398388543819047182335498_data);\n",
              "   }(LDAvis);\n",
              "}else if(typeof define === \"function\" && define.amd){\n",
              "   // require.js is available: use it to load d3/LDAvis\n",
              "   require.config({paths: {d3: \"https://d3js.org/d3.v5\"}});\n",
              "   require([\"d3\"], function(d3){\n",
              "      window.d3 = d3;\n",
              "      LDAvis_load_lib(\"https://cdn.jsdelivr.net/gh/bmabey/pyLDAvis@3.3.1/pyLDAvis/js/ldavis.v3.0.0.js\", function(){\n",
              "        new LDAvis(\"#\" + \"ldavis_el192441398388543819047182335498\", ldavis_el192441398388543819047182335498_data);\n",
              "      });\n",
              "    });\n",
              "}else{\n",
              "    // require.js not available: dynamically load d3 & LDAvis\n",
              "    LDAvis_load_lib(\"https://d3js.org/d3.v5.js\", function(){\n",
              "         LDAvis_load_lib(\"https://cdn.jsdelivr.net/gh/bmabey/pyLDAvis@3.3.1/pyLDAvis/js/ldavis.v3.0.0.js\", function(){\n",
              "                 new LDAvis(\"#\" + \"ldavis_el192441398388543819047182335498\", ldavis_el192441398388543819047182335498_data);\n",
              "            })\n",
              "         });\n",
              "}\n",
              "</script>"
            ]
          },
          "metadata": {},
          "execution_count": 35
        }
      ],
      "source": [
        "# Visualize the topics\n",
        "pyLDAvis.enable_notebook()\n",
        "vis = pyLDAvis.gensim_models.prepare(lda_model, corpus, id2word)\n",
        "vis"
      ]
    },
    {
      "cell_type": "markdown",
      "metadata": {
        "id": "wKDDvZbFJMFE"
      },
      "source": [
        "#10. Building LDA Mallet Model\n",
        "\n",
        "So far you have seen Gensim’s inbuilt version of the LDA algorithm. Mallet’s version, however, often gives a better quality of topics.\n",
        "\n",
        "Gensim provides a wrapper to implement Mallet's LDA from within gensim itself. You only need to [download](http://mallet.cs.umass.edu/dist/mallet-2.0.8.zip) the zipfile, unzip it and provide the path to mallet in the unzipped directory to `gensim.models.wrappers.LdaMallet`."
      ]
    },
    {
      "cell_type": "code",
      "execution_count": 36,
      "metadata": {
        "id": "axMNiS5wJMFE"
      },
      "outputs": [],
      "source": [
        "mallet_path = '/content/models/mallet-2.0.8/bin/mallet'\n",
        "ldamallet = gensim.models.wrappers.LdaMallet(mallet_path, corpus=corpus, num_topics=10, id2word=id2word, random_seed= 0)"
      ]
    },
    {
      "cell_type": "code",
      "execution_count": 37,
      "metadata": {
        "id": "vkmCE0EzJMFF",
        "colab": {
          "base_uri": "https://localhost:8080/"
        },
        "outputId": "320a34e1-c5cb-4bfc-9a97-c9077969b0bb"
      },
      "outputs": [
        {
          "output_type": "stream",
          "name": "stdout",
          "text": [
            "[(0, [('risk', 0.03459331413751557), ('factor', 0.026322775633564093), ('associate', 0.02542424799362862), ('age', 0.02528130041454798), ('child', 0.023239192141967367), ('year', 0.019502134003144846), ('high', 0.018399395535951317), ('woman', 0.01615307643611264), ('population', 0.01490739038983847), ('association', 0.012967387530886887)]), (1, [('group', 0.04520683949255378), ('level', 0.030865968008825153), ('effect', 0.025835631549917266), ('control', 0.023541092112520683), ('time', 0.021599558742415884), ('increase', 0.02144511858797573), ('change', 0.01619415333701048), ('compare', 0.015730832873690016), ('high', 0.01504688361831219), ('low', 0.014826254826254825)]), (2, [('specie', 0.03340307165612667), ('describe', 0.01478769435595074), ('region', 0.013289905377775664), ('area', 0.012362702677000618), ('type', 0.00979506442870049), ('distribution', 0.008701440730350436), ('plant', 0.007964433455375399), ('environmental', 0.00760781703200038), ('pattern', 0.007536493747325377), ('genus', 0.0068470353288003424)]), (3, [('cell', 0.04289937969815842), ('gene', 0.020019710525807262), ('protein', 0.01926607277435313), ('expression', 0.01623219772362751), ('induce', 0.011362538406539257), ('mechanism', 0.010203095711994434), ('human', 0.009758642679085586), ('function', 0.009294865601267657), ('role', 0.00892770874799513), ('response', 0.008618524029449844)]), (4, [('water', 0.00878003696857671), ('concentration', 0.008633002856662745), ('activity', 0.007456729961351033), ('surface', 0.007183666610653672), ('property', 0.007057637371870274), ('process', 0.006868593513695178), ('product', 0.006532515543606117), ('condition', 0.005986388842211393), ('food', 0.005986388842211393), ('application', 0.005965383969080826)]), (5, [('health', 0.02631045663334234), ('care', 0.02041677924885166), ('pandemic', 0.011196298297757363), ('service', 0.010351931910294515), ('research', 0.010351931910294515), ('intervention', 0.009845312077816807), ('experience', 0.009625776817076466), ('support', 0.009389354228586869), ('social', 0.008578762496622535), ('impact', 0.008511213185625506)]), (6, [('model', 0.029873039581777446), ('base', 0.02297926121675188), ('datum', 0.020279198023783536), ('method', 0.02018345110204707), ('system', 0.011834319526627219), ('performance', 0.011049194768388197), ('analysis', 0.00965128971103579), ('propose', 0.008770418031060302), ('tool', 0.008176787116294212), ('network', 0.007717201891959173)]), (7, [('disease', 0.023436248369304007), ('infection', 0.020827134781315086), ('sample', 0.017233881857505778), ('identify', 0.013755063740187215), ('positive', 0.013045567939944613), ('test', 0.011718124184652004), ('drug', 0.011512141532968668), ('current', 0.010093149932483465), ('strategy', 0.010070262971185316), ('virus', 0.009887167280800128)]), (8, [('patient', 0.05132747095168807), ('case', 0.01819868834482613), ('treatment', 0.016891250711710003), ('cancer', 0.011345184622846418), ('therapy', 0.009320765061892411), ('diagnosis', 0.008772484764134033), ('treat', 0.008498344615254845), ('surgery', 0.008477256911494908), ('tumor', 0.008435081503975032), ('clinical', 0.00784462579869678)]), (9, [('patient', 0.05664153308132366), ('study', 0.030281590491014573), ('outcome', 0.019911459702035617), ('treatment', 0.017910206391881785), ('include', 0.016859043037053507), ('clinical', 0.016373890719440457), ('report', 0.011603226262912127), ('symptom', 0.011340435424205058), ('assess', 0.010612706947785482), ('hospital', 0.010471204188481676)])]\n",
            "\n",
            "Coherence Score:  0.5145206772375838\n"
          ]
        }
      ],
      "source": [
        "# Show Topics\n",
        "print(ldamallet.show_topics(formatted=False))\n",
        "\n",
        "# Compute Coherence Score\n",
        "coherence_model_ldamallet = CoherenceModel(model=ldamallet, texts= data_words_bigrams, dictionary=id2word, coherence='c_v')\n",
        "coherence_ldamallet = coherence_model_ldamallet.get_coherence()\n",
        "print('\\nCoherence Score: ', coherence_ldamallet)"
      ]
    },
    {
      "cell_type": "markdown",
      "metadata": {
        "id": "QbLZKoXbJMFG"
      },
      "source": [
        "# 11. How to find the optimal number of topics for LDA?"
      ]
    },
    {
      "cell_type": "markdown",
      "metadata": {
        "id": "PFtNpYa_JMFG"
      },
      "source": [
        "My approach to finding the optimal number of topics is to build many LDA models with different values of number of topics (k) and pick the one that gives the highest coherence value.\n",
        "\n",
        "The `compute_coherence_values()` (see below) trains multiple LDA models and provides the models and their corresponding coherence scores."
      ]
    },
    {
      "cell_type": "code",
      "execution_count": 38,
      "metadata": {
        "id": "uMFCxJkwJMFG"
      },
      "outputs": [],
      "source": [
        "def compute_coherence_values(dictionary, corpus, texts, limit, start=2, step=3):\n",
        "    \"\"\"\n",
        "    Compute c_v coherence for various number of topics\n",
        "\n",
        "    Parameters:\n",
        "    ----------\n",
        "    dictionary : Gensim dictionary\n",
        "    corpus : Gensim corpus\n",
        "    texts : List of input texts\n",
        "    limit : Max num of topics\n",
        "\n",
        "    Returns:\n",
        "    -------\n",
        "    model_list : List of LDA topic models\n",
        "    coherence_values : Coherence values corresponding to the LDA model with respective number of topics\n",
        "    \"\"\"\n",
        "    coherence_values = []\n",
        "    model_list = []\n",
        "    for num_topics in range(start, limit, step):\n",
        "        model = gensim.models.wrappers.LdaMallet(mallet_path, corpus=corpus, num_topics=num_topics, id2word=id2word, random_seed= 0)\n",
        "        model_list.append(model)\n",
        "        coherencemodel = CoherenceModel(model=model, texts=texts, dictionary=dictionary, coherence='c_v')\n",
        "        coherence_values.append(coherencemodel.get_coherence())\n",
        "\n",
        "    return model_list, coherence_values"
      ]
    },
    {
      "cell_type": "code",
      "execution_count": 39,
      "metadata": {
        "id": "D0-aktieJMFG"
      },
      "outputs": [],
      "source": [
        "# Can take a long time to run.\n",
        "model_list, coherence_values = compute_coherence_values(dictionary=id2word, corpus=corpus, texts= data_words_bigrams, start=2, limit=25, step=1)"
      ]
    },
    {
      "cell_type": "code",
      "execution_count": 41,
      "metadata": {
        "id": "RL2BqYroJMFH",
        "colab": {
          "base_uri": "https://localhost:8080/",
          "height": 279
        },
        "outputId": "6b1629f9-7f74-47f1-8e84-439d819d22e1"
      },
      "outputs": [
        {
          "output_type": "display_data",
          "data": {
            "text/plain": [
              "<Figure size 432x288 with 1 Axes>"
            ],
            "image/png": "[encoded data removed]"
          },
          "metadata": {
            "needs_background": "light"
          }
        }
      ],
      "source": [
        "# Show graph\n",
        "limit=25; start=2; step=1;\n",
        "x = range(start, limit, step)\n",
        "plt.plot(x, coherence_values)\n",
        "plt.xlabel(\"Num Topics\")\n",
        "plt.ylabel(\"Coherence score\")\n",
        "plt.legend((\"coherence_values\"), loc='best')\n",
        "plt.show()"
      ]
    },
    {
      "cell_type": "code",
      "execution_count": 42,
      "metadata": {
        "id": "SRYNvTVRJMFH",
        "colab": {
          "base_uri": "https://localhost:8080/"
        },
        "outputId": "90f36471-b666-452a-a5ff-228b32f7d815"
      },
      "outputs": [
        {
          "output_type": "stream",
          "name": "stdout",
          "text": [
            "Num Topics = 2  has Coherence Value of 0.4071\n",
            "Num Topics = 3  has Coherence Value of 0.4251\n",
            "Num Topics = 4  has Coherence Value of 0.4374\n",
            "Num Topics = 5  has Coherence Value of 0.4541\n",
            "Num Topics = 6  has Coherence Value of 0.4706\n",
            "Num Topics = 7  has Coherence Value of 0.4701\n",
            "Num Topics = 8  has Coherence Value of 0.4882\n",
            "Num Topics = 9  has Coherence Value of 0.4727\n",
            "Num Topics = 10  has Coherence Value of 0.5025\n",
            "Num Topics = 11  has Coherence Value of 0.5112\n",
            "Num Topics = 12  has Coherence Value of 0.4878\n",
            "Num Topics = 13  has Coherence Value of 0.5062\n",
            "Num Topics = 14  has Coherence Value of 0.4877\n",
            "Num Topics = 15  has Coherence Value of 0.5115\n",
            "Num Topics = 16  has Coherence Value of 0.5109\n",
            "Num Topics = 17  has Coherence Value of 0.4928\n",
            "Num Topics = 18  has Coherence Value of nan\n",
            "Num Topics = 19  has Coherence Value of 0.5233\n",
            "Num Topics = 20  has Coherence Value of 0.5216\n",
            "Num Topics = 21  has Coherence Value of 0.5104\n",
            "Num Topics = 22  has Coherence Value of 0.5111\n",
            "Num Topics = 23  has Coherence Value of 0.4996\n",
            "Num Topics = 24  has Coherence Value of 0.5219\n"
          ]
        }
      ],
      "source": [
        "# Print the coherence scores\n",
        "for m, cv in zip(x, coherence_values):\n",
        "    print(\"Num Topics =\", m, \" has Coherence Value of\", round(cv, 4))"
      ]
    },
    {
      "cell_type": "markdown",
      "metadata": {
        "id": "JYI58TziJMFI"
      },
      "source": [
        "If the coherence score seems to keep increasing, it may make better sense to pick the model that gave the highest CV before flattening out. This is exactly the case here.\n",
        "\n",
        "So for further steps I will choose the model with 15 topics itself."
      ]
    },
    {
      "cell_type": "code",
      "execution_count": 43,
      "metadata": {
        "id": "JS53wUsOJMFI",
        "colab": {
          "base_uri": "https://localhost:8080/"
        },
        "outputId": "f6febf57-959e-484e-db56-d70fd358a2fd"
      },
      "outputs": [
        {
          "output_type": "stream",
          "name": "stdout",
          "text": [
            "[(0, '0.031*\"infection\" + 0.025*\"disease\" + 0.024*\"gene\" + 0.015*\"identify\" + 0.015*\"virus\" + 0.012*\"genetic\" + 0.011*\"human\" + 0.011*\"sequence\" + 0.009*\"analysis\" + 0.009*\"population\"'), (1, '0.033*\"test\" + 0.030*\"sample\" + 0.017*\"positive\" + 0.015*\"perform\" + 0.014*\"total\" + 0.013*\"measure\" + 0.013*\"evaluate\" + 0.013*\"detection\" + 0.013*\"assess\" + 0.013*\"determine\"'), (2, '0.017*\"water\" + 0.012*\"environmental\" + 0.012*\"area\" + 0.011*\"plant\" + 0.011*\"food\" + 0.008*\"high\" + 0.007*\"condition\" + 0.007*\"product\" + 0.007*\"source\" + 0.007*\"temperature\"'), (3, '0.027*\"system\" + 0.016*\"drug\" + 0.014*\"network\" + 0.013*\"brain\" + 0.011*\"development\" + 0.009*\"structure\" + 0.009*\"task\" + 0.009*\"field\" + 0.009*\"process\" + 0.008*\"functional\"'), (4, '0.022*\"pandemic\" + 0.020*\"impact\" + 0.018*\"child\" + 0.015*\"individual\" + 0.013*\"social\" + 0.012*\"relate\" + 0.012*\"people\" + 0.011*\"stress\" + 0.010*\"symptom\" + 0.010*\"physical\"'), (5, '0.045*\"risk\" + 0.033*\"associate\" + 0.033*\"age\" + 0.028*\"high\" + 0.026*\"year\" + 0.026*\"factor\" + 0.017*\"woman\" + 0.016*\"mortality\" + 0.015*\"population\" + 0.015*\"rate\"'), (6, '0.047*\"model\" + 0.033*\"base\" + 0.031*\"method\" + 0.026*\"datum\" + 0.018*\"analysis\" + 0.014*\"propose\" + 0.011*\"develop\" + 0.011*\"predict\" + 0.010*\"performance\" + 0.010*\"approach\"'), (7, '0.042*\"level\" + 0.035*\"effect\" + 0.029*\"activity\" + 0.028*\"increase\" + 0.018*\"exposure\" + 0.015*\"show\" + 0.012*\"reduce\" + 0.012*\"decrease\" + 0.010*\"concentration\" + 0.010*\"serum\"'), (8, '0.063*\"group\" + 0.036*\"treatment\" + 0.022*\"control\" + 0.021*\"day\" + 0.020*\"time\" + 0.016*\"compare\" + 0.014*\"trial\" + 0.014*\"receive\" + 0.013*\"week\" + 0.012*\"pain\"'), (9, '0.041*\"health\" + 0.037*\"care\" + 0.016*\"service\" + 0.014*\"medical\" + 0.011*\"community\" + 0.010*\"practice\" + 0.009*\"participant\" + 0.009*\"access\" + 0.009*\"program\" + 0.008*\"cost\"'), (10, '0.061*\"cell\" + 0.028*\"protein\" + 0.023*\"expression\" + 0.012*\"tissue\" + 0.012*\"tumor\" + 0.011*\"target\" + 0.011*\"role\" + 0.011*\"response\" + 0.011*\"human\" + 0.011*\"induce\"'), (11, '0.052*\"specie\" + 0.021*\"describe\" + 0.014*\"type\" + 0.013*\"record\" + 0.011*\"genus\" + 0.009*\"bone\" + 0.009*\"male\" + 0.008*\"find\" + 0.008*\"implant\" + 0.008*\"distribution\"'), (12, '0.137*\"patient\" + 0.026*\"case\" + 0.019*\"clinical\" + 0.013*\"treatment\" + 0.011*\"follow\" + 0.011*\"cancer\" + 0.010*\"surgery\" + 0.010*\"undergo\" + 0.008*\"diagnosis\" + 0.008*\"surgical\"'), (13, '0.046*\"study\" + 0.025*\"include\" + 0.024*\"review\" + 0.018*\"evidence\" + 0.018*\"research\" + 0.016*\"report\" + 0.013*\"intervention\" + 0.013*\"datum\" + 0.013*\"identify\" + 0.012*\"clinical\"'), (14, '0.010*\"property\" + 0.010*\"surface\" + 0.009*\"application\" + 0.008*\"process\" + 0.007*\"structure\" + 0.006*\"technique\" + 0.006*\"form\" + 0.006*\"modify\" + 0.006*\"dynamic\" + 0.006*\"reaction\"')]\n"
          ]
        }
      ],
      "source": [
        "# Select the model and print the topics\n",
        "optimal_model = model_list[13]\n",
        "model_topics = optimal_model.show_topics(formatted=False)\n",
        "print(optimal_model.print_topics(num_words=10))"
      ]
    },
    {
      "cell_type": "code",
      "source": [
        "# Visualize the topics\n",
        "pyLDAvis.enable_notebook()\n",
        "vis = pyLDAvis.gensim_models.prepare(gensim.models.wrappers.ldamallet.malletmodel2ldamodel(optimal_model), corpus, id2word)\n",
        "vis"
      ],
      "metadata": {
        "colab": {
          "base_uri": "https://localhost:8080/",
          "height": 881
        },
        "id": "-A3oynlEULOn",
        "outputId": "364cbd64-62fd-4026-b22f-60ec59ce23fd"
      },
      "execution_count": 44,
      "outputs": [
        {
          "output_type": "execute_result",
          "data": {
            "text/plain": [
              "PreparedData(topic_coordinates=              x         y  topics  cluster      Freq\n",
              "topic                                               \n",
              "9     -0.237932 -0.146859       1        1  7.537924\n",
              "5     -0.125507  0.224024       2        1  7.438156\n",
              "12     0.008141  0.174355       3        1  7.400063\n",
              "10     0.266112  0.015911       4        1  7.094153\n",
              "6     -0.049950 -0.170290       5        1  6.841783\n",
              "4     -0.176730  0.027490       6        1  6.816200\n",
              "13    -0.166493 -0.145433       7        1  6.785621\n",
              "8     -0.109463  0.181605       8        1  6.727430\n",
              "14     0.177999 -0.156813       9        1  6.519856\n",
              "2      0.044216 -0.018427      10        1  6.398707\n",
              "3      0.095542 -0.186466      11        1  6.251117\n",
              "1     -0.032516  0.050218      12        1  6.176657\n",
              "0      0.107991 -0.005613      13        1  6.160352\n",
              "7      0.156452  0.190127      14        1  6.115941\n",
              "11     0.042138 -0.033830      15        1  5.736039, topic_info=         Term         Freq        Total Category  logprob  loglift\n",
              "162   patient  5205.000000  5205.000000  Default  30.0000  30.0000\n",
              "367      cell  2229.000000  2229.000000  Default  29.0000  29.0000\n",
              "215     group  2177.000000  2177.000000  Default  28.0000  28.0000\n",
              "118      risk  1712.000000  1712.000000  Default  27.0000  27.0000\n",
              "160     model  1648.000000  1648.000000  Default  26.0000  26.0000\n",
              "...       ...          ...          ...      ...      ...      ...\n",
              "168   provide   184.464325   654.546501  Topic15  -5.0735   1.5919\n",
              "1060    small   146.261654   346.475181  Topic15  -5.3055   1.9960\n",
              "604    region   162.634228   605.188570  Topic15  -5.1994   1.5444\n",
              "743    family   144.078645   368.104412  Topic15  -5.3206   1.9204\n",
              "732      site   140.804130   421.125026  Topic15  -5.3436   1.7628\n",
              "\n",
              "[1213 rows x 6 columns], token_table=      Topic      Freq     Term\n",
              "term                          \n",
              "1542     10  1.063475  abandon\n",
              "1458      1  0.124080  ability\n",
              "1458      4  0.189997  ability\n",
              "1458      9  0.131835  ability\n",
              "1458     11  0.554481  ability\n",
              "...     ...       ...      ...\n",
              "1187     11  0.256353     work\n",
              "182       2  0.942082     year\n",
              "182       3  0.058468     year\n",
              "3583     10  0.820792    yield\n",
              "3583     12  0.181747    yield\n",
              "\n",
              "[1809 rows x 3 columns], R=30, lambda_step=0.01, plot_opts={'xlab': 'PC1', 'ylab': 'PC2'}, topic_order=[10, 6, 13, 11, 7, 5, 14, 9, 15, 3, 4, 2, 1, 8, 12])"
            ],
            "text/html": [
              "\n",
              "<link rel=\"stylesheet\" type=\"text/css\" href=\"https://cdn.jsdelivr.net/gh/bmabey/pyLDAvis@3.3.1/pyLDAvis/js/ldavis.v1.0.0.css\">\n",
              "\n",
              "\n",
              "<div id=\"ldavis_el192441398388248514086287167485\"></div>\n",
              "<script type=\"text/javascript\">\n",
              "\n",
              "var ldavis_el192441398388248514086287167485_data = {\"mdsDat\": {\"x\": [-0.23793214568197502, -0.12550711692762345, 0.008140738072308414, 0.2661123909809827, -0.049949897553686236, -0.1767298212034315, -0.1664934344384967, -0.10946304421884946, 0.1779990792932222, 0.04421561507260002, 0.09554218720787491, -0.03251594000938656, 0.10799110598868651, 0.15645184613923444, 0.042138437278539484], \"y\": [-0.146858798114879, 0.22402363915319548, 0.17435493675988287, 0.01591141427675521, -0.1702895060151155, 0.02749019742194493, -0.14543282304568653, 0.18160517249776098, -0.15681303773295668, -0.01842739723589316, -0.1864660572706639, 0.050218237705161727, -0.005613142268781242, 0.19012680585449845, -0.03382964198522315], \"topics\": [1, 2, 3, 4, 5, 6, 7, 8, 9, 10, 11, 12, 13, 14, 15], \"cluster\": [1, 1, 1, 1, 1, 1, 1, 1, 1, 1, 1, 1, 1, 1, 1], \"Freq\": [7.537924030456606, 7.438155896268685, 7.400063067947133, 7.094152500142966, 6.841782975894807, 6.816200485878494, 6.785620765612547, 6.727430292969998, 6.519856013891132, 6.398707140161425, 6.251116818010422, 6.176657058851626, 6.160352319079863, 6.115941487934181, 5.73603914690011]}, \"tinfo\": {\"Term\": [\"patient\", \"cell\", \"group\", \"risk\", \"model\", \"specie\", \"study\", \"health\", \"treatment\", \"level\", \"care\", \"associate\", \"age\", \"base\", \"test\", \"effect\", \"method\", \"datum\", \"disease\", \"infection\", \"high\", \"sample\", \"protein\", \"activity\", \"case\", \"increase\", \"year\", \"factor\", \"include\", \"gene\", \"oversight\", \"care\", \"decision_maker\", \"team_member\", \"initiative\", \"stereotype\", \"conflict\", \"postpartum\", \"service\", \"pedagogical\", \"profession\", \"teaching\", \"curriculum\", \"awareness\", \"informatization\", \"provision\", \"timely\", \"practitioner\", \"opinion\", \"financing\", \"insurer\", \"dyad\", \"teach\", \"convenience_sampling\", \"socio_cultural\", \"dialogue\", \"mother_daughter\", \"southeast_asian\", \"thoughtful\", \"ed\", \"health\", \"access\", \"healthcare\", \"professional\", \"physician\", \"qualitative\", \"interview\", \"facility\", \"nurse\", \"provider\", \"rural\", \"emergency\", \"staff\", \"programme\", \"theme\", \"stakeholder\", \"clinic\", \"attend\", \"educational\", \"confidence\", \"district\", \"insurance\", \"ethical\", \"discussion\", \"healthcare_professional\", \"caregiver\", \"seek\", \"centre\", \"medical\", \"visit\", \"program\", \"education\", \"barrier\", \"medicine\", \"practice\", \"knowledge\", \"cost\", \"communication\", \"community\", \"resource\", \"training\", \"support\", \"experience\", \"participant\", \"intervention\", \"primary\", \"survey\", \"associate\", \"cohort\", \"musculature\", \"risk\", \"age\", \"incidence\", \"prevalence\", \"alteplase\", \"coronary_artery\", \"diabetes_mellitus\", \"disability\", \"hypertension\", \"intensive_care\", \"logistic_regression\", \"odd\", \"statin\", \"stroke\", \"thrombolyze\", \"baby\", \"birth\", \"hispanic\", \"non_hispanic\", \"albuminuria\", \"comorbiditie\", \"elderly\", \"comorbid\", \"deacylate\", \"gb\", \"attending\", \"hospitalize\", \"mortality\", \"sex\", \"cardiovascular\", \"pregnancy\", \"admission\", \"adjust\", \"infant\", \"hospitalization\", \"neonatal\", \"smoking\", \"stratify\", \"body_mass_index\", \"tobacco\", \"prenatal\", \"frailty\", \"death\", \"year\", \"die\", \"smoker\", \"burden\", \"status\", \"woman\", \"diabetes\", \"association\", \"factor\", \"man\", \"high\", \"hospital\", \"population\", \"rate\", \"child\", \"adult\", \"disease\", \"low\", \"estimate\", \"early\", \"analysis\", \"increase\", \"score\", \"patient\", \"acute_ischemic_stroke\", \"atrial_fibrillation\", \"intracranial_hemorrhage\", \"recipient\", \"rescreene\", \"aspiration\", \"nephritis\", \"precision_medicine\", \"relapse\", \"vasculitis\", \"life_expectancy\", \"stratification\", \"hemodialysis\", \"histopathology\", \"cardiac\", \"failure\", \"galactosidase\", \"rare\", \"dilate_cardiomyopathy\", \"chemotherapy\", \"chest\", \"cutaneous\", \"distant_metastasis\", \"endoscopic\", \"glandular\", \"lesion\", \"lymph_node\", \"pancrea\", \"recurrence\", \"undergo\", \"surgery\", \"surgical\", \"prognosis\", \"postoperative\", \"biopsy\", \"tumour\", \"resection\", \"nerve\", \"radiotherapy\", \"artery\", \"complication\", \"overall_survival\", \"malignancy\", \"spinal\", \"renal\", \"preoperative\", \"metastatic\", \"gastric\", \"remission\", \"transplant\", \"neurological\", \"manifestation\", \"prognostic\", \"malignant\", \"advanced\", \"case\", \"diagnose\", \"acute\", \"severe\", \"procedure\", \"clinical\", \"cancer\", \"follow\", \"diagnosis\", \"treat\", \"syndrome\", \"treatment\", \"therapy\", \"survival\", \"tumor\", \"outcome\", \"present\", \"month\", \"report\", \"primary\", \"stage\", \"disease\", \"constellation\", \"cell\", \"cytoplasmic\", \"induction\", \"neutrophil\", \"glomerular\", \"alloimmune\", \"immunogenicity\", \"receptor\", \"transcriptomic\", \"amenable\", \"cellular\", \"chaperone\", \"lysosomal\", \"reversibly\", \"cisplatin\", \"immunotherapy\", \"smartly\", \"follicle\", \"histogenesis\", \"epithelial\", \"oncohematology\", \"suppress\", \"helper\", \"lymphocyte\", \"cytokine\", \"purulent\", \"examinate\", \"infiltrate\", \"polyfilament\", \"expression\", \"mouse\", \"immune\", \"regulate\", \"vivo\", \"transcription\", \"activate\", \"proliferation\", \"regulatory\", \"protein\", \"apoptosis\", \"cycle\", \"ligand\", \"viability\", \"interact\", \"binding\", \"signal_pathway\", \"collagen\", \"stimulate\", \"transcriptional\", \"promoter\", \"transcript\", \"inhibitor\", \"differentiation\", \"tissue\", \"mitochondrial\", \"pathway\", \"activation\", \"bind\", \"therapeutic\", \"mediate\", \"express\", \"inflammatory\", \"role\", \"tumor\", \"target\", \"induce\", \"regulation\", \"mechanism\", \"human\", \"response\", \"cancer\", \"interaction\", \"function\", \"gene\", \"development\", \"specific\", \"involve\", \"drug\", \"dynamical\", \"runner\", \"stride\", \"methodology\", \"model\", \"modeling\", \"thrombolyzed\", \"algorithm\", \"classification\", \"reproducible\", \"state_art\", \"estimation\", \"pillar\", \"prediction\", \"accomplish\", \"hla\", \"refinement\", \"intelligent\", \"mapping\", \"propose\", \"smart\", \"visualization\", \"filtering\", \"hasty\", \"generalization\", \"integumentary\", \"mathematical\", \"hidden\", \"informative\", \"save\", \"dataset\", \"simulation\", \"mobility\", \"computational\", \"rank\", \"automate\", \"precision\", \"segmentation\", \"throughput\", \"neural_network\", \"calibration\", \"read\", \"machine_learning\", \"machine_learn\", \"powerful\", \"deep_learning\", \"wind\", \"inverse\", \"incorporate\", \"method\", \"data\", \"correction\", \"base\", \"metric\", \"noise\", \"software\", \"set\", \"predict\", \"multi\", \"deep\", \"datum\", \"top\", \"feature\", \"image\", \"statistical\", \"analysis\", \"develop\", \"performance\", \"information\", \"cluster\", \"apply\", \"approach\", \"scale\", \"paper\", \"parameter\", \"achieve\", \"number\", \"estimate\", \"design\", \"large\", \"result\", \"time\", \"weakness\", \"mobilization\", \"holding\", \"physical\", \"sub_internship\", \"anxiety\", \"intolerance\", \"laziness\", \"mood\", \"overwhelming\", \"pandemic\", \"personality_trait\", \"quarantine\", \"rethinking\", \"shock\", \"threatening\", \"hygiene\", \"abuse\", \"alcohol\", \"depression\", \"disadvantaged\", \"domestic_violence\", \"grab\", \"humiliation\", \"indifference\", \"mental\", \"mental_disorder\", \"parent\", \"psychological\", \"sexual\", \"mental_health\", \"covid\", \"adolescent\", \"vaccination\", \"school\", \"physical_activity\", \"wave\", \"lockdown\", \"crisis\", \"healthcare_worker\", \"sleep\", \"violence\", \"vulnerable\", \"job\", \"psychosocial\", \"mask\", \"fear\", \"sport\", \"resilience\", \"suicide\", \"acceptance\", \"impact\", \"emotional\", \"old_adult\", \"life\", \"social\", \"stress\", \"people\", \"questionnaire\", \"individual\", \"behavior\", \"vaccine\", \"moderate\", \"child\", \"symptom\", \"student\", \"relate\", \"country\", \"relationship\", \"experience\", \"survey\", \"finding\", \"live\", \"work\", \"problem\", \"measure\", \"report\", \"factor\", \"researcher\", \"study\", \"article\", \"include\", \"recommendation\", \"bicultural\", \"search\", \"review\", \"primordia\", \"pronounce\", \"statement\", \"biorithm\", \"methodological\", \"discipline\", \"perivulnar\", \"proceeding\", \"subjectively\", \"publication\", \"uneven\", \"obligatory\", \"offline\", \"literature\", \"questioning\", \"primosome\", \"diglycidyl\", \"paramount\", \"publish\", \"stand_alone\", \"commentary\", \"social_isolation_loneliness\", \"evidence\", \"aim\", \"clinician\", \"systematic_review\", \"scientific\", \"web\", \"app\", \"systematic_review_meta_analysis\", \"undertake\", \"approve\", \"systematic\", \"summary\", \"checklist\", \"scope_review\", \"journal\", \"chart\", \"smartphone\", \"retrieve\", \"consensus\", \"summarize\", \"guideline\", \"criterion\", \"bias\", \"meta_analysis\", \"topic\", \"systematically\", \"research\", \"protocol\", \"database\", \"relevant\", \"safety\", \"current\", \"report\", \"screen\", \"design\", \"future\", \"intervention\", \"identify\", \"conduct\", \"quality\", \"management\", \"tool\", \"strategy\", \"datum\", \"clinical\", \"improve\", \"regard\", \"outcome\", \"approach\", \"overground\", \"dkv\", \"extension\", \"injury\", \"landing\", \"randomize_control_trial\", \"valgus\", \"antithrombotic\", \"group\", \"randomized\", \"therapist\", \"randomization\", \"waitlist\", \"week\", \"pr\", \"nonproteinuric\", \"allo\", \"dosing\", \"prescribe\", \"parallel\", \"divide\", \"dosed\", \"increased\", \"nordic\", \"walking\", \"coagulogram\", \"placebo\", \"steatohepatitis\", \"duration\", \"gingivitis\", \"pain\", \"exercise\", \"muscle\", \"day\", \"oral\", \"eye\", \"randomize\", \"fracture\", \"arm\", \"fatigue\", \"adverse_event\", \"asthma\", \"migraine\", \"fixation\", \"lumbar\", \"randomly_assign\", \"foot\", \"immediately\", \"leg\", \"post\", \"hour\", \"walk\", \"trial\", \"receive\", \"reduction\", \"dose\", \"efficacy\", \"treatment\", \"control\", \"time\", \"baseline\", \"month\", \"compare\", \"period\", \"change\", \"therapy\", \"follow\", \"outcome\", \"significantly\", \"difference\", \"low\", \"participant\", \"improve\", \"mechanical\", \"recent_advance\", \"enzymatic\", \"selectively\", \"filtration\", \"monomer\", \"polar\", \"heal\", \"laser\", \"llness\", \"suspension\", \"gum\", \"hydroxide\", \"paste\", \"artificial\", \"fragmentary\", \"capacitive\", \"patent\", \"rabbit\", \"resin\", \"chromatographic\", \"breathing\", \"additive\", \"stabilization\", \"hardware\", \"impregnation\", \"informatively\", \"stabilize\", \"titanium\", \"strengthening\", \"property\", \"stability\", \"nanoparticle\", \"matrix\", \"fiber\", \"reaction\", \"spectrum\", \"fluorescence\", \"channel\", \"formulation\", \"preparation\", \"probe\", \"polymer\", \"metal\", \"electrode\", \"ion\", \"aggregate\", \"adsorption\", \"column\", \"separation\", \"synthesize\", \"liquid\", \"spectroscopy\", \"oxidation\", \"wastewater\", \"scaffold\", \"residue\", \"optical\", \"kinetic\", \"modify\", \"particle\", \"prepare\", \"surface\", \"release\", \"peak\", \"substrate\", \"load\", \"solution\", \"skin\", \"application\", \"resolution\", \"step\", \"membrane\", \"dna\", \"material\", \"process\", \"chemical\", \"dynamic\", \"form\", \"technique\", \"structure\", \"biological\", \"device\", \"removal\", \"energy\", \"free\", \"enhance\", \"demonstrate\", \"active\", \"limit\", \"size\", \"composition\", \"drought\", \"pollution\", \"sustainable\", \"oil\", \"incipient\", \"uremia\", \"environmental\", \"solute\", \"storage\", \"cleaning\", \"cuticular\", \"mineralization\", \"pellicle\", \"totally\", \"medicinal\", \"somatically\", \"seasonality\", \"glia\", \"abandon\", \"st_nd\", \"plastic\", \"irrigation\", \"water\", \"carcass\", \"exploitation\", \"germinate\", \"maximally\", \"odontoglyphic\", \"symbiotic\", \"plant\", \"food\", \"soil\", \"fish\", \"root\", \"land\", \"consumption\", \"seed\", \"intake\", \"ecosystem\", \"nutrient\", \"ecological\", \"bird\", \"milk\", \"season\", \"forest\", \"crop\", \"conservation\", \"leaf\", \"fruit\", \"marine\", \"consumer\", \"dietary\", \"temperature\", \"landscape\", \"industry\", \"natural\", \"habitat\", \"restoration\", \"area\", \"yield\", \"product\", \"density\", \"feed\", \"production\", \"source\", \"environment\", \"diet\", \"content\", \"condition\", \"influence\", \"quality\", \"community\", \"urban\", \"grow\", \"high\", \"growth\", \"pattern\", \"change\", \"variation\", \"region\", \"low\", \"notable\", \"task\", \"hear_loss\", \"categorization\", \"motor\", \"evaluative\", \"bridge\", \"rhythm\", \"depolarization\", \"offence\", \"scientist\", \"cerebellum\", \"neuron\", \"nose\", \"precondition\", \"fundamental\", \"demonstration\", \"transformation\", \"prospect\", \"integral\", \"proof_concept\", \"integration\", \"parietal\", \"plasticity\", \"flexibility\", \"recognition\", \"serially\", \"span\", \"shed_light\", \"connectivity\", \"brain\", \"network\", \"movement\", \"memory\", \"visual\", \"attention\", \"tinnitus\", \"vision\", \"processing\", \"object\", \"temporal\", \"path\", \"virtual\", \"window\", \"cortex\", \"reward\", \"cortical\", \"ultimately\", \"decade\", \"pace\", \"paradigm\", \"recording\", \"neural\", \"technical\", \"system\", \"stimulus\", \"field\", \"stimulation\", \"drug\", \"element\", \"recent\", \"cognitive\", \"drive\", \"transition\", \"underlie\", \"functional\", \"technology\", \"structure\", \"development\", \"component\", \"aspect\", \"establish\", \"process\", \"interaction\", \"function\", \"loss\", \"understanding\", \"ability\", \"disorder\", \"complex\", \"dynamic\", \"make\", \"mechanism\", \"pattern\", \"work\", \"approach\", \"testing\", \"rotation\", \"culturally_adapt\", \"sample\", \"proteinase\", \"true\", \"virtually\", \"biometric\", \"measurement\", \"gold_standard\", \"rater\", \"virtual_sub_internship\", \"real_life\", \"primordium\", \"beat\", \"mmunity\", \"saliva\", \"immunoassay\", \"cdc\", \"strep\", \"ventilation\", \"matherial\", \"luminescence\", \"radii\", \"breath\", \"conglomerate\", \"examiner\", \"gun\", \"shooter\", \"nasopharyngeal\", \"test\", \"correlation\", \"sensitivity\", \"sensitivity_specificity\", \"instrument\", \"real_time\", \"video\", \"urine\", \"reliability\", \"cut\", \"agreement\", \"colonoscopy\", \"back\", \"positivity\", \"player\", \"polyp\", \"axial\", \"area_curve\", \"diagnostic_accuracy\", \"setup\", \"prone\", \"correlation_coefficient\", \"diagnostic\", \"acceptable\", \"utility\", \"urinary\", \"room\", \"determine\", \"positive\", \"detection\", \"reference\", \"perform\", \"total\", \"monitor\", \"validate\", \"evaluate\", \"range\", \"measure\", \"detect\", \"assess\", \"assessment\", \"comparison\", \"standard\", \"assay\", \"evaluation\", \"diagnosis\", \"good\", \"score\", \"show\", \"difference\", \"point\", \"rate\", \"compare\", \"low\", \"deidentified\", \"emergence\", \"genetic\", \"igan\", \"urgently_need\", \"varie\", \"clone\", \"epitope\", \"genotype\", \"leucocyte\", \"loci\", \"pave_way\", \"mutant\", \"mutation\", \"neutralize\", \"primer\", \"smear\", \"ace\", \"humoral\", \"sable\", \"stomatitis\", \"causative_agent\", \"coli\", \"endometritis\", \"faecalis\", \"infection\", \"miscarriage\", \"pneumoniae\", \"predominant\", \"surveillance\", \"virus\", \"sequence\", \"strain\", \"variant\", \"host\", \"viral\", \"isolate\", \"transmission\", \"antibiotic\", \"genome\", \"infectious\", \"pathogen\", \"evolution\", \"resistant\", \"genomic\", \"respiratory\", \"subtype\", \"parasite\", \"polymorphism\", \"airway\", \"evolutionary\", \"chromosome\", \"biofilm\", \"malaria\", \"infect\", \"sequencing\", \"gene\", \"resistance\", \"disease\", \"bacterial\", \"candidate\", \"identify\", \"human\", \"important\", \"identification\", \"confirm\", \"suggest\", \"population\", \"analysis\", \"major\", \"case\", \"reveal\", \"individual\", \"provide\", \"amyotrophic_lateral_sclerosis\", \"muslim\", \"diabetic\", \"immunological\", \"urea\", \"exogenous\", \"necrosis\", \"body_weight\", \"deficiency\", \"coagulation\", \"catalase\", \"citrulline\", \"induced\", \"intestinal\", \"non_alcoholic\", \"oxidative_stress\", \"plasma\", \"rat\", \"cytostatic\", \"reprint\", \"pronounced\", \"interleukin\", \"pg\", \"proinflammatory\", \"calcium\", \"expose\", \"dysfunction\", \"lipid_metabolism\", \"commander\", \"crossfit\", \"activity\", \"exposure\", \"serum\", \"metabolic\", \"lipid\", \"metabolism\", \"toxicity\", \"glucose\", \"antioxidant\", \"ad\", \"metabolite\", \"fibrosis\", \"hormone\", \"fetal\", \"iron\", \"gut\", \"fatty_acid\", \"vitamin\", \"probiotic\", \"evident\", \"level\", \"damage\", \"effect\", \"biomarker\", \"compound\", \"acid\", \"increase\", \"decrease\", \"concentration\", \"blood\", \"reduce\", \"show\", \"animal\", \"extract\", \"marker\", \"significantly\", \"potential\", \"profile\", \"addition\", \"induce\", \"high\", \"change\", \"result\", \"early\", \"historically\", \"description\", \"hitherto\", \"agalsidase\", \"crown\", \"cuspidate\", \"cusps\", \"cuticle\", \"enamel\", \"eruption\", \"fissure\", \"groove\", \"lateral\", \"permanent_tooth\", \"pit\", \"pitted\", \"puppy\", \"tooth\", \"section\", \"dental\", \"gingival\", \"morphological\", \"periodontal\", \"bioceramic\", \"calcify\", \"capping\", \"dentinal\", \"pulp\", \"pulpitis\", \"odontogenic\", \"specie\", \"genus\", \"bone\", \"implant\", \"specimen\", \"species\", \"genera\", \"taxonomic\", \"belong\", \"phylogenetic\", \"newly\", \"taxon\", \"sp\", \"prosthesis\", \"mm\", \"character\", \"fauna\", \"larvae\", \"molar\", \"speciman\", \"clade\", \"generic\", \"maxillary\", \"anomaly\", \"describe\", \"record\", \"illustrate\", \"shape\", \"unit\", \"body\", \"type\", \"male\", \"length\", \"distribution\", \"note\", \"key\", \"position\", \"find\", \"part\", \"size\", \"collect\", \"present\", \"provide\", \"small\", \"region\", \"family\", \"site\"], \"Freq\": [5205.0, 2229.0, 2177.0, 1712.0, 1648.0, 1533.0, 1591.0, 1596.0, 1758.0, 1524.0, 1415.0, 1258.0, 1251.0, 1360.0, 1058.0, 1488.0, 1158.0, 1378.0, 1569.0, 983.0, 1640.0, 966.0, 1051.0, 925.0, 1221.0, 1307.0, 1060.0, 1311.0, 885.0, 1093.0, 6.147781552878125, 1415.0143874207818, 24.5911262115125, 12.29556310575625, 60.45318526996822, 12.29556310575625, 60.45318526996822, 44.059101128959895, 628.0983486523817, 3.0738907764390624, 19.467974917447396, 27.66501698795156, 12.29556310575625, 98.36450484605, 3.0738907764390624, 71.72411811691146, 44.059101128959895, 38.93594983489479, 27.66501698795156, 6.147781552878125, 3.0738907764390624, 19.467974917447396, 19.467974917447396, 6.147781552878125, 6.147781552878125, 6.147781552878125, 12.29556310575625, 6.147781552878125, 3.0738907764390624, 31.763538023203647, 1596.3739432306863, 342.22650644354894, 302.26592634984115, 238.73885030343385, 233.61569900936874, 232.59106875055573, 211.0738333154823, 188.53196762159584, 184.43344658634376, 170.08862296296147, 162.91621115127032, 150.62064804551406, 137.3004546809448, 118.85711002231041, 115.78321924587135, 106.56154691655416, 104.51228639892813, 94.26598381079792, 93.2413535519849, 81.97042070504168, 77.87189966978958, 73.7733786345375, 69.67485759928542, 68.6502273404724, 65.57633656403334, 164.96547166889636, 187.5073373627828, 91.19209303435886, 523.5860622534536, 244.88663185631196, 341.2018761847359, 292.01962376171093, 234.64032926818177, 148.57138752788802, 378.0885655020047, 309.4383381615323, 317.6353802320364, 183.40881632753073, 428.2954481838427, 237.71422004462082, 231.5664384917427, 311.48759867915834, 295.09351453815, 361.6944813609964, 290.9949935028979, 254.10830418562918, 229.51717797411666, 1258.5807896104975, 415.4832968111763, 2.0218165294947754, 1712.4786004820746, 1251.5044317572658, 349.7742596025961, 551.9559125520736, 3.0327247942421627, 42.45814711939028, 38.414514060400734, 132.42898268190777, 146.58169838837122, 9.098174382726489, 119.28717524019173, 73.7963033265593, 39.42542232514811, 188.02893724301407, 1.0109082647473877, 28.305431412926854, 163.7671388890768, 13.141807441716038, 29.316339677674243, 4.043633058989551, 70.76357853231713, 136.47261574089734, 24.2617983539373, 1.0109082647473877, 1.0109082647473877, 1.0109082647473877, 61.66540414959064, 611.5995001721695, 339.66517695512226, 261.8252405695734, 212.2907355969514, 212.2907355969514, 210.2689190674566, 155.67987277109768, 119.28717524019173, 93.00356035675966, 91.99265209201228, 67.73085373807497, 62.676312414338035, 56.61086282585371, 52.56722976686415, 52.56722976686415, 429.63601251763976, 998.777365570419, 77.83993638554884, 75.81811985605408, 202.18165294947752, 322.47973645441664, 646.9812894383281, 227.4543595681622, 528.7050224628837, 993.7228242466821, 276.9888645407842, 1057.4100449257674, 374.03605795653345, 571.163169582274, 555.9995456110631, 552.966820816821, 318.4361033954271, 550.9450042873262, 440.75600342986104, 281.03249759977376, 289.11976371775285, 357.86152572057523, 326.5233695134062, 270.9234149522999, 5205.544260899633, 10.93601735483116, 22.866218105556065, 7.9534671671499355, 34.796418856280965, 0.9941833958937419, 15.906934334299871, 7.9534671671499355, 14.912750938406129, 54.680086774155804, 7.9534671671499355, 8.947650563043677, 21.87203470966232, 21.87203470966232, 22.866218105556065, 224.68544747198567, 140.1798588210176, 4.97091697946871, 187.9006618239172, 13.918567542512386, 188.89484521981097, 49.70916979468709, 10.93601735483116, 9.94183395893742, 71.58120450434942, 3.9767335835749678, 290.30155160097263, 10.93601735483116, 8.947650563043677, 94.44742260990549, 361.8827561053221, 398.66754175339054, 304.2201191434851, 160.06352673889245, 158.07515994710496, 112.34272373599283, 88.48232223454303, 87.48813883864928, 75.55793808792438, 75.55793808792438, 74.56375469203064, 298.25501876812257, 72.57538790024316, 68.5986543166682, 66.6102875248807, 141.17404221691135, 65.61610412898696, 61.63937054541201, 60.64518714951826, 57.66263696183703, 57.66263696183703, 103.39507317294917, 86.49395544275555, 170.9995440937236, 104.3892565688429, 175.97046107319233, 977.2822781635483, 220.7087138884107, 233.63309803502938, 301.2375689558038, 243.5749319939668, 708.852761272238, 421.5337598589466, 430.48141042199023, 322.1154202695724, 275.3888006625665, 172.9879108855111, 501.06843153044593, 286.32481801739766, 179.9471946567673, 233.63309803502938, 270.41788368309784, 228.66218105556064, 222.69708068019818, 251.5283991611167, 218.72034709662321, 191.87739540749217, 220.7087138884107, 2.008778665493475, 2229.744318697757, 18.079007989441276, 72.3160319577651, 33.14484798064234, 7.030725329227162, 5.021946663733687, 18.079007989441276, 301.31679982402125, 38.166794644376026, 8.0351146619739, 181.7944692271595, 4.01755733098695, 24.1053439859217, 4.01755733098695, 35.15362664613581, 40.1755733098695, 1.0043893327467375, 14.061450658454325, 4.01755733098695, 73.32042129051185, 1.0043893327467375, 87.38187194896616, 12.05267199296085, 59.25897063205751, 99.434543941927, 1.0043893327467375, 1.0043893327467375, 17.074618656694536, 2.008778665493475, 843.6870395072594, 362.5845491215722, 337.4748158029038, 251.09733318668438, 157.68912524123778, 137.60133858630303, 131.57500258982262, 118.51794126411502, 114.50038393312806, 1028.4946767326592, 111.48721593488786, 182.79885855990622, 96.4213759436868, 90.39503994720637, 75.32919995600531, 71.31164262501837, 69.30286395952488, 68.29847462677814, 65.28530662853794, 63.276527963044465, 60.26335996480425, 60.26335996480425, 204.89542388033445, 125.54866659334219, 441.9313064085645, 155.68034657574432, 305.3343571550082, 201.88225588209423, 206.90420254582793, 299.3080211585278, 211.92614920956163, 145.63645324827692, 165.7242399032117, 392.71622910397434, 431.8874130810971, 403.76451176418846, 389.70306110573415, 182.79885855990622, 321.404586478956, 389.70306110573415, 390.70745043848086, 355.55382379234504, 267.16756251063214, 311.36069315148865, 347.5187091303712, 293.2816851620474, 237.03588252823005, 196.86030921836056, 192.8427518873736, 8.45567830158432, 4.22783915079216, 6.341758726188241, 123.66429516067069, 1648.8572688089423, 85.61374280354124, 1.05695978769804, 224.0754749919845, 176.51228454557267, 15.8543968154706, 39.10751214482748, 108.86685813289812, 10.5695978769804, 268.4677860753022, 14.797437027772562, 2.11391957539608, 11.626557664678442, 29.594874055545123, 78.21502428965496, 487.25846212879645, 28.537914267847082, 36.9935925694314, 15.8543968154706, 1.05695978769804, 10.5695978769804, 1.05695978769804, 42.2783915079216, 10.5695978769804, 16.91135660316864, 21.1391957539608, 255.7842686229257, 195.53756072413742, 116.26557664678441, 61.30366768648632, 58.132788323392205, 56.01886874799612, 52.84798938490201, 50.734069809505925, 48.62015023410984, 46.50623065871377, 45.44927087101573, 45.44927087101573, 43.33535129561964, 42.2783915079216, 39.10751214482748, 38.05055235712944, 38.05055235712944, 36.9935925694314, 100.4111798313138, 1089.7255411166793, 91.95550152972949, 72.93022535116476, 1175.3392839202206, 72.93022535116476, 88.78462216663536, 108.86685813289812, 272.6956252260943, 382.6194431466905, 174.39836497017663, 126.8351745237648, 920.6119750849929, 64.47454704958045, 282.2082633153767, 262.12602734911394, 131.06301367455697, 620.4353953787495, 390.01816166057677, 354.0815288788434, 333.99929291258064, 182.85404327176093, 229.36027393047468, 350.9106495157493, 228.30331414277666, 195.53756072413742, 205.05019881341977, 180.74012369636483, 242.04379138285117, 198.70844008723154, 206.1071586011178, 199.76539987492959, 198.70844008723154, 202.9362792380237, 13.69033467805529, 5.265513337713573, 2.1062053350854297, 347.52388028909587, 3.159308002628144, 149.54057879106549, 14.743437345598005, 1.0531026675427149, 16.849642680683438, 7.371718672799003, 768.7649473061817, 29.48687469119601, 35.805490696452296, 1.0531026675427149, 30.539977358738728, 2.1062053350854297, 23.168258685939723, 43.1772093692513, 105.31026675427147, 226.41707352168368, 13.69033467805529, 7.371718672799003, 3.159308002628144, 2.1062053350854297, 1.0531026675427149, 74.77028939553274, 32.64618269382416, 209.56743084100023, 172.7088374770052, 71.61098139290459, 323.3025189356134, 285.3908229040757, 279.0722068988194, 235.8949975295681, 183.23986415243238, 152.69988679369365, 150.5936814586082, 96.88544541392974, 95.83234274638704, 92.67303474375889, 163.23091346912076, 82.14200806833175, 76.87649473061818, 74.77028939553274, 67.39857072273375, 66.34546805519103, 65.29236538764832, 64.2392627201056, 64.2392627201056, 64.2392627201056, 62.133057385020166, 717.1629165965887, 132.69093611038207, 172.7088374770052, 295.9218495795028, 448.6217363731964, 373.8514469776637, 424.40037501971403, 247.47912687253796, 530.7637444415283, 302.24046558475914, 264.3287695532214, 140.06265478318107, 622.3836765177444, 355.9487016294376, 231.68258685939725, 425.45347768725674, 278.01910423127674, 291.709438909332, 296.97495224704556, 265.38187222076414, 248.53222954008066, 204.30191750328666, 253.79774287779424, 202.19571216820123, 239.05430553219625, 253.79774287779424, 233.78879219448268, 158.28889324967426, 1591.387665020215, 398.37808703777074, 885.9928655720022, 199.72021430160243, 1.0623415654340553, 311.26607867217825, 821.1900300805248, 1.0623415654340553, 7.436390958038388, 23.37151443954922, 1.0623415654340553, 56.30410296800493, 16.997465046944885, 2.1246831308681107, 8.498732523472443, 7.436390958038388, 91.36137462732876, 6.3740493926043325, 2.1246831308681107, 5.3117078271702765, 359.0714491167107, 2.1246831308681107, 1.0623415654340553, 1.0623415654340553, 12.748098785208665, 208.21894682507488, 11.68575721977461, 11.68575721977461, 7.436390958038388, 615.0957663863181, 248.587926311569, 172.09933360031698, 151.9148438570699, 144.47845289903154, 132.79269567925692, 90.29903306189472, 79.67561740755416, 78.6132758421201, 75.42625114581793, 147.6654775953337, 72.23922644951577, 64.80283549147738, 61.615810795175214, 60.553469229741154, 55.24176140257089, 54.17941983713683, 53.11707827170277, 53.11707827170277, 121.10693845948231, 262.3983666622117, 217.78002091398136, 144.47845289903154, 128.5433294175207, 98.79776558536715, 73.30156801494982, 611.908741690016, 324.0141774573869, 208.21894682507488, 217.78002091398136, 248.587926311569, 312.32842023761225, 573.6644453343898, 250.71260944243707, 335.69993467716154, 275.1464654474204, 467.4302887909844, 457.8692147020779, 286.8322226671949, 337.82461780802964, 310.2037371067442, 282.58285640545876, 315.51544493391447, 457.8692147020779, 418.5625767810178, 293.2062720597993, 229.46577813375595, 295.3309551906674, 230.52811969919003, 2.125247360927877, 2.125247360927877, 38.25445249670178, 342.1648251093882, 5.3131184023196925, 89.26038915897084, 3.187871041391815, 15.939355206959076, 2177.3159212706096, 63.757420827836306, 23.377720970206646, 27.6282156920624, 15.939355206959076, 433.5504616292869, 17.001978887423014, 1.0626236804639384, 3.187871041391815, 10.626236804639385, 61.63217346690843, 63.757420827836306, 131.76533637752837, 2.125247360927877, 17.001978887423014, 5.3131184023196925, 17.001978887423014, 2.125247360927877, 122.20172325335291, 4.250494721855754, 180.64602567886953, 9.563613124175445, 426.1120958660393, 297.53463052990276, 272.03166219876823, 727.8972211177978, 281.5952753229437, 172.14503623515805, 147.70469158448745, 137.07845477984804, 125.38959429474473, 116.88860485103324, 85.00989443711508, 74.38365763247569, 65.88266818876419, 56.31905506458874, 46.75544194041329, 45.692818259949355, 45.692818259949355, 42.50494721855754, 39.317076177165724, 346.4153198312439, 153.01780998680712, 73.32103395201175, 482.43115093062806, 474.9927851673805, 302.84774893222243, 302.84774893222243, 345.35269615078, 1257.0838139888392, 765.0890499340356, 701.3316291061993, 252.90443595041734, 396.35863281304904, 538.7502059952168, 274.1569095596961, 418.67373010279175, 291.1588884471191, 317.7244804587176, 329.4133409438209, 264.5932964355207, 262.4680490745928, 287.9710174057273, 255.02968331134522, 233.77720970206647, 75.65813493918014, 25.219378313060048, 49.38794919640925, 26.27018574277088, 13.660496586240859, 17.8637263050842, 5.254037148554176, 8.406459437686681, 55.692793774674264, 1.0508074297108352, 28.371800602192554, 15.76211144566253, 7.355652007975847, 4.203229718843341, 55.692793774674264, 1.0508074297108352, 7.355652007975847, 11.558881726819187, 19.96534116450587, 34.67664518045756, 13.660496586240859, 14.711304015951693, 51.489564055830925, 32.5750303210359, 9.457266867397518, 6.304844578265012, 1.0508074297108352, 40.981489758722574, 24.16857088334921, 4.203229718843341, 350.96968152341896, 187.0437224885287, 128.1985064247219, 117.69043212761355, 113.48720240877022, 193.3485670667937, 108.23316526021604, 108.23316526021604, 107.1823578305052, 102.97912811166185, 100.87751325224019, 98.7758983928185, 96.67428353339685, 93.52186124426434, 86.16620923628848, 86.16620923628848, 84.06459437686682, 81.96297951744515, 80.91217208773432, 80.91217208773432, 75.65813493918014, 70.40409779062597, 69.35329036091512, 68.3024829312043, 68.3024829312043, 68.3024829312043, 66.20086807178262, 65.1500606420718, 64.09925321236095, 196.5009893559262, 119.79204698703522, 98.7758983928185, 337.30918493717814, 179.68807048055282, 119.79204698703522, 134.5033510029869, 102.97912811166185, 175.48484076170948, 175.48484076170948, 301.5817323270097, 128.1985064247219, 185.99291505881783, 150.26546244864943, 155.5194995972036, 188.09452991823952, 281.6163911625039, 159.72272931604695, 193.3485670667937, 200.70421907476953, 208.0598710827454, 220.6695602392754, 170.2308036131553, 143.96061787038443, 121.8936618464569, 133.45254357327607, 126.09689156530024, 132.40173614356524, 137.65577329211942, 129.24931385443273, 130.3001212841436, 126.09689156530024, 186.98803482861524, 67.70256433449862, 67.70256433449862, 74.15042760445087, 74.15042760445087, 6.447863269952251, 1.0746438783253751, 398.69287885871415, 6.447863269952251, 97.79259292760912, 16.119658174880627, 3.2239316349761253, 6.447863269952251, 1.0746438783253751, 7.522507148277626, 23.642165323158252, 1.0746438783253751, 13.970370418229875, 1.0746438783253751, 7.522507148277626, 6.447863269952251, 52.65755003794337, 10.74643878325375, 546.9937340676158, 21.4928775665075, 11.821082661579126, 1.0746438783253751, 3.2239316349761253, 1.0746438783253751, 9.671794904928376, 360.00569923900065, 349.25926045574687, 197.734473611869, 141.85299193894951, 130.0319092773704, 127.88262152071964, 113.91225110248976, 109.61367558918825, 104.24045619756137, 104.24045619756137, 102.09116844091064, 92.41937353598225, 91.34472965765687, 82.74757863105388, 82.74757863105388, 81.67293475272851, 79.52364699607774, 75.22507148277626, 70.92649596947476, 69.85185209114938, 66.62792045617324, 66.62792045617324, 133.25584091234649, 217.07806342172577, 75.22507148277626, 109.61367558918825, 198.80911749019438, 113.91225110248976, 102.09116844091064, 382.57322068383354, 139.70370418229876, 228.89914608330488, 162.27122562713163, 111.762963345839, 186.98803482861524, 224.60057057000338, 210.6302001517735, 149.37549908722713, 189.13732258526602, 239.64558486655864, 185.91339095028988, 212.77948790842424, 210.6302001517735, 125.73333376406887, 120.36011437244201, 264.36239406804225, 169.79373277540924, 162.27122562713163, 188.06267870694063, 133.25584091234649, 142.9276358172749, 131.10655315569576, 21.711255765510273, 293.1019528343887, 7.598939517928596, 5.427813941377568, 151.97879035857193, 7.598939517928596, 22.796818553785787, 24.967944130336814, 5.427813941377568, 5.427813941377568, 22.796818553785787, 11.94119067103065, 92.27283700341866, 23.8823813420613, 7.598939517928596, 57.53482777860223, 10.855627882755137, 67.30489287308184, 22.796818553785787, 24.967944130336814, 22.796818553785787, 95.5295253682452, 24.967944130336814, 30.395758071714383, 35.82357201309195, 120.49746949858202, 5.427813941377568, 37.99469758964298, 30.395758071714383, 55.3637022020512, 423.3694874274504, 436.3962408867565, 188.88792515993939, 162.83441824132706, 143.2942880523678, 196.48686467786797, 81.41720912066353, 77.07495796756147, 147.6365392054699, 73.81826960273494, 138.95203689926575, 65.13376729653082, 64.04820450825531, 54.27813941377569, 52.10701383722466, 51.021451048949146, 49.93588826067363, 48.85032547239812, 47.7647626841226, 46.67919989584709, 46.67919989584709, 45.593637107571574, 98.78621373307175, 87.93058585031662, 852.1667887962782, 71.6471440261839, 282.24632495163354, 99.87177652134726, 516.7278872191445, 100.95733930962277, 224.71149717303135, 201.91467861924554, 150.89322757029643, 105.29959046272484, 98.78621373307175, 258.36394360957223, 210.59918092544967, 301.78645514059286, 353.89346897781746, 183.46011121856182, 122.66859507513306, 193.23017631304143, 275.73294822198045, 210.59918092544967, 227.9681855378579, 166.0911066061536, 147.6365392054699, 143.2942880523678, 167.17666939442913, 171.51892054753117, 156.321041511674, 153.06435314684745, 155.23547872339847, 151.97879035857193, 153.06435314684745, 150.89322757029643, 300.9163673805718, 34.169990435156514, 12.124835315700697, 966.6800519881373, 7.715804291809534, 50.70385677474837, 14.329350827646278, 8.818062047782325, 324.0637802560004, 40.783536970993254, 15.431608583619068, 7.715804291809534, 17.63612409556465, 1.1022577559727906, 7.715804291809534, 1.1022577559727906, 40.783536970993254, 34.169990435156514, 1.1022577559727906, 1.1022577559727906, 20.942897363483024, 1.1022577559727906, 7.715804291809534, 4.4090310238911625, 24.249670631401393, 1.1022577559727906, 9.920319803755115, 1.1022577559727906, 2.2045155119455813, 19.84063960751023, 1055.9629302219334, 357.13151293518416, 285.48475879695275, 116.8393221331158, 116.8393221331158, 108.02126008533348, 104.71448681741511, 102.50997130546952, 90.38513598976883, 80.46481618601372, 78.26030067406813, 60.62417657850348, 52.90837228669395, 49.60159901877558, 49.60159901877558, 46.29482575085721, 42.98805248293883, 42.98805248293883, 39.68127921502046, 38.579021459047674, 33.06773267918372, 33.06773267918372, 348.3134508874018, 69.44223862628581, 108.02126008533348, 67.23772311434023, 51.80611453072116, 407.8353697099325, 542.310815938613, 408.9376274659053, 201.71316934302067, 481.6866393601095, 450.82342219287136, 158.72511686008184, 171.95220993175533, 419.96020502563323, 329.5750690358644, 425.4714938054971, 306.4276561604358, 408.9376274659053, 315.2457182082181, 196.20188056315672, 216.04252017066696, 187.3838185153744, 234.78090202220437, 281.0757277730616, 231.47412875428603, 326.26829576794603, 314.1434604522453, 290.99604757681675, 203.91768485496624, 266.7463769454153, 228.16735548636763, 205.01994261093904, 1.0804669424428852, 55.10381406458714, 390.0485662218816, 11.885136366871738, 12.965603309314622, 9.724202481985968, 27.01167356107213, 39.97727687038675, 129.65603309314622, 2.1609338848857704, 31.333541330843673, 9.724202481985968, 71.31081820123043, 231.21992568277744, 37.81634298550098, 12.965603309314622, 16.207004136643278, 17.287471079086163, 18.367938021529046, 1.0804669424428852, 9.724202481985968, 15.126537194200393, 52.942880179701376, 1.0804669424428852, 5.402334712214426, 983.2249176230256, 2.1609338848857704, 19.448404963971935, 34.57494215817233, 92.92015705008812, 466.76171913532636, 353.31269017882346, 243.10506204964918, 239.86366122232053, 231.21992568277744, 230.13945874033453, 209.6105868339197, 203.12778517926242, 178.27704550307604, 173.95517773330454, 138.2997686326893, 135.05836780536066, 135.05836780536066, 135.05836780536066, 99.40295870474543, 175.0356446757474, 95.0810909349739, 91.83969010764524, 87.5178223378737, 86.43735539543081, 79.9545537407735, 76.71315291344486, 75.63268597100196, 73.47175208611618, 135.05836780536066, 128.57556615070334, 745.5221902855908, 204.2082521217053, 797.3846035228493, 169.63330996353298, 122.09276449604603, 475.4054546748695, 359.79549183348075, 229.05899179789168, 179.35751244551895, 194.48404963971933, 213.93245460369127, 274.43860338049285, 282.001871977593, 186.92078104261915, 244.18552899209206, 172.87471079086163, 188.00124798506204, 176.11611161819027, 6.566101369717212, 1.094350228286202, 88.64236849118238, 44.868359359734285, 15.32090319600683, 18.603953880865436, 28.453105935441258, 61.28361278402732, 88.64236849118238, 37.20790776173087, 13.132202739434424, 7.660451598003415, 15.32090319600683, 105.0576219154754, 5.47175114143101, 98.49152054575819, 190.41693972179917, 304.22936346356414, 8.754801826289617, 1.094350228286202, 21.88700456572404, 10.94350228286202, 17.509603652579234, 15.32090319600683, 103.9632716871892, 193.69999040665778, 142.2655296772063, 16.41525342429303, 2.188700456572404, 2.188700456572404, 924.7259429018408, 551.5525150562459, 309.7011146049952, 234.19094885324725, 184.94518858036815, 154.3033821883545, 149.9259812752097, 136.79377853577526, 122.56722556805464, 117.09547442662362, 109.43502282862022, 93.01976940432718, 88.64236849118238, 82.07626712146516, 78.79321643660656, 73.32146529517554, 71.13276483860315, 62.377963012313515, 55.811861642596305, 55.811861642596305, 1320.880725541446, 177.28473698236476, 1107.4824310256365, 245.13445113610928, 209.02089360266461, 227.62484748353006, 864.5366803460996, 374.2677780738812, 311.8898150615676, 265.9271054735471, 385.21128035674315, 462.91014656506354, 219.9643958855266, 211.20959405923702, 205.737842917806, 295.4745616372746, 285.62540958269875, 180.56778766722337, 202.4547922329474, 218.87004565724044, 290.00281049584356, 245.13445113610928, 192.60564017837157, 188.22823926522676, 17.46407814733107, 145.17014959968952, 9.823543957873726, 2.1830097684163836, 15.281068378914686, 3.274514652624575, 2.1830097684163836, 5.45752442104096, 31.653641642037563, 5.45752442104096, 8.732039073665534, 17.46407814733107, 110.24199330502736, 9.823543957873726, 3.274514652624575, 2.1830097684163836, 5.45752442104096, 152.81068378914685, 70.94781747353247, 221.57549149426293, 15.281068378914686, 135.34660564181578, 24.01310745258022, 6.54902930524915, 4.366019536832767, 2.1830097684163836, 6.54902930524915, 13.0980586104983, 3.274514652624575, 15.281068378914686, 1533.5643623125095, 314.35340665195923, 279.4252503572971, 239.03956964159397, 206.29442311534825, 108.058983536611, 108.058983536611, 99.32694446294545, 93.86942004190449, 85.13738096823896, 77.49684677878162, 75.31383701036523, 72.03932235774066, 70.94781747353247, 138.62112029444037, 64.39878816828332, 61.12427351565874, 60.032768631450544, 54.57524421040959, 54.57524421040959, 50.20922467357683, 49.117719789368635, 49.117719789368635, 48.02621490516044, 617.7917644618366, 392.9417583149491, 106.96747865240279, 179.00680101014348, 161.54272286281238, 216.117967073222, 413.68035111490474, 251.0461233678841, 137.52961541023217, 221.57549149426293, 104.7844688839864, 209.5689377679728, 134.2551007576076, 249.95461848367592, 165.90874239964515, 168.09175216806156, 160.4512179786042, 187.73884008380898, 184.46432543118442, 146.2616544838977, 162.6342277470206, 144.07864471548132, 140.80413006285676], \"Total\": [5205.0, 2229.0, 2177.0, 1712.0, 1648.0, 1533.0, 1591.0, 1596.0, 1758.0, 1524.0, 1415.0, 1258.0, 1251.0, 1360.0, 1058.0, 1488.0, 1158.0, 1378.0, 1569.0, 983.0, 1640.0, 966.0, 1051.0, 925.0, 1221.0, 1307.0, 1060.0, 1311.0, 885.0, 1093.0, 6.147781552878125, 1415.0143874207818, 24.5911262115125, 12.29556310575625, 60.45318526996822, 12.29556310575625, 60.45318526996822, 44.059101128959895, 628.0983486523817, 3.0738907764390624, 19.467974917447396, 27.66501698795156, 12.29556310575625, 98.36450484605, 3.0738907764390624, 71.72411811691146, 44.059101128959895, 38.93594983489479, 27.66501698795156, 6.147781552878125, 3.0738907764390624, 19.467974917447396, 19.467974917447396, 6.147781552878125, 6.147781552878125, 6.147781552878125, 12.29556310575625, 6.147781552878125, 3.0738907764390624, 31.763538023203647, 1596.3739432306863, 342.22650644354894, 302.26592634984115, 238.73885030343385, 233.61569900936874, 232.59106875055573, 211.0738333154823, 188.53196762159584, 184.43344658634376, 170.08862296296147, 162.91621115127032, 150.62064804551406, 137.3004546809448, 118.85711002231041, 115.78321924587135, 106.56154691655416, 104.51228639892813, 94.26598381079792, 93.2413535519849, 81.97042070504168, 77.87189966978958, 73.7733786345375, 69.67485759928542, 68.6502273404724, 65.57633656403334, 167.16998718084193, 191.72210121734938, 92.20300129910625, 575.2835988399282, 265.0764817851268, 393.25661289100464, 335.1968331309622, 262.91929367644616, 159.61967018810213, 499.195503961487, 393.7147596720773, 429.67311772802867, 214.89013718752062, 638.9256483356162, 312.9392915273971, 355.8934091060235, 611.2826155829475, 592.0684667851956, 896.4222580037291, 976.2631367889896, 646.0185379509917, 494.89905019488083, 1258.5807896104975, 415.4832968111763, 2.0218165294947754, 1712.4786004820746, 1251.5044317572658, 349.7742596025961, 551.9559125520736, 3.0327247942421627, 42.45814711939028, 38.414514060400734, 132.42898268190777, 146.58169838837122, 9.098174382726489, 119.28717524019173, 73.7963033265593, 39.42542232514811, 188.02893724301407, 1.0109082647473877, 28.305431412926854, 163.7671388890768, 13.141807441716038, 29.316339677674243, 4.043633058989551, 70.76357853231713, 136.47261574089734, 24.2617983539373, 1.0109082647473877, 1.0109082647473877, 1.0109082647473877, 61.66540414959064, 611.5995001721695, 339.66517695512226, 261.8252405695734, 212.2907355969514, 212.2907355969514, 210.2689190674566, 155.67987277109768, 119.28717524019173, 93.00356035675966, 91.99265209201228, 67.73085373807497, 62.676312414338035, 56.61086282585371, 52.56722976686415, 52.56722976686415, 447.715020507081, 1060.4167361158309, 78.92549917382435, 76.8712225235968, 221.3038011272905, 370.50595135957707, 801.7004585190942, 255.90746550360348, 646.6525212276678, 1311.8803203918908, 323.7154841477901, 1640.4339511449457, 526.7059665196736, 934.0623970363549, 1051.663872054061, 1175.3504973345655, 547.7719911338221, 1569.038321698586, 1067.0393717147176, 480.8431954429781, 625.5564194093236, 1261.373436955243, 1307.1215887186463, 819.7999858811633, 5205.544260899633, 10.93601735483116, 22.866218105556065, 7.9534671671499355, 34.796418856280965, 0.9941833958937419, 15.906934334299871, 7.9534671671499355, 14.912750938406129, 54.680086774155804, 7.9534671671499355, 8.947650563043677, 21.87203470966232, 21.87203470966232, 22.866218105556065, 224.68544747198567, 140.1798588210176, 4.97091697946871, 187.9006618239172, 13.918567542512386, 188.89484521981097, 49.70916979468709, 10.93601735483116, 9.94183395893742, 71.58120450434942, 3.9767335835749678, 290.30155160097263, 10.93601735483116, 8.947650563043677, 94.44742260990549, 361.8827561053221, 399.67193108613725, 304.2201191434851, 160.06352673889245, 158.07515994710496, 112.34272373599283, 88.48232223454303, 87.48813883864928, 75.55793808792438, 75.55793808792438, 74.56375469203064, 302.5359101907967, 72.57538790024316, 68.5986543166682, 66.6102875248807, 142.25960500518687, 65.61610412898696, 61.63937054541201, 60.64518714951826, 57.66263696183703, 57.66263696183703, 104.48063596122468, 87.51858570156857, 178.07590194695533, 106.5779570254153, 183.63091267119574, 1221.4678071556405, 267.28365197421203, 299.04662636774054, 415.4702028722586, 320.73297491206216, 1207.1121140880512, 777.0875836512917, 852.3294421496887, 603.191148042634, 520.7350983136882, 276.7127373600281, 1758.152245519285, 706.0455410560992, 319.9028153045983, 665.5205111161265, 1079.1474840016108, 671.4445883759149, 619.0557134932473, 1078.9905873733007, 646.0185379509917, 449.9146571259701, 1569.038321698586, 2.008778665493475, 2229.744318697757, 18.079007989441276, 72.3160319577651, 33.14484798064234, 7.030725329227162, 5.021946663733687, 18.079007989441276, 301.31679982402125, 38.166794644376026, 8.0351146619739, 181.7944692271595, 4.01755733098695, 24.1053439859217, 4.01755733098695, 35.15362664613581, 40.1755733098695, 1.0043893327467375, 14.061450658454325, 4.01755733098695, 73.32042129051185, 1.0043893327467375, 87.38187194896616, 12.05267199296085, 59.25897063205751, 99.434543941927, 1.0043893327467375, 1.0043893327467375, 17.074618656694536, 2.008778665493475, 843.6870395072594, 362.5845491215722, 337.4748158029038, 251.09733318668438, 157.68912524123778, 137.60133858630303, 131.57500258982262, 118.51794126411502, 114.50038393312806, 1051.6124401862976, 111.48721593488786, 183.86148224037015, 96.4213759436868, 90.39503994720637, 75.32919995600531, 71.31164262501837, 69.30286395952488, 68.29847462677814, 65.28530662853794, 63.276527963044465, 60.26335996480425, 60.26335996480425, 208.17847456519306, 127.70960047822796, 488.956639677049, 165.50389053361806, 353.4857671996011, 232.27801395380862, 240.53004029657467, 371.28188621320606, 256.15646124635566, 165.10442816572433, 194.55555838413022, 579.6865002165954, 665.5205111161265, 619.4135823992478, 608.5731067629746, 223.24587980644225, 546.870416461142, 825.4879481185009, 880.6726904025735, 777.0875836512917, 478.861093664368, 721.1960643507155, 1093.040899415962, 756.6101769684851, 574.6093488388136, 399.5489612192624, 709.570639106518, 8.45567830158432, 4.22783915079216, 6.341758726188241, 123.66429516067069, 1648.8572688089423, 85.61374280354124, 1.05695978769804, 224.0754749919845, 176.51228454557267, 15.8543968154706, 39.10751214482748, 108.86685813289812, 10.5695978769804, 268.4677860753022, 14.797437027772562, 2.11391957539608, 11.626557664678442, 29.594874055545123, 78.21502428965496, 487.25846212879645, 28.537914267847082, 36.9935925694314, 15.8543968154706, 1.05695978769804, 10.5695978769804, 1.05695978769804, 42.2783915079216, 10.5695978769804, 16.91135660316864, 21.1391957539608, 255.7842686229257, 196.54195005688416, 116.26557664678441, 61.30366768648632, 58.132788323392205, 56.01886874799612, 52.84798938490201, 50.734069809505925, 48.62015023410984, 46.50623065871377, 45.44927087101573, 45.44927087101573, 43.33535129561964, 42.2783915079216, 39.10751214482748, 38.05055235712944, 38.05055235712944, 36.9935925694314, 101.502684715522, 1158.0280240478837, 93.041064318005, 74.01069229360765, 1360.1867163057464, 75.0364306862502, 93.19365319052652, 116.38308147201398, 324.5017397568155, 473.61490896802104, 201.07674512096608, 143.64809339913816, 1378.481189787071, 67.69847868455658, 419.59269384991023, 391.0901847979304, 166.12959512986694, 1261.373436955243, 691.1370489458731, 619.6759530531466, 582.506210204512, 265.8973761109355, 369.6086225552735, 732.3319967852358, 425.09523663428956, 348.95219592825345, 406.91627288671805, 326.50401592406524, 683.2645868769363, 480.8431954429781, 543.9680271631652, 513.821111037131, 781.325724445111, 1038.3959692888025, 13.69033467805529, 5.265513337713573, 2.1062053350854297, 347.52388028909587, 3.159308002628144, 149.54057879106549, 14.743437345598005, 1.0531026675427149, 16.849642680683438, 7.371718672799003, 768.7649473061817, 29.48687469119601, 35.805490696452296, 1.0531026675427149, 30.539977358738728, 2.1062053350854297, 23.168258685939723, 43.1772093692513, 105.31026675427147, 226.41707352168368, 13.69033467805529, 7.371718672799003, 3.159308002628144, 2.1062053350854297, 1.0531026675427149, 74.77028939553274, 32.64618269382416, 209.56743084100023, 172.7088374770052, 71.61098139290459, 323.3025189356134, 285.3908229040757, 279.0722068988194, 235.8949975295681, 183.23986415243238, 152.69988679369365, 150.5936814586082, 96.88544541392974, 95.83234274638704, 92.67303474375889, 164.33317122509357, 82.14200806833175, 76.87649473061818, 74.77028939553274, 67.39857072273375, 66.34546805519103, 65.29236538764832, 64.2392627201056, 64.2392627201056, 64.2392627201056, 62.133057385020166, 786.9553601107606, 135.9476244752086, 181.8070118597317, 335.3184577978061, 532.6414175958641, 461.98368905923456, 537.1097034891463, 295.63674903674996, 772.9746217110733, 405.33417511236826, 354.00752577598087, 162.3026366076236, 1175.3504973345655, 582.853060541077, 332.09635222307327, 853.251751642363, 459.11792896565464, 517.472914297751, 592.0684667851956, 494.89905019488083, 482.59543252022, 309.28410643899264, 596.8338080456173, 313.17648987649545, 673.6239737204198, 1078.9905873733007, 1311.8803203918908, 158.28889324967426, 1591.387665020215, 398.37808703777074, 885.9928655720022, 199.72021430160243, 1.0623415654340553, 311.26607867217825, 821.1900300805248, 1.0623415654340553, 7.436390958038388, 23.37151443954922, 1.0623415654340553, 56.30410296800493, 16.997465046944885, 2.1246831308681107, 8.498732523472443, 7.436390958038388, 91.36137462732876, 6.3740493926043325, 2.1246831308681107, 5.3117078271702765, 359.0714491167107, 2.1246831308681107, 1.0623415654340553, 1.0623415654340553, 12.748098785208665, 208.21894682507488, 11.68575721977461, 11.68575721977461, 7.436390958038388, 615.0957663863181, 248.587926311569, 172.09933360031698, 151.9148438570699, 144.47845289903154, 132.79269567925692, 90.29903306189472, 79.67561740755416, 78.6132758421201, 75.42625114581793, 148.71628502504453, 72.23922644951577, 64.80283549147738, 61.615810795175214, 60.553469229741154, 55.24176140257089, 54.17941983713683, 53.11707827170277, 53.11707827170277, 122.19250124775782, 269.5707784739028, 224.85637876721307, 147.73514126385808, 133.87429108181934, 101.9570735879953, 74.35852780264786, 779.9481041353514, 393.1909977529722, 247.508439821538, 270.65374664743865, 348.46273602442614, 472.5057225025515, 1078.9905873733007, 356.3466550333742, 543.9680271631652, 422.7280077920594, 976.2631367889896, 947.4273850834109, 466.14251795947354, 651.050200609015, 560.5487568241679, 481.5781476519944, 616.5379940037132, 1378.481189787071, 1207.1121140880512, 701.3818467320424, 333.7229422204847, 1079.1474840016108, 732.3319967852358, 2.125247360927877, 2.125247360927877, 38.25445249670178, 342.1648251093882, 5.3131184023196925, 89.26038915897084, 3.187871041391815, 15.939355206959076, 2177.3159212706096, 63.757420827836306, 23.377720970206646, 27.6282156920624, 15.939355206959076, 433.5504616292869, 17.001978887423014, 1.0626236804639384, 3.187871041391815, 10.626236804639385, 61.63217346690843, 63.757420827836306, 131.76533637752837, 2.125247360927877, 17.001978887423014, 5.3131184023196925, 17.001978887423014, 2.125247360927877, 122.20172325335291, 4.250494721855754, 180.64602567886953, 9.563613124175445, 427.2143536220121, 297.53463052990276, 272.03166219876823, 736.4943721444008, 282.6975330789165, 172.14503623515805, 147.70469158448745, 137.07845477984804, 125.38959429474473, 116.88860485103324, 85.00989443711508, 74.38365763247569, 65.88266818876419, 56.31905506458874, 46.75544194041329, 45.692818259949355, 45.692818259949355, 42.50494721855754, 39.317076177165724, 360.7601434546262, 157.31638550010862, 74.37413661955446, 523.8110386818696, 516.0780227589261, 325.995161807651, 335.62654076799555, 392.55899478987664, 1758.152245519285, 1142.556772648198, 1038.3959692888025, 329.7334640712188, 619.0557134932473, 940.7937830181352, 486.22542895042864, 976.136974715882, 706.0455410560992, 852.3294421496887, 1079.1474840016108, 686.4313911662186, 722.6739227573131, 1067.0393717147176, 896.4222580037291, 701.3818467320424, 75.65813493918014, 25.219378313060048, 49.38794919640925, 26.27018574277088, 13.660496586240859, 17.8637263050842, 5.254037148554176, 8.406459437686681, 55.692793774674264, 1.0508074297108352, 28.371800602192554, 15.76211144566253, 7.355652007975847, 4.203229718843341, 55.692793774674264, 1.0508074297108352, 7.355652007975847, 11.558881726819187, 19.96534116450587, 34.67664518045756, 13.660496586240859, 14.711304015951693, 51.489564055830925, 32.5750303210359, 9.457266867397518, 6.304844578265012, 1.0508074297108352, 40.981489758722574, 24.16857088334921, 4.203229718843341, 353.14080709997, 187.0437224885287, 128.1985064247219, 117.69043212761355, 113.48720240877022, 194.43412985506922, 108.23316526021604, 108.23316526021604, 107.1823578305052, 102.97912811166185, 100.87751325224019, 98.7758983928185, 96.67428353339685, 93.52186124426434, 86.16620923628848, 86.16620923628848, 84.06459437686682, 81.96297951744515, 80.91217208773432, 80.91217208773432, 75.65813493918014, 70.40409779062597, 69.35329036091512, 68.3024829312043, 68.3024829312043, 68.3024829312043, 66.20086807178262, 65.1500606420718, 64.09925321236095, 199.75767772075275, 120.8666908653606, 99.86146118109401, 361.3222923897584, 187.34852207855624, 122.82477178127738, 139.87657039461376, 107.37740626378842, 203.14985774966104, 218.6339597817294, 480.2348453366585, 150.99532497850768, 255.09155925771435, 194.45859308950588, 221.7177375420953, 320.1320758109206, 727.0982055651089, 254.29139060867996, 372.92272390782455, 413.07325666077264, 477.39276327988307, 567.591058269534, 340.5875295877467, 251.9818779557179, 157.68426409863162, 226.9465609875837, 217.57521142484197, 325.4973433782018, 471.61369519287734, 292.44599542093687, 326.7126752609948, 356.88344088073416, 186.98803482861524, 67.70256433449862, 67.70256433449862, 74.15042760445087, 74.15042760445087, 6.447863269952251, 1.0746438783253751, 398.69287885871415, 6.447863269952251, 97.79259292760912, 16.119658174880627, 3.2239316349761253, 6.447863269952251, 1.0746438783253751, 7.522507148277626, 23.642165323158252, 1.0746438783253751, 13.970370418229875, 1.0746438783253751, 7.522507148277626, 6.447863269952251, 52.65755003794337, 10.74643878325375, 546.9937340676158, 21.4928775665075, 11.821082661579126, 1.0746438783253751, 3.2239316349761253, 1.0746438783253751, 9.671794904928376, 360.00569923900065, 350.3397273981898, 197.734473611869, 141.85299193894951, 130.0319092773704, 127.88262152071964, 113.91225110248976, 109.61367558918825, 104.24045619756137, 104.24045619756137, 102.09116844091064, 92.41937353598225, 91.34472965765687, 82.74757863105388, 82.74757863105388, 81.67293475272851, 79.52364699607774, 75.22507148277626, 70.92649596947476, 69.85185209114938, 66.62792045617324, 66.62792045617324, 135.24420770413397, 245.44986402391834, 76.28741304821031, 118.11240811266069, 243.31719180949045, 125.91880482877987, 110.82320751457617, 577.6325722398597, 170.5669213495369, 331.8782741949667, 212.21453860893672, 128.17821677013202, 277.5481770850879, 368.5731363618495, 337.56889110849676, 206.28171095810964, 332.900565143932, 664.2955118795335, 442.8543683570978, 651.050200609015, 638.9256483356162, 173.89095592828085, 154.35504446633178, 1640.4339511449457, 446.8125353499446, 447.0911408974697, 976.136974715882, 285.48881977847043, 605.1885699437448, 1067.0393717147176, 21.711255765510273, 293.1019528343887, 7.598939517928596, 5.427813941377568, 151.97879035857193, 7.598939517928596, 22.796818553785787, 24.967944130336814, 5.427813941377568, 5.427813941377568, 22.796818553785787, 11.94119067103065, 92.27283700341866, 23.8823813420613, 7.598939517928596, 57.53482777860223, 10.855627882755137, 67.30489287308184, 22.796818553785787, 24.967944130336814, 22.796818553785787, 95.5295253682452, 24.967944130336814, 30.395758071714383, 35.82357201309195, 120.49746949858202, 5.427813941377568, 37.99469758964298, 30.395758071714383, 55.3637022020512, 423.3694874274504, 437.4905911150427, 188.88792515993939, 162.83441824132706, 143.2942880523678, 197.511494936681, 81.41720912066353, 77.07495796756147, 148.64092853821663, 73.81826960273494, 140.0089966869638, 65.13376729653082, 64.04820450825531, 54.27813941377569, 52.10701383722466, 51.021451048949146, 49.93588826067363, 48.85032547239812, 47.7647626841226, 46.67919989584709, 46.67919989584709, 45.593637107571574, 99.83702116278258, 89.0110527927595, 1019.8040400021652, 73.74875888560557, 326.30902131289776, 108.37276596505876, 709.570639106518, 112.8424756764945, 291.70044760449025, 261.40580628355264, 184.20718779838305, 120.66904434492015, 114.85644305701955, 434.63646486731346, 333.8629071248607, 567.591058269534, 756.6101769684851, 314.756813184071, 164.2457327209319, 373.27420304204475, 727.0982055651089, 478.861093664368, 721.1960643507155, 350.5119264390226, 271.76979126770345, 257.8987411309083, 440.2007452338082, 483.980485830409, 372.92272390782455, 350.5145247067721, 546.870416461142, 447.0911408974697, 596.8338080456173, 732.3319967852358, 300.9163673805718, 34.169990435156514, 12.124835315700697, 966.6800519881373, 7.715804291809534, 50.70385677474837, 14.329350827646278, 8.818062047782325, 324.0637802560004, 40.783536970993254, 15.431608583619068, 7.715804291809534, 17.63612409556465, 1.1022577559727906, 7.715804291809534, 1.1022577559727906, 40.783536970993254, 34.169990435156514, 1.1022577559727906, 1.1022577559727906, 20.942897363483024, 1.1022577559727906, 7.715804291809534, 4.4090310238911625, 24.249670631401393, 1.1022577559727906, 9.920319803755115, 1.1022577559727906, 2.2045155119455813, 19.84063960751023, 1058.0876133528016, 357.13151293518416, 285.48475879695275, 116.8393221331158, 116.8393221331158, 108.02126008533348, 104.71448681741511, 102.50997130546952, 90.38513598976883, 80.46481618601372, 78.26030067406813, 60.62417657850348, 52.90837228669395, 49.60159901877558, 49.60159901877558, 46.29482575085721, 42.98805248293883, 42.98805248293883, 39.68127921502046, 38.579021459047674, 33.06773267918372, 33.06773267918372, 365.21456861759543, 70.49304605599664, 111.20828478163564, 68.32328590261574, 52.880758409046535, 490.72984741921823, 669.7362387112815, 496.1546441319046, 232.2415840890844, 615.0073812422634, 634.7005534359209, 193.11372096649384, 214.23060143967695, 643.1746310187049, 483.73283434181917, 673.6239737204198, 465.2562966995399, 690.1599962558123, 524.489295292106, 280.14915131980786, 330.7149766976431, 279.78763712807427, 419.62833440773, 603.191148042634, 428.64243060396274, 819.7999858811633, 831.2906309856326, 722.6739227573131, 387.33804857928124, 1051.663872054061, 940.7937830181352, 1067.0393717147176, 1.0804669424428852, 55.10381406458714, 390.0485662218816, 11.885136366871738, 12.965603309314622, 9.724202481985968, 27.01167356107213, 39.97727687038675, 129.65603309314622, 2.1609338848857704, 31.333541330843673, 9.724202481985968, 71.31081820123043, 231.21992568277744, 37.81634298550098, 12.965603309314622, 16.207004136643278, 17.287471079086163, 18.367938021529046, 1.0804669424428852, 9.724202481985968, 15.126537194200393, 52.942880179701376, 1.0804669424428852, 5.402334712214426, 983.2249176230256, 2.1609338848857704, 19.448404963971935, 34.57494215817233, 92.92015705008812, 466.76171913532636, 353.31269017882346, 243.10506204964918, 239.86366122232053, 231.21992568277744, 230.13945874033453, 209.6105868339197, 203.12778517926242, 178.27704550307604, 173.95517773330454, 138.2997686326893, 135.05836780536066, 135.05836780536066, 135.05836780536066, 99.40295870474543, 176.06027493456043, 95.0810909349739, 91.83969010764524, 87.5178223378737, 86.43735539543081, 79.9545537407735, 76.71315291344486, 75.63268597100196, 73.47175208611618, 136.1209914858246, 129.56974954659708, 1093.040899415962, 256.4364974245357, 1569.038321698586, 211.54442121822262, 139.16738315274057, 947.4273850834109, 825.4879481185009, 429.69837827532047, 284.14198132950537, 368.97514671118586, 465.5261676956496, 934.0623970363549, 1261.373436955243, 396.23299139997323, 1221.4678071556405, 467.00216921466347, 772.9746217110733, 654.5465010153604, 6.566101369717212, 1.094350228286202, 88.64236849118238, 44.868359359734285, 15.32090319600683, 18.603953880865436, 28.453105935441258, 61.28361278402732, 88.64236849118238, 37.20790776173087, 13.132202739434424, 7.660451598003415, 15.32090319600683, 105.0576219154754, 5.47175114143101, 98.49152054575819, 190.41693972179917, 304.22936346356414, 8.754801826289617, 1.094350228286202, 21.88700456572404, 10.94350228286202, 17.509603652579234, 15.32090319600683, 103.9632716871892, 193.69999040665778, 142.2655296772063, 16.41525342429303, 2.188700456572404, 2.188700456572404, 925.7505731606537, 551.5525150562459, 309.7011146049952, 234.19094885324725, 184.94518858036815, 154.3033821883545, 149.9259812752097, 136.79377853577526, 122.56722556805464, 117.09547442662362, 109.43502282862022, 93.01976940432718, 88.64236849118238, 82.07626712146516, 78.79321643660656, 73.32146529517554, 71.13276483860315, 62.377963012313515, 55.811861642596305, 55.811861642596305, 1524.1390613901112, 194.74881512969583, 1488.5759877643923, 281.29246711499184, 236.96163443912437, 269.65714467196347, 1307.1215887186463, 558.1016747941426, 445.88859326230704, 370.6415922909622, 632.8164821594879, 831.2906309856326, 302.07988351118587, 300.1664331134249, 297.1372721977591, 686.4313911662186, 666.3780948906044, 280.95199019726, 374.66204296143593, 608.5731067629746, 1640.4339511449457, 976.136974715882, 781.325724445111, 625.5564194093236, 17.46407814733107, 145.17014959968952, 9.823543957873726, 2.1830097684163836, 15.281068378914686, 3.274514652624575, 2.1830097684163836, 5.45752442104096, 31.653641642037563, 5.45752442104096, 8.732039073665534, 17.46407814733107, 110.24199330502736, 9.823543957873726, 3.274514652624575, 2.1830097684163836, 5.45752442104096, 152.81068378914685, 70.94781747353247, 221.57549149426293, 15.281068378914686, 135.34660564181578, 24.01310745258022, 6.54902930524915, 4.366019536832767, 2.1830097684163836, 6.54902930524915, 13.0980586104983, 3.274514652624575, 15.281068378914686, 1533.5643623125095, 314.35340665195923, 279.4252503572971, 239.03956964159397, 206.29442311534825, 108.058983536611, 108.058983536611, 99.32694446294545, 93.86942004190449, 85.13738096823896, 77.49684677878162, 75.31383701036523, 72.03932235774066, 70.94781747353247, 139.6255096271871, 64.39878816828332, 61.12427351565874, 60.032768631450544, 54.57524421040959, 54.57524421040959, 50.20922467357683, 49.117719789368635, 49.117719789368635, 48.02621490516044, 677.2828921261437, 445.50898808181324, 113.44839526132307, 201.77086283407886, 182.77179642250752, 325.55298990184224, 763.2626088317184, 417.84598705120305, 183.76514231750892, 396.43772847069226, 127.48339760325976, 413.28411483806065, 202.55544755241178, 627.4893684851313, 305.56411667197926, 356.88344088073416, 423.18074696133226, 671.4445883759149, 654.5465010153604, 346.4751813055185, 605.1885699437448, 368.1044123593266, 421.12502602674147], \"Category\": [\"Default\", \"Default\", \"Default\", \"Default\", \"Default\", \"Default\", \"Default\", \"Default\", \"Default\", \"Default\", \"Default\", \"Default\", \"Default\", \"Default\", \"Default\", \"Default\", \"Default\", \"Default\", \"Default\", \"Default\", \"Default\", \"Default\", \"Default\", \"Default\", \"Default\", \"Default\", \"Default\", \"Default\", \"Default\", \"Default\", \"Topic1\", \"Topic1\", \"Topic1\", \"Topic1\", \"Topic1\", \"Topic1\", \"Topic1\", \"Topic1\", \"Topic1\", \"Topic1\", \"Topic1\", \"Topic1\", \"Topic1\", \"Topic1\", \"Topic1\", \"Topic1\", \"Topic1\", \"Topic1\", \"Topic1\", \"Topic1\", \"Topic1\", \"Topic1\", \"Topic1\", \"Topic1\", \"Topic1\", \"Topic1\", \"Topic1\", \"Topic1\", \"Topic1\", \"Topic1\", \"Topic1\", \"Topic1\", \"Topic1\", \"Topic1\", \"Topic1\", \"Topic1\", \"Topic1\", \"Topic1\", \"Topic1\", \"Topic1\", \"Topic1\", \"Topic1\", \"Topic1\", \"Topic1\", \"Topic1\", \"Topic1\", \"Topic1\", \"Topic1\", \"Topic1\", \"Topic1\", \"Topic1\", \"Topic1\", \"Topic1\", \"Topic1\", \"Topic1\", \"Topic1\", \"Topic1\", \"Topic1\", \"Topic1\", \"Topic1\", \"Topic1\", \"Topic1\", \"Topic1\", \"Topic1\", \"Topic1\", \"Topic1\", \"Topic1\", \"Topic1\", \"Topic1\", \"Topic1\", \"Topic1\", \"Topic1\", \"Topic1\", \"Topic1\", \"Topic1\", \"Topic1\", \"Topic1\", \"Topic2\", \"Topic2\", \"Topic2\", \"Topic2\", \"Topic2\", \"Topic2\", \"Topic2\", \"Topic2\", \"Topic2\", \"Topic2\", \"Topic2\", \"Topic2\", \"Topic2\", \"Topic2\", \"Topic2\", \"Topic2\", \"Topic2\", \"Topic2\", \"Topic2\", \"Topic2\", \"Topic2\", \"Topic2\", \"Topic2\", \"Topic2\", \"Topic2\", \"Topic2\", \"Topic2\", \"Topic2\", \"Topic2\", \"Topic2\", \"Topic2\", \"Topic2\", \"Topic2\", \"Topic2\", \"Topic2\", \"Topic2\", \"Topic2\", \"Topic2\", \"Topic2\", \"Topic2\", \"Topic2\", \"Topic2\", \"Topic2\", \"Topic2\", \"Topic2\", \"Topic2\", \"Topic2\", \"Topic2\", \"Topic2\", \"Topic2\", \"Topic2\", \"Topic2\", \"Topic2\", \"Topic2\", \"Topic2\", \"Topic2\", \"Topic2\", \"Topic2\", \"Topic2\", \"Topic2\", \"Topic2\", \"Topic2\", \"Topic2\", \"Topic2\", \"Topic2\", \"Topic2\", \"Topic2\", \"Topic2\", \"Topic2\", \"Topic3\", \"Topic3\", \"Topic3\", \"Topic3\", \"Topic3\", \"Topic3\", \"Topic3\", \"Topic3\", \"Topic3\", \"Topic3\", \"Topic3\", \"Topic3\", \"Topic3\", \"Topic3\", \"Topic3\", \"Topic3\", \"Topic3\", \"Topic3\", \"Topic3\", \"Topic3\", \"Topic3\", \"Topic3\", \"Topic3\", \"Topic3\", \"Topic3\", \"Topic3\", \"Topic3\", \"Topic3\", \"Topic3\", \"Topic3\", \"Topic3\", \"Topic3\", \"Topic3\", \"Topic3\", \"Topic3\", \"Topic3\", \"Topic3\", \"Topic3\", \"Topic3\", \"Topic3\", \"Topic3\", \"Topic3\", \"Topic3\", \"Topic3\", \"Topic3\", \"Topic3\", \"Topic3\", \"Topic3\", \"Topic3\", \"Topic3\", \"Topic3\", \"Topic3\", \"Topic3\", \"Topic3\", \"Topic3\", \"Topic3\", \"Topic3\", \"Topic3\", \"Topic3\", \"Topic3\", \"Topic3\", \"Topic3\", \"Topic3\", \"Topic3\", \"Topic3\", \"Topic3\", \"Topic3\", \"Topic3\", \"Topic3\", \"Topic3\", \"Topic3\", \"Topic3\", \"Topic3\", \"Topic3\", \"Topic3\", \"Topic3\", \"Topic3\", \"Topic3\", \"Topic4\", \"Topic4\", \"Topic4\", \"Topic4\", \"Topic4\", \"Topic4\", \"Topic4\", \"Topic4\", \"Topic4\", \"Topic4\", \"Topic4\", \"Topic4\", \"Topic4\", \"Topic4\", \"Topic4\", \"Topic4\", \"Topic4\", \"Topic4\", \"Topic4\", \"Topic4\", \"Topic4\", \"Topic4\", \"Topic4\", \"Topic4\", \"Topic4\", \"Topic4\", \"Topic4\", \"Topic4\", \"Topic4\", \"Topic4\", \"Topic4\", \"Topic4\", \"Topic4\", \"Topic4\", \"Topic4\", \"Topic4\", \"Topic4\", \"Topic4\", \"Topic4\", \"Topic4\", \"Topic4\", \"Topic4\", \"Topic4\", \"Topic4\", \"Topic4\", \"Topic4\", \"Topic4\", \"Topic4\", \"Topic4\", \"Topic4\", \"Topic4\", \"Topic4\", \"Topic4\", \"Topic4\", \"Topic4\", \"Topic4\", \"Topic4\", \"Topic4\", \"Topic4\", \"Topic4\", \"Topic4\", \"Topic4\", \"Topic4\", \"Topic4\", \"Topic4\", \"Topic4\", \"Topic4\", \"Topic4\", \"Topic4\", \"Topic4\", \"Topic4\", \"Topic4\", \"Topic4\", \"Topic4\", \"Topic4\", \"Topic4\", \"Topic4\", \"Topic4\", \"Topic4\", \"Topic5\", \"Topic5\", \"Topic5\", \"Topic5\", \"Topic5\", \"Topic5\", \"Topic5\", \"Topic5\", \"Topic5\", \"Topic5\", \"Topic5\", \"Topic5\", \"Topic5\", \"Topic5\", \"Topic5\", \"Topic5\", \"Topic5\", \"Topic5\", \"Topic5\", \"Topic5\", \"Topic5\", \"Topic5\", \"Topic5\", \"Topic5\", \"Topic5\", \"Topic5\", \"Topic5\", \"Topic5\", \"Topic5\", \"Topic5\", \"Topic5\", \"Topic5\", \"Topic5\", \"Topic5\", \"Topic5\", \"Topic5\", \"Topic5\", \"Topic5\", \"Topic5\", \"Topic5\", \"Topic5\", \"Topic5\", \"Topic5\", \"Topic5\", \"Topic5\", \"Topic5\", \"Topic5\", \"Topic5\", \"Topic5\", \"Topic5\", \"Topic5\", \"Topic5\", \"Topic5\", \"Topic5\", \"Topic5\", \"Topic5\", \"Topic5\", \"Topic5\", \"Topic5\", \"Topic5\", \"Topic5\", \"Topic5\", \"Topic5\", \"Topic5\", \"Topic5\", \"Topic5\", \"Topic5\", \"Topic5\", \"Topic5\", \"Topic5\", \"Topic5\", \"Topic5\", \"Topic5\", \"Topic5\", \"Topic5\", \"Topic5\", \"Topic5\", \"Topic5\", \"Topic5\", \"Topic5\", \"Topic5\", \"Topic5\", \"Topic6\", \"Topic6\", \"Topic6\", \"Topic6\", \"Topic6\", \"Topic6\", \"Topic6\", \"Topic6\", \"Topic6\", \"Topic6\", \"Topic6\", \"Topic6\", \"Topic6\", \"Topic6\", \"Topic6\", \"Topic6\", \"Topic6\", \"Topic6\", \"Topic6\", \"Topic6\", \"Topic6\", \"Topic6\", \"Topic6\", \"Topic6\", \"Topic6\", \"Topic6\", \"Topic6\", \"Topic6\", \"Topic6\", \"Topic6\", \"Topic6\", \"Topic6\", \"Topic6\", \"Topic6\", \"Topic6\", \"Topic6\", \"Topic6\", \"Topic6\", \"Topic6\", \"Topic6\", \"Topic6\", \"Topic6\", \"Topic6\", \"Topic6\", \"Topic6\", \"Topic6\", \"Topic6\", \"Topic6\", \"Topic6\", \"Topic6\", \"Topic6\", \"Topic6\", \"Topic6\", \"Topic6\", \"Topic6\", \"Topic6\", \"Topic6\", \"Topic6\", \"Topic6\", \"Topic6\", \"Topic6\", \"Topic6\", \"Topic6\", \"Topic6\", \"Topic6\", \"Topic6\", \"Topic6\", \"Topic6\", \"Topic6\", \"Topic6\", \"Topic6\", \"Topic6\", \"Topic6\", \"Topic6\", \"Topic6\", \"Topic6\", \"Topic6\", \"Topic6\", \"Topic7\", \"Topic7\", \"Topic7\", \"Topic7\", \"Topic7\", \"Topic7\", \"Topic7\", \"Topic7\", \"Topic7\", \"Topic7\", \"Topic7\", \"Topic7\", \"Topic7\", \"Topic7\", \"Topic7\", \"Topic7\", \"Topic7\", \"Topic7\", \"Topic7\", \"Topic7\", \"Topic7\", \"Topic7\", \"Topic7\", \"Topic7\", \"Topic7\", \"Topic7\", \"Topic7\", \"Topic7\", \"Topic7\", \"Topic7\", \"Topic7\", \"Topic7\", \"Topic7\", \"Topic7\", \"Topic7\", \"Topic7\", \"Topic7\", \"Topic7\", \"Topic7\", \"Topic7\", \"Topic7\", \"Topic7\", \"Topic7\", \"Topic7\", \"Topic7\", \"Topic7\", \"Topic7\", \"Topic7\", \"Topic7\", \"Topic7\", \"Topic7\", \"Topic7\", \"Topic7\", \"Topic7\", \"Topic7\", \"Topic7\", \"Topic7\", \"Topic7\", \"Topic7\", \"Topic7\", \"Topic7\", \"Topic7\", \"Topic7\", \"Topic7\", \"Topic7\", \"Topic7\", \"Topic7\", \"Topic7\", \"Topic7\", \"Topic7\", \"Topic7\", \"Topic7\", \"Topic7\", \"Topic7\", \"Topic7\", \"Topic7\", \"Topic7\", \"Topic7\", \"Topic7\", \"Topic8\", \"Topic8\", \"Topic8\", \"Topic8\", \"Topic8\", \"Topic8\", \"Topic8\", \"Topic8\", \"Topic8\", \"Topic8\", \"Topic8\", \"Topic8\", \"Topic8\", \"Topic8\", \"Topic8\", \"Topic8\", \"Topic8\", \"Topic8\", \"Topic8\", \"Topic8\", \"Topic8\", \"Topic8\", \"Topic8\", \"Topic8\", \"Topic8\", \"Topic8\", \"Topic8\", \"Topic8\", \"Topic8\", \"Topic8\", \"Topic8\", \"Topic8\", \"Topic8\", \"Topic8\", \"Topic8\", \"Topic8\", \"Topic8\", \"Topic8\", \"Topic8\", \"Topic8\", \"Topic8\", \"Topic8\", \"Topic8\", \"Topic8\", \"Topic8\", \"Topic8\", \"Topic8\", \"Topic8\", \"Topic8\", \"Topic8\", \"Topic8\", \"Topic8\", \"Topic8\", \"Topic8\", \"Topic8\", \"Topic8\", \"Topic8\", \"Topic8\", \"Topic8\", \"Topic8\", \"Topic8\", \"Topic8\", \"Topic8\", \"Topic8\", \"Topic8\", \"Topic8\", \"Topic8\", \"Topic8\", \"Topic8\", \"Topic8\", \"Topic8\", \"Topic8\", \"Topic8\", \"Topic9\", \"Topic9\", \"Topic9\", \"Topic9\", \"Topic9\", \"Topic9\", \"Topic9\", \"Topic9\", \"Topic9\", \"Topic9\", \"Topic9\", \"Topic9\", \"Topic9\", \"Topic9\", \"Topic9\", \"Topic9\", \"Topic9\", \"Topic9\", \"Topic9\", \"Topic9\", \"Topic9\", \"Topic9\", \"Topic9\", \"Topic9\", \"Topic9\", \"Topic9\", \"Topic9\", \"Topic9\", \"Topic9\", \"Topic9\", \"Topic9\", \"Topic9\", \"Topic9\", \"Topic9\", \"Topic9\", \"Topic9\", \"Topic9\", \"Topic9\", \"Topic9\", \"Topic9\", \"Topic9\", \"Topic9\", \"Topic9\", \"Topic9\", \"Topic9\", \"Topic9\", \"Topic9\", \"Topic9\", \"Topic9\", \"Topic9\", \"Topic9\", \"Topic9\", \"Topic9\", \"Topic9\", \"Topic9\", \"Topic9\", \"Topic9\", \"Topic9\", \"Topic9\", \"Topic9\", \"Topic9\", \"Topic9\", \"Topic9\", \"Topic9\", \"Topic9\", \"Topic9\", \"Topic9\", \"Topic9\", \"Topic9\", \"Topic9\", \"Topic9\", \"Topic9\", \"Topic9\", \"Topic9\", \"Topic9\", \"Topic9\", \"Topic9\", \"Topic9\", \"Topic9\", \"Topic9\", \"Topic9\", \"Topic9\", \"Topic9\", \"Topic9\", \"Topic9\", \"Topic9\", \"Topic9\", \"Topic9\", \"Topic9\", \"Topic9\", \"Topic9\", \"Topic10\", \"Topic10\", \"Topic10\", \"Topic10\", \"Topic10\", \"Topic10\", \"Topic10\", \"Topic10\", \"Topic10\", \"Topic10\", \"Topic10\", \"Topic10\", \"Topic10\", \"Topic10\", \"Topic10\", \"Topic10\", \"Topic10\", \"Topic10\", \"Topic10\", \"Topic10\", \"Topic10\", \"Topic10\", \"Topic10\", \"Topic10\", \"Topic10\", \"Topic10\", \"Topic10\", \"Topic10\", \"Topic10\", \"Topic10\", \"Topic10\", \"Topic10\", \"Topic10\", \"Topic10\", \"Topic10\", \"Topic10\", \"Topic10\", \"Topic10\", \"Topic10\", \"Topic10\", \"Topic10\", \"Topic10\", \"Topic10\", \"Topic10\", \"Topic10\", \"Topic10\", \"Topic10\", \"Topic10\", \"Topic10\", \"Topic10\", \"Topic10\", \"Topic10\", \"Topic10\", \"Topic10\", \"Topic10\", \"Topic10\", \"Topic10\", \"Topic10\", \"Topic10\", \"Topic10\", \"Topic10\", \"Topic10\", \"Topic10\", \"Topic10\", \"Topic10\", \"Topic10\", \"Topic10\", \"Topic10\", \"Topic10\", \"Topic10\", \"Topic10\", \"Topic10\", \"Topic10\", \"Topic10\", \"Topic10\", \"Topic10\", \"Topic10\", \"Topic10\", \"Topic10\", \"Topic10\", \"Topic10\", \"Topic10\", \"Topic11\", \"Topic11\", \"Topic11\", \"Topic11\", \"Topic11\", \"Topic11\", \"Topic11\", \"Topic11\", \"Topic11\", \"Topic11\", \"Topic11\", \"Topic11\", \"Topic11\", \"Topic11\", \"Topic11\", \"Topic11\", \"Topic11\", \"Topic11\", \"Topic11\", \"Topic11\", \"Topic11\", \"Topic11\", \"Topic11\", \"Topic11\", \"Topic11\", \"Topic11\", \"Topic11\", \"Topic11\", \"Topic11\", \"Topic11\", \"Topic11\", \"Topic11\", \"Topic11\", \"Topic11\", \"Topic11\", \"Topic11\", \"Topic11\", \"Topic11\", \"Topic11\", \"Topic11\", \"Topic11\", \"Topic11\", \"Topic11\", \"Topic11\", \"Topic11\", \"Topic11\", \"Topic11\", \"Topic11\", \"Topic11\", \"Topic11\", \"Topic11\", \"Topic11\", \"Topic11\", \"Topic11\", \"Topic11\", \"Topic11\", \"Topic11\", \"Topic11\", \"Topic11\", \"Topic11\", \"Topic11\", \"Topic11\", \"Topic11\", \"Topic11\", \"Topic11\", \"Topic11\", \"Topic11\", \"Topic11\", \"Topic11\", \"Topic11\", \"Topic11\", \"Topic11\", \"Topic11\", \"Topic11\", \"Topic11\", \"Topic11\", \"Topic11\", \"Topic11\", \"Topic11\", \"Topic11\", \"Topic11\", \"Topic11\", \"Topic11\", \"Topic11\", \"Topic11\", \"Topic11\", \"Topic12\", \"Topic12\", \"Topic12\", \"Topic12\", \"Topic12\", \"Topic12\", \"Topic12\", \"Topic12\", \"Topic12\", \"Topic12\", \"Topic12\", \"Topic12\", \"Topic12\", \"Topic12\", \"Topic12\", \"Topic12\", \"Topic12\", \"Topic12\", \"Topic12\", \"Topic12\", \"Topic12\", \"Topic12\", \"Topic12\", \"Topic12\", \"Topic12\", \"Topic12\", \"Topic12\", \"Topic12\", \"Topic12\", \"Topic12\", \"Topic12\", \"Topic12\", \"Topic12\", \"Topic12\", \"Topic12\", \"Topic12\", \"Topic12\", \"Topic12\", \"Topic12\", \"Topic12\", \"Topic12\", \"Topic12\", \"Topic12\", \"Topic12\", \"Topic12\", \"Topic12\", \"Topic12\", \"Topic12\", \"Topic12\", \"Topic12\", \"Topic12\", \"Topic12\", \"Topic12\", \"Topic12\", \"Topic12\", \"Topic12\", \"Topic12\", \"Topic12\", \"Topic12\", \"Topic12\", \"Topic12\", \"Topic12\", \"Topic12\", \"Topic12\", \"Topic12\", \"Topic12\", \"Topic12\", \"Topic12\", \"Topic12\", \"Topic12\", \"Topic12\", \"Topic12\", \"Topic12\", \"Topic12\", \"Topic12\", \"Topic12\", \"Topic12\", \"Topic12\", \"Topic12\", \"Topic12\", \"Topic12\", \"Topic12\", \"Topic12\", \"Topic12\", \"Topic13\", \"Topic13\", \"Topic13\", \"Topic13\", \"Topic13\", \"Topic13\", \"Topic13\", \"Topic13\", \"Topic13\", \"Topic13\", \"Topic13\", \"Topic13\", \"Topic13\", \"Topic13\", \"Topic13\", \"Topic13\", \"Topic13\", \"Topic13\", \"Topic13\", \"Topic13\", \"Topic13\", \"Topic13\", \"Topic13\", \"Topic13\", \"Topic13\", \"Topic13\", \"Topic13\", \"Topic13\", \"Topic13\", \"Topic13\", \"Topic13\", \"Topic13\", \"Topic13\", \"Topic13\", \"Topic13\", \"Topic13\", \"Topic13\", \"Topic13\", \"Topic13\", \"Topic13\", \"Topic13\", \"Topic13\", \"Topic13\", \"Topic13\", \"Topic13\", \"Topic13\", \"Topic13\", \"Topic13\", \"Topic13\", \"Topic13\", \"Topic13\", \"Topic13\", \"Topic13\", \"Topic13\", \"Topic13\", \"Topic13\", \"Topic13\", \"Topic13\", \"Topic13\", \"Topic13\", \"Topic13\", \"Topic13\", \"Topic13\", \"Topic13\", \"Topic13\", \"Topic13\", \"Topic13\", \"Topic13\", \"Topic13\", \"Topic13\", \"Topic13\", \"Topic13\", \"Topic13\", \"Topic13\", \"Topic14\", \"Topic14\", \"Topic14\", \"Topic14\", \"Topic14\", \"Topic14\", \"Topic14\", \"Topic14\", \"Topic14\", \"Topic14\", \"Topic14\", \"Topic14\", \"Topic14\", \"Topic14\", \"Topic14\", \"Topic14\", \"Topic14\", \"Topic14\", \"Topic14\", \"Topic14\", \"Topic14\", \"Topic14\", \"Topic14\", \"Topic14\", \"Topic14\", \"Topic14\", \"Topic14\", \"Topic14\", \"Topic14\", \"Topic14\", \"Topic14\", \"Topic14\", \"Topic14\", \"Topic14\", \"Topic14\", \"Topic14\", \"Topic14\", \"Topic14\", \"Topic14\", \"Topic14\", \"Topic14\", \"Topic14\", \"Topic14\", \"Topic14\", \"Topic14\", \"Topic14\", \"Topic14\", \"Topic14\", \"Topic14\", \"Topic14\", \"Topic14\", \"Topic14\", \"Topic14\", \"Topic14\", \"Topic14\", \"Topic14\", \"Topic14\", \"Topic14\", \"Topic14\", \"Topic14\", \"Topic14\", \"Topic14\", \"Topic14\", \"Topic14\", \"Topic14\", \"Topic14\", \"Topic14\", \"Topic14\", \"Topic14\", \"Topic14\", \"Topic14\", \"Topic14\", \"Topic14\", \"Topic14\", \"Topic15\", \"Topic15\", \"Topic15\", \"Topic15\", \"Topic15\", \"Topic15\", \"Topic15\", \"Topic15\", \"Topic15\", \"Topic15\", \"Topic15\", \"Topic15\", \"Topic15\", \"Topic15\", \"Topic15\", \"Topic15\", \"Topic15\", \"Topic15\", \"Topic15\", \"Topic15\", \"Topic15\", \"Topic15\", \"Topic15\", \"Topic15\", \"Topic15\", \"Topic15\", \"Topic15\", \"Topic15\", \"Topic15\", \"Topic15\", \"Topic15\", \"Topic15\", \"Topic15\", \"Topic15\", \"Topic15\", \"Topic15\", \"Topic15\", \"Topic15\", \"Topic15\", \"Topic15\", \"Topic15\", \"Topic15\", \"Topic15\", \"Topic15\", \"Topic15\", \"Topic15\", \"Topic15\", \"Topic15\", \"Topic15\", \"Topic15\", \"Topic15\", \"Topic15\", \"Topic15\", \"Topic15\", \"Topic15\", \"Topic15\", \"Topic15\", \"Topic15\", \"Topic15\", \"Topic15\", \"Topic15\", \"Topic15\", \"Topic15\", \"Topic15\", \"Topic15\", \"Topic15\", \"Topic15\", \"Topic15\", \"Topic15\", \"Topic15\", \"Topic15\", \"Topic15\", \"Topic15\", \"Topic15\", \"Topic15\", \"Topic15\", \"Topic15\"], \"logprob\": [30.0, 29.0, 28.0, 27.0, 26.0, 25.0, 24.0, 23.0, 22.0, 21.0, 20.0, 19.0, 18.0, 17.0, 16.0, 15.0, 14.0, 13.0, 12.0, 11.0, 10.0, 9.0, 8.0, 7.0, 6.0, 5.0, 4.0, 3.0, 2.0, 1.0, -8.748, -3.3092, -7.3617, -8.0549, -6.4622, -8.0549, -6.4622, -6.7786, -4.1214, -9.4412, -7.5953, -7.2439, -8.0549, -5.9754, -9.4412, -6.2913, -6.7786, -6.9022, -7.2439, -8.748, -9.4412, -7.5953, -7.5953, -8.748, -8.748, -8.748, -8.0549, -8.748, -9.4412, -7.1058, -3.1886, -4.7286, -4.8528, -5.0887, -5.1104, -5.1148, -5.2119, -5.3248, -5.3468, -5.4278, -5.4709, -5.5493, -5.6419, -5.7862, -5.8124, -5.8954, -5.9148, -6.018, -6.0289, -6.1577, -6.209, -6.2631, -6.3203, -6.3351, -6.3809, -5.4584, -5.3303, -6.0511, -4.3034, -5.0633, -4.7316, -4.8873, -5.1061, -5.563, -4.629, -4.8293, -4.8032, -5.3524, -4.5043, -5.093, -5.1192, -4.8227, -4.8768, -4.6733, -4.8908, -5.0263, -5.1281, -3.413, -4.5213, -9.8468, -3.1051, -3.4187, -4.6935, -4.2373, -9.4413, -6.8023, -6.9023, -5.6647, -5.5632, -8.3427, -5.7692, -6.2495, -6.8764, -5.3142, -10.5399, -7.2077, -5.4523, -7.975, -7.1726, -9.1536, -6.2914, -5.6347, -7.3619, -10.5399, -10.5399, -10.5399, -6.4291, -4.1347, -4.7228, -4.9831, -5.1928, -5.1928, -5.2024, -5.503, -5.7692, -6.0181, -6.0291, -6.3352, -6.4128, -6.5146, -6.5887, -6.5887, -4.4878, -3.6442, -6.1961, -6.2224, -5.2416, -4.7747, -4.0785, -5.1238, -4.2804, -3.6493, -4.9268, -3.5872, -4.6264, -4.2031, -4.23, -4.2355, -4.7874, -4.2391, -4.4623, -4.9123, -4.8839, -4.6706, -4.7623, -4.9489, -1.9882, -8.1536, -7.416, -8.472, -6.9961, -10.5515, -7.7789, -8.472, -7.8434, -6.5441, -8.472, -8.3543, -7.4604, -7.4604, -7.416, -5.1309, -5.6027, -8.942, -5.3097, -7.9124, -5.3045, -6.6395, -8.1536, -8.2489, -6.2748, -9.1652, -4.8747, -8.1536, -8.3543, -5.9976, -4.6543, -4.5575, -4.8279, -5.4701, -5.4826, -5.8241, -6.0628, -6.0741, -6.2207, -6.2207, -6.234, -4.8477, -6.261, -6.3174, -6.3468, -5.5957, -6.3618, -6.4243, -6.4406, -6.491, -6.491, -5.9071, -6.0856, -5.404, -5.8975, -5.3753, -3.6609, -5.1488, -5.0919, -4.8377, -5.0502, -3.982, -4.5017, -4.4807, -4.7707, -4.9275, -5.3924, -4.3289, -4.8885, -5.353, -5.0919, -4.9457, -5.1134, -5.1398, -5.0181, -5.1579, -5.2888, -5.1488, -9.8059, -2.7938, -7.6087, -6.2224, -7.0025, -8.5531, -8.8896, -7.6087, -4.7953, -6.8615, -8.4196, -5.3006, -9.1128, -7.321, -9.1128, -6.9437, -6.8102, -10.499, -7.86, -9.1128, -6.2086, -10.499, -6.0331, -8.0141, -6.4215, -5.9039, -10.499, -10.499, -7.6658, -9.8059, -3.7656, -4.6102, -4.6819, -4.9776, -5.4428, -5.5791, -5.6239, -5.7284, -5.7629, -3.5676, -5.7895, -5.295, -5.9347, -5.9992, -6.1816, -6.2364, -6.2649, -6.2795, -6.3247, -6.3559, -6.4047, -6.4047, -5.1809, -5.6707, -4.4123, -5.4556, -4.782, -5.1957, -5.1712, -4.802, -5.1472, -5.5223, -5.3931, -4.5303, -4.4353, -4.5026, -4.538, -5.295, -4.7307, -4.538, -4.5355, -4.6298, -4.9156, -4.7625, -4.6526, -4.8223, -5.0352, -5.2209, -5.2416, -8.3324, -9.0255, -8.6201, -5.6496, -3.0594, -6.0174, -10.4118, -5.0552, -5.2938, -7.7038, -6.8009, -5.7771, -8.1092, -4.8745, -7.7728, -9.7187, -8.0139, -7.0796, -6.1077, -4.2784, -7.116, -6.8565, -7.7038, -10.4118, -8.1092, -10.4118, -6.7229, -8.1092, -7.6392, -7.4161, -4.9229, -5.1915, -5.7113, -6.3514, -6.4045, -6.4415, -6.4998, -6.5406, -6.5832, -6.6276, -6.6506, -6.6506, -6.6982, -6.7229, -6.8009, -6.8283, -6.8283, -6.8565, -5.8579, -3.4735, -5.9459, -6.1777, -3.3979, -6.1777, -5.981, -5.7771, -4.8589, -4.5202, -5.3059, -5.6243, -3.6422, -6.3009, -4.8246, -4.8984, -5.5915, -4.0368, -4.501, -4.5977, -4.6561, -5.2585, -5.0319, -4.6067, -5.0365, -5.1915, -5.144, -5.2701, -4.9781, -5.1754, -5.1388, -5.1701, -5.1754, -5.1543, -7.8468, -8.8023, -9.7186, -4.6126, -9.3131, -5.4559, -7.7727, -10.4117, -7.6391, -8.4658, -3.8187, -7.0795, -6.8854, -10.4117, -7.0444, -9.7186, -7.3207, -6.6981, -5.8065, -5.0411, -7.8468, -8.4658, -9.3131, -9.7186, -10.4117, -6.149, -6.9777, -5.1184, -5.3119, -6.1922, -4.6849, -4.8096, -4.832, -5.0001, -5.2527, -5.435, -5.4489, -5.8899, -5.9009, -5.9344, -5.3683, -6.055, -6.1213, -6.149, -6.2528, -6.2686, -6.2846, -6.3008, -6.3008, -6.3008, -6.3342, -3.8882, -5.5754, -5.3119, -4.7734, -4.3573, -4.5396, -4.4128, -4.9521, -4.1891, -4.7522, -4.8863, -5.5214, -4.0299, -4.5887, -5.0181, -4.4103, -4.8358, -4.7877, -4.7698, -4.8823, -4.9479, -5.1439, -4.9269, -5.1542, -4.9868, -4.9269, -5.009, -5.3945, -3.0866, -4.4716, -3.6723, -5.162, -10.3985, -4.7183, -3.7482, -10.3985, -8.4526, -7.3074, -10.3985, -6.4282, -7.6259, -9.7053, -8.319, -8.4526, -5.9441, -8.6067, -9.7053, -8.7891, -4.5754, -9.7053, -10.3985, -10.3985, -7.9136, -5.1204, -8.0006, -8.0006, -8.4526, -4.0372, -4.9432, -5.3109, -5.4356, -5.4858, -5.5702, -5.9558, -6.081, -6.0944, -6.1358, -5.464, -6.179, -6.2876, -6.338, -6.3554, -6.4472, -6.4667, -6.4865, -6.4865, -5.6623, -4.8891, -5.0755, -5.4858, -5.6027, -5.8659, -6.1644, -4.0424, -4.6782, -5.1204, -5.0755, -4.9432, -4.7149, -4.1069, -4.9347, -4.6427, -4.8417, -4.3117, -4.3324, -4.8001, -4.6364, -4.7217, -4.815, -4.7048, -4.3324, -4.4221, -4.7781, -5.0232, -4.7709, -5.0186, -9.6965, -9.6965, -6.8061, -4.6151, -8.7802, -5.9588, -9.291, -7.6816, -2.7645, -6.2953, -7.2986, -7.1315, -7.6816, -4.3783, -7.617, -10.3896, -9.291, -8.087, -6.3292, -6.2953, -5.5693, -9.6965, -7.617, -8.7802, -7.617, -9.6965, -5.6447, -9.0033, -5.2538, -8.1924, -4.3956, -4.7548, -4.8444, -3.8602, -4.8099, -5.302, -5.4551, -5.5298, -5.6189, -5.6891, -6.0076, -6.1411, -6.2625, -6.4193, -6.6054, -6.6284, -6.6284, -6.7007, -6.7787, -4.6027, -5.4198, -6.1555, -4.2715, -4.2871, -4.7371, -4.7371, -4.6058, -3.3138, -3.8104, -3.8974, -4.9173, -4.468, -4.1611, -4.8367, -4.4133, -4.7765, -4.6892, -4.653, -4.8722, -4.8802, -4.7875, -4.909, -4.996, -6.0928, -7.1914, -6.5193, -7.1506, -7.8045, -7.5362, -8.76, -8.29, -6.3992, -10.3695, -7.0736, -7.6614, -8.4235, -8.9832, -6.3992, -10.3695, -8.4235, -7.9716, -7.425, -6.8729, -7.8045, -7.7304, -6.4776, -6.9355, -8.1722, -8.5777, -10.3695, -6.7059, -7.234, -8.9832, -4.5583, -5.1877, -5.5654, -5.651, -5.6873, -5.1545, -5.7347, -5.7347, -5.7445, -5.7845, -5.8051, -5.8262, -5.8477, -5.8808, -5.9627, -5.9627, -5.9874, -6.0127, -6.0256, -6.0256, -6.0928, -6.1648, -6.1798, -6.1951, -6.1951, -6.1951, -6.2263, -6.2423, -6.2586, -5.1383, -5.6333, -5.8262, -4.598, -5.2278, -5.6333, -5.5174, -5.7845, -5.2515, -5.2515, -4.71, -5.5654, -5.1933, -5.4066, -5.3722, -5.1821, -4.7785, -5.3456, -5.1545, -5.1172, -5.0812, -5.0223, -5.2819, -5.4495, -5.6159, -5.5253, -5.582, -5.5332, -5.4943, -5.5573, -5.5492, -5.582, -5.1692, -6.1851, -6.1851, -6.0942, -6.0942, -8.5365, -10.3283, -4.4121, -8.5365, -5.8174, -7.6202, -9.2297, -8.5365, -10.3283, -8.3824, -7.2372, -10.3283, -7.7633, -10.3283, -8.3824, -8.5365, -6.4364, -8.0257, -4.0958, -7.3325, -7.9304, -10.3283, -9.2297, -10.3283, -8.131, -4.5141, -4.5444, -5.1133, -5.4455, -5.5325, -5.5491, -5.6648, -5.7033, -5.7536, -5.7536, -5.7744, -5.8739, -5.8856, -5.9845, -5.9845, -5.9975, -6.0242, -6.0798, -6.1386, -6.1539, -6.2011, -6.2011, -5.508, -5.02, -6.0798, -5.7033, -5.1079, -5.6648, -5.7744, -4.4533, -5.4607, -4.967, -5.311, -5.6839, -5.1692, -4.9859, -5.0502, -5.3938, -5.1578, -4.9211, -5.175, -5.04, -5.0502, -5.5661, -5.6098, -4.8229, -5.2657, -5.311, -5.1635, -5.508, -5.4379, -5.5242, -7.2991, -4.6964, -8.3489, -8.6854, -5.3532, -8.3489, -7.2503, -7.1593, -8.6854, -8.6854, -7.2503, -7.8969, -5.8522, -7.2038, -8.3489, -6.3245, -7.9922, -6.1677, -7.2503, -7.1593, -7.2503, -5.8175, -7.1593, -6.9626, -6.7983, -5.5853, -8.6854, -6.7395, -6.9626, -6.363, -4.3287, -4.2984, -5.1358, -5.2842, -5.412, -5.0963, -5.9773, -6.0321, -5.3822, -6.0753, -5.4428, -6.2005, -6.2173, -6.3828, -6.4236, -6.4447, -6.4662, -6.4882, -6.5106, -6.5336, -6.5336, -6.5572, -5.784, -5.9004, -3.6291, -6.1052, -4.7341, -5.773, -4.1294, -5.7622, -4.9621, -5.0691, -5.3603, -5.7201, -5.784, -4.8225, -5.027, -4.6672, -4.5079, -5.1649, -5.5674, -5.113, -4.7575, -5.027, -4.9477, -5.2644, -5.3822, -5.412, -5.2579, -5.2322, -5.325, -5.3461, -5.332, -5.3532, -5.3461, -5.3603, -4.6581, -6.8336, -7.8697, -3.4911, -8.3217, -6.4389, -7.7026, -8.1881, -4.584, -6.6567, -7.6285, -8.3217, -7.495, -10.2676, -8.3217, -10.2676, -6.6567, -6.8336, -10.2676, -10.2676, -7.3231, -10.2676, -8.3217, -8.8813, -7.1765, -10.2676, -8.0704, -10.2676, -9.5744, -7.3772, -3.4027, -4.4868, -4.7107, -5.6041, -5.6041, -5.6826, -5.7137, -5.735, -5.8609, -5.9771, -6.0049, -6.2602, -6.3964, -6.4609, -6.4609, -6.5299, -6.604, -6.604, -6.6841, -6.7122, -6.8664, -6.8664, -4.5118, -6.1244, -5.6826, -6.1567, -6.4174, -4.3541, -4.0691, -4.3514, -5.0581, -4.1876, -4.2539, -5.2978, -5.2177, -4.3248, -4.5671, -4.3117, -4.64, -4.3514, -4.6116, -5.0858, -4.9895, -5.1318, -4.9063, -4.7263, -4.9205, -4.5772, -4.6151, -4.6916, -5.0472, -4.7786, -4.9349, -5.0418, -10.2849, -6.3531, -4.396, -7.887, -7.8, -8.0877, -7.066, -6.674, -5.4974, -9.5918, -6.9176, -8.0877, -6.0952, -4.9189, -6.7296, -7.8, -7.5768, -7.5123, -7.4517, -10.2849, -8.0877, -7.6458, -6.3931, -10.2849, -8.6755, -3.4715, -9.5918, -7.3945, -6.8192, -5.8306, -4.2165, -4.4949, -4.8688, -4.8822, -4.9189, -4.9236, -5.017, -5.0485, -5.179, -5.2035, -5.4329, -5.4566, -5.4566, -5.4566, -5.7631, -5.1973, -5.8076, -5.8422, -5.8904, -5.9029, -5.9808, -6.0222, -6.0364, -6.0654, -5.4566, -5.5058, -3.7482, -5.0432, -3.681, -5.2287, -5.5575, -4.1981, -4.4768, -4.9283, -5.1729, -5.0919, -4.9966, -4.7476, -4.7204, -5.1316, -4.8644, -5.2097, -5.1258, -5.1911, -8.4731, -10.2649, -5.8704, -6.5513, -7.6258, -7.4317, -7.0068, -6.2395, -5.8704, -6.7385, -7.78, -8.319, -7.6258, -5.7005, -8.6555, -5.7651, -5.1058, -4.6373, -8.1855, -10.2649, -7.2692, -7.9623, -7.4923, -7.6258, -5.711, -5.0887, -5.3974, -7.5568, -9.5717, -9.5717, -3.5256, -4.0423, -4.6194, -4.8989, -5.135, -5.3161, -5.3449, -5.4366, -5.5464, -5.5921, -5.6597, -5.8222, -5.8704, -5.9474, -5.9882, -6.0602, -6.0905, -6.2218, -6.3331, -6.3331, -3.169, -5.1773, -3.3452, -4.8533, -5.0126, -4.9274, -3.5929, -4.4301, -4.6124, -4.7718, -4.4013, -4.2175, -4.9616, -5.0022, -5.0285, -4.6665, -4.7004, -5.159, -5.0445, -4.9666, -4.6852, -4.8533, -5.0944, -5.1174, -7.4308, -5.313, -8.0061, -9.5102, -7.5643, -9.1048, -9.5102, -8.5939, -6.8361, -8.5939, -8.1239, -7.4308, -5.5882, -8.0061, -9.1048, -9.5102, -8.5939, -5.2617, -6.029, -4.8902, -7.5643, -5.3831, -7.1123, -8.4116, -8.8171, -9.5102, -8.4116, -7.7185, -9.1048, -7.5643, -2.9556, -4.5404, -4.6582, -4.8143, -4.9616, -5.6083, -5.6083, -5.6925, -5.749, -5.8467, -5.9407, -5.9693, -6.0137, -6.029, -5.3592, -6.1258, -6.178, -6.196, -6.2913, -6.2913, -6.3747, -6.3967, -6.3967, -6.4192, -3.8648, -4.3173, -5.6184, -5.1035, -5.2062, -4.9151, -4.2658, -4.7653, -5.3671, -4.8902, -5.639, -4.9459, -5.3912, -4.7696, -5.1795, -5.1664, -5.2129, -5.0559, -5.0735, -5.3055, -5.1994, -5.3206, -5.3436], \"loglift\": [30.0, 29.0, 28.0, 27.0, 26.0, 25.0, 24.0, 23.0, 22.0, 21.0, 20.0, 19.0, 18.0, 17.0, 16.0, 15.0, 14.0, 13.0, 12.0, 11.0, 10.0, 9.0, 8.0, 7.0, 6.0, 5.0, 4.0, 3.0, 2.0, 1.0, 2.5852, 2.5852, 2.5852, 2.5852, 2.5852, 2.5852, 2.5852, 2.5852, 2.5852, 2.5852, 2.5852, 2.5852, 2.5852, 2.5852, 2.5852, 2.5852, 2.5852, 2.5852, 2.5852, 2.5852, 2.5852, 2.5852, 2.5852, 2.5852, 2.5852, 2.5852, 2.5852, 2.5852, 2.5852, 2.5852, 2.5852, 2.5852, 2.5852, 2.5852, 2.5852, 2.5852, 2.5852, 2.5852, 2.5852, 2.5852, 2.5852, 2.5852, 2.5852, 2.5852, 2.5852, 2.5852, 2.5852, 2.5852, 2.5852, 2.5852, 2.5852, 2.5852, 2.5852, 2.5852, 2.5852, 2.5719, 2.563, 2.5742, 2.4911, 2.506, 2.4432, 2.4473, 2.4714, 2.5135, 2.3074, 2.3444, 2.2831, 2.4268, 2.1852, 2.3103, 2.1555, 1.911, 1.8889, 1.6776, 1.3748, 1.6522, 1.8168, 2.5985, 2.5985, 2.5985, 2.5985, 2.5985, 2.5985, 2.5985, 2.5985, 2.5985, 2.5985, 2.5985, 2.5985, 2.5985, 2.5985, 2.5985, 2.5985, 2.5985, 2.5985, 2.5985, 2.5985, 2.5985, 2.5985, 2.5985, 2.5985, 2.5985, 2.5985, 2.5985, 2.5985, 2.5985, 2.5985, 2.5985, 2.5985, 2.5985, 2.5985, 2.5985, 2.5985, 2.5985, 2.5985, 2.5985, 2.5985, 2.5985, 2.5985, 2.5985, 2.5985, 2.5985, 2.5573, 2.5387, 2.5847, 2.5848, 2.5082, 2.4597, 2.3841, 2.4807, 2.3972, 2.3208, 2.4427, 2.1594, 2.2563, 2.1067, 1.9612, 1.8445, 2.0561, 1.552, 1.7144, 2.0615, 1.8267, 1.3387, 1.2115, 1.4913, 2.6037, 2.6037, 2.6037, 2.6037, 2.6037, 2.6037, 2.6037, 2.6037, 2.6037, 2.6037, 2.6037, 2.6037, 2.6037, 2.6037, 2.6037, 2.6037, 2.6037, 2.6037, 2.6037, 2.6037, 2.6037, 2.6037, 2.6037, 2.6037, 2.6037, 2.6037, 2.6037, 2.6037, 2.6037, 2.6037, 2.6037, 2.6012, 2.6037, 2.6037, 2.6037, 2.6037, 2.6037, 2.6037, 2.6037, 2.6037, 2.6037, 2.5894, 2.6037, 2.6037, 2.6037, 2.596, 2.6037, 2.6037, 2.6037, 2.6037, 2.6037, 2.5932, 2.5919, 2.5631, 2.5829, 2.5611, 2.3806, 2.4122, 2.3568, 2.2822, 2.3285, 2.0713, 1.992, 1.9206, 1.9764, 1.9666, 2.1339, 1.3484, 1.7011, 2.0283, 1.5569, 1.2197, 1.5265, 1.5813, 1.1475, 1.5206, 1.7515, 0.6423, 2.6459, 2.6459, 2.6459, 2.6459, 2.6459, 2.6459, 2.6459, 2.6459, 2.6459, 2.6459, 2.6459, 2.6459, 2.6459, 2.6459, 2.6459, 2.6459, 2.6459, 2.6459, 2.6459, 2.6459, 2.6459, 2.6459, 2.6459, 2.6459, 2.6459, 2.6459, 2.6459, 2.6459, 2.6459, 2.6459, 2.6459, 2.6459, 2.6459, 2.6459, 2.6459, 2.6459, 2.6459, 2.6459, 2.6459, 2.6237, 2.6459, 2.6401, 2.6459, 2.6459, 2.6459, 2.6459, 2.6459, 2.6459, 2.6459, 2.6459, 2.6459, 2.6459, 2.63, 2.6288, 2.5448, 2.5847, 2.4995, 2.5056, 2.4953, 2.4304, 2.4563, 2.5204, 2.4855, 2.2565, 2.2135, 2.218, 2.2002, 2.446, 2.1144, 1.8953, 1.8332, 1.864, 2.0624, 1.8059, 1.5, 1.6982, 1.7604, 1.9381, 1.3431, 2.6821, 2.6821, 2.6821, 2.6821, 2.6821, 2.6821, 2.6821, 2.6821, 2.6821, 2.6821, 2.6821, 2.6821, 2.6821, 2.6821, 2.6821, 2.6821, 2.6821, 2.6821, 2.6821, 2.6821, 2.6821, 2.6821, 2.6821, 2.6821, 2.6821, 2.6821, 2.6821, 2.6821, 2.6821, 2.6821, 2.6821, 2.677, 2.6821, 2.6821, 2.6821, 2.6821, 2.6821, 2.6821, 2.6821, 2.6821, 2.6821, 2.6821, 2.6821, 2.6821, 2.6821, 2.6821, 2.6821, 2.6821, 2.6713, 2.6213, 2.6704, 2.6674, 2.5361, 2.6537, 2.6337, 2.6154, 2.5082, 2.4688, 2.5398, 2.5576, 2.2784, 2.6333, 2.2855, 2.282, 2.445, 1.9726, 2.11, 2.1225, 2.1259, 2.3077, 2.205, 1.9464, 2.0605, 2.1029, 1.9968, 2.0907, 1.6444, 1.7984, 1.7116, 1.7374, 1.313, 1.0496, 2.6859, 2.6859, 2.6859, 2.6859, 2.6859, 2.6859, 2.6859, 2.6859, 2.6859, 2.6859, 2.6859, 2.6859, 2.6859, 2.6859, 2.6859, 2.6859, 2.6859, 2.6859, 2.6859, 2.6859, 2.6859, 2.6859, 2.6859, 2.6859, 2.6859, 2.6859, 2.6859, 2.6859, 2.6859, 2.6859, 2.6859, 2.6859, 2.6859, 2.6859, 2.6859, 2.6859, 2.6859, 2.6859, 2.6859, 2.6859, 2.6791, 2.6859, 2.6859, 2.6859, 2.6859, 2.6859, 2.6859, 2.6859, 2.6859, 2.6859, 2.6859, 2.593, 2.6616, 2.6345, 2.5609, 2.5142, 2.4742, 2.4503, 2.5081, 2.3099, 2.3924, 2.3937, 2.5385, 2.0501, 2.1927, 2.3258, 1.99, 2.1843, 2.1127, 1.9959, 2.0627, 2.0223, 2.2712, 1.8308, 2.2483, 1.6499, 1.2386, 0.9611, 2.6904, 2.6904, 2.6904, 2.6904, 2.6904, 2.6904, 2.6904, 2.6904, 2.6904, 2.6904, 2.6904, 2.6904, 2.6904, 2.6904, 2.6904, 2.6904, 2.6904, 2.6904, 2.6904, 2.6904, 2.6904, 2.6904, 2.6904, 2.6904, 2.6904, 2.6904, 2.6904, 2.6904, 2.6904, 2.6904, 2.6904, 2.6904, 2.6904, 2.6904, 2.6904, 2.6904, 2.6904, 2.6904, 2.6904, 2.6904, 2.6833, 2.6904, 2.6904, 2.6904, 2.6904, 2.6904, 2.6904, 2.6904, 2.6904, 2.6814, 2.6634, 2.6584, 2.6681, 2.6497, 2.6589, 2.676, 2.4477, 2.4969, 2.5175, 2.473, 2.3526, 2.2764, 2.0586, 2.3388, 2.2077, 2.2609, 1.9539, 1.9632, 2.2048, 2.0343, 2.0987, 2.1573, 2.0205, 1.5882, 1.6312, 1.8182, 2.3158, 1.3945, 1.5345, 2.699, 2.699, 2.699, 2.699, 2.699, 2.699, 2.699, 2.699, 2.699, 2.699, 2.699, 2.699, 2.699, 2.699, 2.699, 2.699, 2.699, 2.699, 2.699, 2.699, 2.699, 2.699, 2.699, 2.699, 2.699, 2.699, 2.699, 2.699, 2.699, 2.699, 2.6964, 2.699, 2.699, 2.6872, 2.6951, 2.699, 2.699, 2.699, 2.699, 2.699, 2.699, 2.699, 2.699, 2.699, 2.699, 2.699, 2.699, 2.699, 2.699, 2.6584, 2.6713, 2.6847, 2.6167, 2.616, 2.6253, 2.5962, 2.5709, 2.3635, 2.2979, 2.3065, 2.4337, 2.2531, 2.1415, 2.126, 1.8525, 1.8132, 1.7122, 1.5124, 1.7457, 1.6861, 1.3892, 1.4419, 1.6003, 2.7303, 2.7303, 2.7303, 2.7303, 2.7303, 2.7303, 2.7303, 2.7303, 2.7303, 2.7303, 2.7303, 2.7303, 2.7303, 2.7303, 2.7303, 2.7303, 2.7303, 2.7303, 2.7303, 2.7303, 2.7303, 2.7303, 2.7303, 2.7303, 2.7303, 2.7303, 2.7303, 2.7303, 2.7303, 2.7303, 2.7242, 2.7303, 2.7303, 2.7303, 2.7303, 2.7247, 2.7303, 2.7303, 2.7303, 2.7303, 2.7303, 2.7303, 2.7303, 2.7303, 2.7303, 2.7303, 2.7303, 2.7303, 2.7303, 2.7303, 2.7303, 2.7303, 2.7303, 2.7303, 2.7303, 2.7303, 2.7303, 2.7303, 2.7303, 2.7139, 2.7214, 2.7194, 2.6615, 2.6886, 2.7053, 2.6911, 2.6885, 2.5839, 2.5105, 2.2651, 2.5666, 2.4144, 2.4725, 2.3757, 2.1985, 1.7818, 2.2653, 2.0734, 2.0085, 1.8998, 1.7856, 2.0368, 2.1705, 2.4729, 2.1993, 2.1848, 1.8308, 1.4989, 1.9138, 1.8111, 1.69, 2.7491, 2.7491, 2.7491, 2.7491, 2.7491, 2.7491, 2.7491, 2.7491, 2.7491, 2.7491, 2.7491, 2.7491, 2.7491, 2.7491, 2.7491, 2.7491, 2.7491, 2.7491, 2.7491, 2.7491, 2.7491, 2.7491, 2.7491, 2.7491, 2.7491, 2.7491, 2.7491, 2.7491, 2.7491, 2.7491, 2.7491, 2.746, 2.7491, 2.7491, 2.7491, 2.7491, 2.7491, 2.7491, 2.7491, 2.7491, 2.7491, 2.7491, 2.7491, 2.7491, 2.7491, 2.7491, 2.7491, 2.7491, 2.7491, 2.7491, 2.7491, 2.7491, 2.7343, 2.6262, 2.7351, 2.6744, 2.5471, 2.6489, 2.667, 2.3371, 2.5495, 2.3776, 2.4807, 2.612, 2.3541, 2.2538, 2.2774, 2.4263, 2.1837, 1.7295, 1.8811, 1.6307, 1.6394, 2.4248, 2.5003, 0.9237, 1.7815, 1.7356, 1.1022, 1.9871, 1.3059, 0.6524, 2.7724, 2.7724, 2.7724, 2.7724, 2.7724, 2.7724, 2.7724, 2.7724, 2.7724, 2.7724, 2.7724, 2.7724, 2.7724, 2.7724, 2.7724, 2.7724, 2.7724, 2.7724, 2.7724, 2.7724, 2.7724, 2.7724, 2.7724, 2.7724, 2.7724, 2.7724, 2.7724, 2.7724, 2.7724, 2.7724, 2.7724, 2.7699, 2.7724, 2.7724, 2.7724, 2.7672, 2.7724, 2.7724, 2.7656, 2.7724, 2.7648, 2.7724, 2.7724, 2.7724, 2.7724, 2.7724, 2.7724, 2.7724, 2.7724, 2.7724, 2.7724, 2.7724, 2.7618, 2.7602, 2.5928, 2.7435, 2.6273, 2.6907, 2.4553, 2.6611, 2.5115, 2.5142, 2.5729, 2.6362, 2.6217, 2.2523, 2.3116, 2.1407, 2.0126, 2.2326, 2.4805, 2.114, 1.8028, 1.951, 1.6207, 2.0256, 2.1622, 2.1847, 1.8042, 1.7351, 1.903, 1.9439, 1.5131, 1.6934, 1.4116, 1.1927, 2.7844, 2.7844, 2.7844, 2.7844, 2.7844, 2.7844, 2.7844, 2.7844, 2.7844, 2.7844, 2.7844, 2.7844, 2.7844, 2.7844, 2.7844, 2.7844, 2.7844, 2.7844, 2.7844, 2.7844, 2.7844, 2.7844, 2.7844, 2.7844, 2.7844, 2.7844, 2.7844, 2.7844, 2.7844, 2.7844, 2.7824, 2.7844, 2.7844, 2.7844, 2.7844, 2.7844, 2.7844, 2.7844, 2.7844, 2.7844, 2.7844, 2.7844, 2.7844, 2.7844, 2.7844, 2.7844, 2.7844, 2.7844, 2.7844, 2.7844, 2.7844, 2.7844, 2.737, 2.7694, 2.7553, 2.7684, 2.7639, 2.5994, 2.5733, 2.5911, 2.6435, 2.5401, 2.4423, 2.5883, 2.5646, 2.3581, 2.4007, 2.3249, 2.3668, 2.261, 2.2753, 2.4282, 2.3586, 2.3835, 2.2037, 2.0208, 2.1682, 1.8631, 1.8113, 1.8747, 2.1428, 1.4126, 1.3677, 1.1349, 2.787, 2.787, 2.787, 2.787, 2.787, 2.787, 2.787, 2.787, 2.787, 2.787, 2.787, 2.787, 2.787, 2.787, 2.787, 2.787, 2.787, 2.787, 2.787, 2.787, 2.787, 2.787, 2.787, 2.787, 2.787, 2.787, 2.787, 2.787, 2.787, 2.787, 2.787, 2.787, 2.787, 2.787, 2.787, 2.787, 2.787, 2.787, 2.787, 2.787, 2.787, 2.787, 2.787, 2.787, 2.787, 2.7812, 2.787, 2.787, 2.787, 2.787, 2.787, 2.787, 2.787, 2.787, 2.7792, 2.7793, 2.4044, 2.5593, 2.1102, 2.5662, 2.6561, 2.0975, 1.9566, 2.1579, 2.3269, 2.1467, 2.0095, 1.5622, 1.289, 2.0357, 1.1772, 1.7933, 1.3732, 1.4742, 2.7943, 2.7943, 2.7943, 2.7943, 2.7943, 2.7943, 2.7943, 2.7943, 2.7943, 2.7943, 2.7943, 2.7943, 2.7943, 2.7943, 2.7943, 2.7943, 2.7943, 2.7943, 2.7943, 2.7943, 2.7943, 2.7943, 2.7943, 2.7943, 2.7943, 2.7943, 2.7943, 2.7943, 2.7943, 2.7943, 2.7932, 2.7943, 2.7943, 2.7943, 2.7943, 2.7943, 2.7943, 2.7943, 2.7943, 2.7943, 2.7943, 2.7943, 2.7943, 2.7943, 2.7943, 2.7943, 2.7943, 2.7943, 2.7943, 2.7943, 2.6511, 2.7003, 2.4985, 2.6567, 2.6688, 2.6248, 2.3809, 2.3947, 2.4369, 2.4623, 2.2979, 2.2088, 2.477, 2.4428, 2.4267, 1.9513, 1.9471, 2.3522, 2.1788, 1.7716, 1.0614, 1.4125, 1.3939, 1.5933, 2.8584, 2.8584, 2.8584, 2.8584, 2.8584, 2.8584, 2.8584, 2.8584, 2.8584, 2.8584, 2.8584, 2.8584, 2.8584, 2.8584, 2.8584, 2.8584, 2.8584, 2.8584, 2.8584, 2.8584, 2.8584, 2.8584, 2.8584, 2.8584, 2.8584, 2.8584, 2.8584, 2.8584, 2.8584, 2.8584, 2.8584, 2.8584, 2.8584, 2.8584, 2.8584, 2.8584, 2.8584, 2.8584, 2.8584, 2.8584, 2.8584, 2.8584, 2.8584, 2.8584, 2.8512, 2.8584, 2.8584, 2.8584, 2.8584, 2.8584, 2.8584, 2.8584, 2.8584, 2.8584, 2.7665, 2.7328, 2.7996, 2.7387, 2.7349, 2.4487, 2.2459, 2.3489, 2.5686, 2.2766, 2.6623, 2.1793, 2.4471, 1.938, 2.2477, 2.1055, 1.8886, 1.584, 1.5919, 1.996, 1.5444, 1.9204, 1.7628]}, \"token.table\": {\"Topic\": [10, 1, 4, 9, 11, 6, 9, 12, 6, 1, 5, 13, 3, 5, 8, 9, 9, 14, 4, 4, 11, 3, 8, 9, 11, 14, 15, 1, 14, 3, 6, 14, 3, 14, 1, 4, 6, 7, 13, 14, 15, 9, 2, 2, 6, 9, 2, 6, 14, 15, 3, 14, 8, 15, 2, 9, 12, 7, 13, 2, 6, 5, 8, 4, 2, 4, 14, 2, 5, 10, 13, 13, 14, 15, 13, 14, 8, 6, 4, 7, 5, 7, 9, 5, 9, 10, 12, 5, 7, 11, 7, 1, 6, 10, 11, 15, 12, 8, 3, 7, 9, 7, 11, 15, 3, 4, 12, 2, 7, 8, 12, 1, 7, 12, 2, 2, 6, 8, 3, 1, 2, 1, 11, 5, 1, 12, 2, 12, 10, 13, 1, 4, 9, 5, 7, 2, 8, 12, 6, 9, 11, 15, 7, 11, 7, 4, 9, 4, 15, 13, 4, 9, 10, 11, 13, 14, 4, 14, 12, 3, 7, 10, 2, 12, 14, 14, 15, 2, 14, 15, 11, 12, 9, 11, 2, 7, 15, 14, 5, 3, 4, 4, 13, 9, 15, 10, 3, 2, 1, 1, 12, 3, 13, 14, 11, 13, 12, 4, 4, 1, 2, 11, 6, 8, 10, 14, 9, 4, 15, 7, 7, 9, 10, 3, 3, 2, 6, 9, 13, 4, 14, 15, 5, 10, 1, 3, 7, 8, 7, 13, 2, 5, 11, 13, 14, 8, 7, 11, 2, 13, 4, 1, 2, 6, 12, 15, 12, 9, 14, 7, 1, 11, 1, 10, 2, 2, 2, 8, 12, 8, 12, 4, 9, 11, 13, 15, 3, 5, 10, 4, 7, 9, 11, 10, 10, 14, 5, 9, 10, 14, 3, 6, 8, 9, 10, 11, 13, 1, 7, 1, 3, 10, 12, 13, 1, 12, 11, 7, 10, 4, 10, 10, 1, 10, 14, 8, 11, 13, 14, 1, 2, 5, 13, 12, 12, 11, 11, 1, 5, 1, 6, 7, 13, 6, 6, 2, 7, 10, 14, 15, 12, 6, 7, 11, 13, 1, 15, 15, 12, 3, 15, 10, 4, 8, 4, 4, 14, 14, 15, 5, 11, 2, 5, 7, 5, 5, 7, 8, 10, 2, 2, 4, 11, 1, 8, 14, 5, 9, 5, 14, 13, 4, 9, 11, 12, 11, 8, 10, 15, 15, 11, 6, 7, 15, 15, 5, 7, 13, 12, 13, 9, 12, 2, 12, 3, 5, 7, 8, 13, 4, 11, 14, 9, 12, 2, 14, 2, 14, 2, 3, 12, 3, 12, 3, 12, 12, 1, 2, 11, 10, 14, 3, 10, 6, 8, 12, 15, 4, 13, 7, 3, 2, 6, 7, 1, 2, 3, 13, 2, 6, 9, 11, 14, 3, 5, 10, 15, 1, 8, 8, 4, 9, 13, 6, 7, 8, 10, 14, 8, 8, 10, 11, 10, 4, 11, 8, 1, 5, 9, 11, 5, 14, 2, 3, 6, 13, 14, 10, 10, 1, 1, 6, 1, 6, 8, 10, 14, 4, 8, 2, 9, 11, 13, 13, 1, 6, 11, 15, 13, 3, 9, 10, 1, 4, 9, 11, 1, 10, 11, 10, 9, 4, 13, 15, 4, 11, 12, 15, 2, 5, 12, 5, 1, 8, 12, 14, 7, 12, 11, 7, 14, 13, 13, 4, 12, 8, 14, 1, 6, 10, 14, 14, 1, 4, 4, 8, 5, 7, 14, 8, 1, 2, 4, 6, 13, 3, 1, 6, 15, 8, 14, 15, 6, 3, 5, 15, 10, 14, 14, 9, 14, 10, 11, 12, 5, 9, 1, 6, 7, 12, 13, 15, 3, 6, 7, 13, 10, 15, 8, 11, 9, 4, 2, 3, 8, 10, 13, 8, 10, 4, 6, 9, 11, 15, 9, 8, 9, 2, 3, 9, 15, 10, 4, 8, 11, 12, 4, 8, 9, 11, 11, 1, 6, 7, 11, 3, 3, 2, 4, 13, 15, 5, 15, 13, 13, 13, 13, 15, 10, 15, 8, 3, 10, 4, 14, 12, 3, 5, 7, 12, 6, 15, 8, 7, 10, 4, 10, 14, 1, 7, 9, 12, 14, 10, 15, 9, 5, 9, 1, 1, 1, 6, 11, 4, 3, 5, 2, 10, 12, 14, 2, 4, 3, 15, 15, 5, 6, 14, 1, 2, 2, 2, 13, 8, 10, 4, 11, 13, 6, 13, 9, 6, 2, 13, 15, 2, 7, 13, 13, 6, 11, 15, 5, 12, 8, 4, 12, 4, 14, 4, 5, 6, 8, 10, 15, 6, 7, 10, 13, 9, 5, 7, 8, 2, 10, 7, 5, 15, 2, 10, 14, 8, 6, 2, 6, 11, 13, 4, 14, 14, 4, 7, 10, 2, 8, 13, 13, 13, 4, 3, 4, 4, 6, 10, 11, 13, 15, 1, 5, 7, 5, 9, 1, 4, 14, 1, 8, 12, 1, 1, 10, 11, 11, 5, 5, 2, 4, 4, 11, 14, 14, 1, 7, 8, 1, 14, 6, 3, 5, 1, 3, 4, 7, 11, 9, 14, 10, 13, 6, 7, 1, 4, 7, 15, 9, 1, 13, 10, 8, 7, 10, 3, 5, 8, 10, 15, 15, 9, 15, 6, 10, 8, 9, 15, 3, 13, 6, 8, 14, 6, 14, 3, 4, 1, 4, 7, 9, 12, 13, 14, 14, 9, 7, 1, 2, 6, 13, 9, 9, 12, 15, 13, 6, 2, 8, 11, 13, 14, 2, 8, 10, 12, 14, 15, 8, 12, 3, 4, 4, 5, 5, 2, 6, 8, 10, 11, 13, 14, 5, 7, 11, 13, 13, 2, 15, 3, 3, 14, 2, 3, 1, 3, 7, 10, 11, 14, 1, 3, 5, 10, 4, 14, 6, 5, 9, 15, 5, 12, 9, 15, 10, 2, 6, 12, 12, 9, 4, 11, 13, 4, 6, 1, 3, 10, 1, 4, 4, 9, 11, 6, 6, 6, 7, 8, 13, 14, 14, 14, 9, 3, 5, 9, 7, 5, 5, 6, 8, 10, 10, 13, 4, 15, 4, 15, 12, 5, 6, 5, 5, 2, 6, 9, 11, 15, 10, 12, 9, 3, 8, 6, 15, 2, 1, 11, 4, 11, 1, 5, 8, 8, 2, 14, 13, 13, 9, 12, 10, 11, 14, 2, 3, 3, 11, 14, 9, 11, 5, 3, 11, 11, 13, 4, 15, 5, 12, 14, 2, 8, 8, 11, 11, 1, 9, 15, 5, 8, 12, 15, 1, 10, 11, 7, 2, 15, 10, 11, 7, 10, 2, 6, 4, 1, 9, 8, 12, 2, 3, 7, 8, 3, 8, 1, 6, 9, 14, 11, 8, 12, 3, 6, 5, 7, 15, 11, 8, 5, 8, 9, 12, 14, 7, 13, 6, 11, 1, 7, 11, 14, 15, 1, 2, 6, 8, 9, 10, 9, 9, 11, 13, 4, 14, 3, 2, 5, 10, 11, 15, 13, 2, 9, 1, 10, 1, 6, 3, 12, 14, 5, 11, 12, 2, 6, 8, 10, 15, 7, 15, 6, 14, 15, 6, 6, 1, 5, 15, 15, 8, 10, 14, 10, 11, 12, 13, 8, 10, 12, 9, 10, 4, 9, 13, 12, 2, 6, 13, 8, 12, 15, 6, 12, 12, 1, 8, 3, 1, 4, 7, 9, 10, 13, 14, 5, 8, 1, 7, 1, 5, 3, 11, 1, 2, 5, 5, 13, 2, 2, 3, 9, 9, 11, 8, 3, 7, 11, 13, 14, 15, 2, 1, 3, 7, 8, 13, 7, 12, 7, 9, 14, 5, 6, 3, 12, 7, 7, 9, 10, 11, 4, 11, 9, 10, 4, 10, 14, 1, 1, 4, 12, 13, 14, 3, 2, 3, 1, 7, 1, 14, 4, 4, 12, 7, 14, 11, 9, 11, 5, 11, 15, 4, 9, 12, 7, 8, 10, 12, 1, 5, 7, 13, 15, 1, 1, 6, 6, 7, 7, 15, 15, 15, 4, 1, 1, 5, 7, 10, 6, 7, 1, 6, 9, 12, 3, 8, 8, 8, 8, 8, 9, 12, 15, 5, 3, 14, 2, 3, 8, 12, 12, 9, 11, 5, 12, 12, 1, 8, 10, 11, 13, 9, 4, 3, 11, 7, 2, 15, 11, 3, 7, 8, 10, 14, 8, 12, 10, 12, 15, 5, 6, 7, 3, 10, 11, 13, 15, 4, 4, 11, 14, 4, 3, 2, 4, 6, 7, 8, 11, 2, 6, 10, 11, 14, 15, 9, 14, 6, 7, 9, 11, 13, 12, 3, 3, 9, 3, 11, 3, 6, 7, 14, 5, 3, 1, 7, 7, 3, 9, 6, 9, 4, 13, 13, 9, 11, 1, 10, 1, 13, 4, 6, 8, 12, 14, 10, 15, 5, 7, 12, 14, 6, 7, 3, 4, 13, 14, 15, 4, 7, 11, 11, 2, 1, 4, 6, 11, 10, 12, 10, 12, 5, 1, 13, 7, 8, 9, 12, 12, 5, 9, 1, 5, 6, 10, 6, 7, 11, 7, 2, 6, 8, 12, 2, 7, 12, 7, 10, 10, 15, 10, 1, 7, 9, 5, 9, 12, 12, 9, 13, 3, 13, 11, 14, 1, 5, 12, 12, 2, 3, 2, 6, 10, 11, 15, 11, 6, 12, 4, 12, 14, 4, 2, 8, 14, 4, 5, 1, 4, 7, 9, 10, 13, 15, 8, 9, 15, 2, 9, 13, 6, 12, 5, 9, 11, 12, 15, 5, 4, 7, 13, 2, 6, 2, 1, 6, 7, 1, 5, 7, 12, 10, 10, 1, 9, 10, 5, 7, 10, 1, 15, 11, 15, 15, 2, 4, 6, 7, 12, 13, 14, 15, 15, 9, 9, 3, 6, 10, 9, 9, 9, 1, 3, 7, 14, 15, 1, 7, 1, 2, 8, 12, 5, 7, 2, 5, 8, 2, 15, 8, 7, 9, 11, 1, 4, 8, 11, 9, 11, 13, 10, 13, 1, 4, 7, 8, 9, 11, 3, 2, 9, 12, 4, 6, 14, 5, 2, 9, 10, 11, 1, 6, 7, 6, 7, 9, 10, 13, 6, 11, 13, 14, 6, 7, 11, 7, 1, 6, 7, 15, 4, 9, 15, 3, 4, 3, 13, 1, 6, 2, 3, 4, 9, 10, 10, 3, 6, 8, 3, 13, 9, 1, 5, 6, 11, 7, 9, 7, 7, 5, 7, 4, 5, 6, 7, 12, 13, 11, 15, 15, 1, 1, 1, 11, 13, 3, 5, 9, 12, 1, 5, 7, 9, 11, 9, 10, 5, 11, 7, 12, 12, 1, 3, 4, 9, 14, 8, 3, 4, 8, 1, 6, 2, 5, 5, 5, 6, 8, 15, 1, 11, 4, 8, 14, 9, 2, 5, 7, 12, 15, 5, 10, 6, 7, 8, 10, 12, 10, 14, 1, 8, 4, 4, 4, 4, 11, 1, 11, 13, 3, 3, 4, 8, 14, 3, 8, 2, 7, 8, 12, 3, 4, 3, 3, 4, 5, 15, 11, 3, 4, 11, 1, 10, 11, 13, 7, 7, 2, 15, 1, 10, 14, 10, 13, 11, 12, 12, 7, 12, 6, 6, 13, 8, 5, 12, 13, 2, 5, 10, 13, 15, 13, 3, 12, 4, 12, 6, 13, 11, 12, 12, 13, 11, 1, 8, 11, 5, 14, 4, 6, 8, 6, 8, 8, 9, 10, 6, 6, 7, 8, 5, 11, 1, 2, 1, 6, 9, 11, 2, 3, 10, 12], \"Freq\": [1.063475227382363, 0.12407970608804536, 0.18999704994731947, 0.1318346877185482, 0.5544811865809527, 0.9958957660339786, 0.014185796414665398, 0.9788199526119125, 0.9978585089705847, 0.9993381388078241, 1.0136890578988278, 0.9833711317421125, 0.08575698501212903, 0.5543576531141198, 0.06431773875909677, 0.2970866980777327, 0.15575333652328324, 0.8455181125549661, 1.0032300771560863, 0.8696475252288416, 0.12915557305378836, 0.0034194347525964026, 0.017097173762982015, 0.44110708308493596, 0.29407138872329064, 0.2393604326817482, 0.0034194347525964026, 0.001080204570207121, 0.999189227441587, 0.7824866738748891, 0.0200637608685869, 0.1972936485411045, 1.0058506349334362, 0.999184644606539, 0.04537422543694883, 0.04537422543694883, 0.04537422543694883, 0.06672680211316004, 0.1788278296632689, 0.5391525610743331, 0.07473401836673925, 0.9904919751252879, 0.9987210707666675, 0.9986304838214731, 0.9997412608743028, 1.0004516732160398, 0.5805335160379016, 0.16065078431237528, 0.049290581550387874, 0.20811578876830433, 0.9584442915400664, 0.043565649615457565, 0.9998836084060497, 0.91616630806506, 1.0003959780166647, 0.9992316101999227, 0.9966739116534676, 1.0016576576929748, 0.9949402038802551, 0.9892094415212704, 0.9970537843665762, 0.9996631715631209, 0.9410669255586351, 0.9956298492988432, 0.9892094415212705, 0.9956298492988432, 1.0660816222368914, 0.28381761460282184, 0.49152771244064125, 0.0007927866329687762, 0.2235658304971949, 0.2714513758641713, 0.7282841791477767, 0.9994541542527929, 0.9984459833160559, 1.0035309148097267, 1.0038047205958773, 1.003072217672612, 0.9956298492988434, 0.996688413466291, 0.3602404150384423, 0.010411572688972321, 0.6288589904139281, 0.6195742902771538, 0.2245618606681387, 0.008116693759089352, 0.14610048766360834, 0.4792908155601653, 0.31543070767634807, 0.2061906357538033, 0.9943487693032247, 0.08656021561616109, 0.0017312043123232218, 0.663051251619794, 0.08829141992848431, 0.16100200104605963, 1.0002779264556334, 0.9968929296171983, 1.0058506349334362, 0.9990509341500631, 1.0055160857357714, 0.2191837766717946, 0.7488779036286315, 0.03044219120441591, 1.0058506349334362, 0.32882081904815014, 0.66836405610874, 0.03912136337440264, 0.21444302886709596, 0.1535875747291363, 0.5926162081529882, 0.0019066166058604986, 0.3965762540189837, 0.600584230846057, 1.0003330818275338, 0.8180591316580583, 0.1824782184038769, 0.9948421784477, 1.0058506349334362, 0.9971783691205963, 0.9892094415212704, 0.005062996461651935, 0.9923473064837792, 0.9996631715631209, 0.9962943457437163, 1.0002779264556334, 0.9892094415212705, 1.0017318187905981, 0.19853986107567503, 0.8036137234015418, 0.8938104036183658, 0.0076068970520711985, 0.09888966167692557, 0.8638519887852517, 0.1360107386598056, 0.23352194542004037, 0.7672863920944184, 1.036832933734743, 0.7450642421559407, 0.0024671001395892077, 0.2516442142380992, 1.0013910809083215, 0.974717313484765, 0.02030661069759927, 0.9413168349403861, 0.8605993652384044, 0.141354485111622, 0.9956298492988432, 1.0688606927425701, 1.0048565514272343, 0.16148565411826143, 0.4991374763655354, 0.055785953240853954, 0.10276359807525728, 0.055785953240853954, 0.12331631769030874, 0.12798067566197308, 0.8709795982550946, 1.0206324191451375, 0.9969493018809279, 0.9413168349403861, 0.996226058592008, 1.0014219037622738, 0.28329254509993734, 0.717674447586508, 0.3348149253148149, 0.6634864575045873, 1.0051644325135491, 0.9953721268844444, 0.9984781248052803, 0.9991272695873868, 0.9897041640195273, 1.0196240920407376, 1.00891271059314, 0.9127723923901909, 0.08585482898719618, 0.91616630806506, 1.0003532816177747, 0.9901148937616459, 0.5430533299955121, 0.4581208186691998, 0.12215505971928757, 0.8766421932795931, 0.951649152571355, 0.91616630806506, 0.9770678651575463, 1.001399968407182, 1.0006674659404358, 0.9999898323148445, 0.9870192776978892, 0.011963870032701688, 0.7998573472640936, 0.1997596650280848, 0.9899329349342563, 0.9211811705415625, 0.9916347546979286, 0.9072288170179, 1.0001146684398292, 1.0011305666982842, 0.9869526882839343, 0.010845633937186091, 1.0049249133180682, 0.1270313523735661, 0.4292430374558403, 0.19259592134056797, 0.250989365576804, 0.9982986208346567, 0.9956298492988432, 0.9938075206129465, 0.9956235754177158, 1.0030425290348375, 0.629199437767118, 0.37358716617422627, 1.00055668422326, 1.0058506349334362, 0.47049795040209835, 0.5292038429477489, 1.0248529335383822, 1.0037392164923633, 0.9956298492988432, 1.0443248544361383, 0.9958329435489783, 1.002763068053212, 0.9925768788902056, 1.0046665671365207, 0.5873522365697036, 0.3471094317668629, 0.06627387718699053, 0.9994228124058419, 0.9995678327355121, 0.011282548342065492, 0.688235448865995, 0.04513019336826197, 0.25573776242015117, 0.99441226948147, 0.9410669255586351, 0.2257027142541792, 0.7727448860905796, 0.998836784017828, 1.0010788952188612, 0.9956298492988434, 0.11106365385827578, 0.1039744844630667, 0.04253501637125456, 0.36154763915566374, 0.3780890344111516, 1.0061992334198528, 1.0010854721854512, 0.9137842476316211, 1.0268910926622392, 0.8515979485848055, 0.14425976178212555, 0.6698745012270649, 0.33024186859558574, 0.9892094415212705, 1.0033410049715745, 0.1849502017772644, 0.5729204526318707, 0.2423485402598637, 0.29984028009461544, 0.6996273202207695, 0.15496492564429687, 0.2603410750824187, 0.35538622947758747, 0.05991977124912812, 0.16942831870443123, 0.9850070354030499, 0.0033053927362518454, 0.009916178208755535, 0.1048428457073667, 0.12390518129052427, 0.18744629990104955, 0.5814012352863063, 1.0000639889680414, 0.1181625880758061, 0.881999318137267, 0.9950465005121829, 0.1390481858851381, 0.16147531264080553, 0.6997263547768239, 0.03161243697188826, 0.261931620624217, 0.004516062424555466, 0.15053541415184885, 0.36128499396443725, 0.18666391354829256, 0.004516062424555466, 0.3840027311466196, 0.6156915298272615, 1.000360853277364, 0.17887383632280604, 0.027102096412546368, 0.26831075448420905, 0.5257806704033995, 0.9925035336360787, 0.9072288170179, 0.9934306741134497, 0.9977958450368091, 0.9970080256709655, 0.9956298492988432, 1.005584438795017, 1.0007703201074596, 0.1742261986696336, 0.5677370956648405, 0.2553314980503251, 0.66955097402022, 0.0761450127317113, 0.10677806383067562, 0.1479138753064277, 0.9759618080754773, 0.9892094415212704, 0.9863439691984216, 0.013511561221896186, 0.999631752084538, 0.99795169871969, 0.9979462680866925, 1.0012838810234375, 0.7400974994234694, 0.26066327023719676, 0.17206908076532507, 0.6055089171235489, 0.19384997706473328, 0.028315165189230704, 0.9986305694762754, 1.0017494850778788, 0.031130982533730502, 0.9695077417647499, 1.0059900799562895, 0.9137842476316211, 0.9816067586411358, 0.9897041640195273, 0.0021163764847199284, 0.6603094632326177, 0.13333171853735548, 0.20317214253311314, 0.9759618080754773, 0.9161663080650602, 0.91616630806506, 0.9942233611155068, 1.0058506349334362, 0.9161663080650599, 0.9305408239595677, 0.995314503995764, 0.005438877071015104, 0.9956298492988434, 0.9956298492988432, 1.0280072785855738, 0.9088630392032129, 0.08729193031895265, 0.9888107006767813, 0.010747942398660667, 0.07676505905697457, 0.08080532532313113, 0.8403753833605637, 1.0008434114350961, 0.6681266359117048, 0.3322497277389368, 0.9884664805792496, 0.01222005264452369, 0.9892094415212704, 0.9604323739529287, 0.04020414588640167, 1.0049249133180682, 1.0166268834119554, 0.3296890303507312, 0.6701287899520297, 0.8841050166055455, 0.11834476600231712, 0.9986714422262528, 1.0040345436940032, 0.9255257710514, 0.21839908605257055, 0.29261236772091975, 0.13358390700302858, 0.35622375200807627, 1.0132992875957187, 0.23561062464310545, 0.7633784238436617, 1.0019158639923318, 1.0688606927425701, 0.9211811705415625, 0.9981579413813785, 0.0871127865267432, 0.9124695266699543, 0.9988279298453662, 0.3786987280747101, 0.6176833622966145, 0.0036766866803369914, 0.6577020067664193, 0.34174712116294337, 0.1753485551913341, 0.8243397594627085, 0.1691358299001022, 0.8314146819185747, 0.09549480830272904, 0.5642875036070352, 0.27635618766395825, 0.0014468910348898337, 0.062216314500262854, 0.38725358040248015, 0.46787633946238216, 0.14406361864802164, 0.5714696674548393, 0.42860225059112944, 0.88703938180656, 0.10941454929772546, 0.9892094415212704, 1.0040345436940032, 0.033672093049927104, 0.8268369515593211, 0.13842971587192254, 0.5338274625628968, 0.46585564279557146, 0.046547978806946666, 0.9528645073422023, 1.008032018908778, 0.9759618080754773, 0.9882737621743001, 0.012670176438132051, 0.7223131866996099, 0.27632115195891116, 0.014788064006225581, 0.9834062564140011, 0.16466624331200938, 0.36254248527518035, 0.40267123364533386, 0.06918749718991991, 0.9866133754093185, 0.01566052976840188, 0.9413168349403861, 1.0058506349334362, 0.99676065863212, 1.0226192660170013, 1.0001491371241602, 1.0050949963762377, 0.3511705178771585, 0.14085060698884214, 0.5079544514484488, 0.2453426105460973, 0.3339385532432991, 0.004543381676779579, 0.37937237001109486, 0.03407536257584685, 1.0058506349334362, 0.20684206903395694, 0.23206671159907363, 0.5599870649455907, 1.0016450135511477, 1.0017809207559663, 0.9410669255586351, 0.2390426701424257, 0.7035972932494039, 0.058633107770783656, 0.9495750327300726, 0.002979502150550298, 0.9027891516167403, 0.002979502150550298, 0.09236456666705924, 0.9410669255586351, 1.0351736181144986, 0.17914610387581018, 0.8197291419771919, 1.0043932703055654, 0.2719954707300503, 0.7286096288468187, 1.0019594913300762, 0.9759618080754772, 0.06167497587431792, 0.517533493206233, 0.41831722766928675, 0.9461097873722394, 0.9981335627976167, 0.4619887048283924, 0.16145626016493989, 0.044760151332854624, 0.028774382999692257, 0.30053244466345247, 0.9954622767939563, 0.9976932545545882, 1.0074444470456538, 0.8711299485514975, 0.12828283488943285, 0.99741151814307, 0.09740853083205196, 0.1027827946020962, 0.055757986614209054, 0.7436637491798725, 0.11972722730543338, 0.8788487961781812, 0.9965369188658725, 0.9980710624528846, 0.8950530320652887, 0.10634293450280659, 0.9981160276044511, 1.0025185919686874, 0.9783179405555105, 0.02206732196741753, 1.0109421330373076, 0.9255257710514, 1.0058506349334362, 0.5860410460561086, 0.4097880998738203, 0.055299990510476904, 0.5007721362893186, 0.4055332637434973, 0.036866660340317936, 0.056284807339943184, 0.6250575973014744, 0.3169723360723116, 1.0007703201074596, 0.9921448611914127, 0.9956298492988431, 1.0005684011366487, 0.9161663080650599, 0.1071598296212677, 0.5170461779226166, 0.3429114547880566, 0.03214794888638031, 0.5843900936169597, 0.4138563296433273, 0.0020796800484589313, 1.0012229788696516, 1.0046665671365207, 0.3436080798926487, 0.6530108305652147, 0.00310957538364388, 0.44086632105315743, 0.560019380797254, 1.0527784806189284, 0.9998443065428969, 1.0033709385758978, 0.999567832735512, 1.0005684011366487, 0.9956298492988432, 1.008032018908778, 1.001564085058833, 1.021288276764753, 0.49825318615900377, 0.5016311738617767, 1.0151354443195284, 1.0015488363872005, 1.0008113188346326, 0.11507868208676185, 0.8842888202456437, 1.000370943819314, 0.9933484214230038, 0.18323168060306386, 0.11327049346371221, 0.7029433564953904, 0.9991574765190445, 1.002482509381876, 0.7576910672027368, 0.06403023103121719, 0.1783699293012479, 0.9255257710514001, 0.9987169424870997, 0.13039778494462764, 0.4781252114636346, 0.3911933548338829, 1.0009530026396392, 0.9981335627976167, 0.9979668712851547, 0.9955222117331405, 0.19066108912901206, 0.6720803391797675, 0.13822928961853373, 0.8737834151715094, 0.12482620216735849, 0.9990707774105724, 0.9957069837089176, 0.9997874709381266, 0.0030645796919022347, 0.8642114731164302, 0.1317769267517961, 1.0091837731970554, 1.0248529335383822, 0.9759618080754773, 0.21673673982449726, 0.06533975244709109, 0.20398751983482097, 0.11474297990708679, 0.3984131246773847, 0.10360645093321531, 0.5159601256474123, 0.18027522462379467, 0.20099651481043773, 1.0010363409262018, 1.0306870965731927, 0.9943348647411994, 1.0049249133180682, 0.9978457133757895, 0.9956298492988432, 0.1220185468868682, 0.5044997611668589, 0.37309517221177, 0.9961759192765853, 0.0028543722615374935, 1.0067227575743538, 1.0040045732195335, 0.08957248963320188, 0.0024208780981946456, 0.48659649773712377, 0.21545815073932345, 0.20577463834654489, 1.0002026807637712, 0.999427665128163, 0.951649152571355, 1.0082327000120643, 0.2160172553307408, 0.5791100887590073, 0.20682503169964545, 1.002120887341073, 0.43122808813438235, 0.24542563215365168, 0.3161414922657208, 0.005546341969574049, 0.15645258853455646, 0.16335490861696336, 0.08512861434968513, 0.5935995270869936, 1.0080850545549174, 0.17978463361572325, 0.07569879310135716, 0.6505365032147881, 0.09462349137669646, 1.0058506349334362, 1.0058506349334362, 0.9892094415212704, 0.3183778394623154, 0.6824996213761129, 0.9994541542527927, 1.0407207661094635, 0.9976033132263987, 0.9998754867314293, 1.0002576656083453, 0.9959462101531371, 1.0026529186390167, 0.9988757664320447, 0.9305408239595677, 0.9816067586411358, 1.0456299172873724, 1.0058506349334362, 0.9305408239595677, 0.9956298492988432, 1.0015075354042569, 1.0053076080468621, 0.10731555421423261, 0.2192970020899536, 0.13297796935241865, 0.5389107179019073, 0.9495750327300725, 0.9734267023191263, 0.9998549033387745, 0.22027138871652585, 0.7774284307642089, 0.2708070844638066, 0.3804727632962571, 0.34913971220127127, 0.02596720623662728, 0.9719154334280496, 1.0150924294094452, 0.9072288170179, 0.9956156727926618, 0.9053453148242103, 0.09529950682360108, 0.9516491525713549, 0.9461097873722394, 0.951649152571355, 0.9997657546139036, 0.9991202238603191, 1.0064606145778359, 1.0035281595897358, 1.0527784806189284, 0.9956298492988432, 1.0058506349334362, 1.0407207661094635, 0.6443416995010763, 0.16093302617623856, 0.017678249087541356, 0.17678249087541356, 0.9892094415212707, 0.9956298492988432, 1.0058506349334362, 0.9734267023191263, 1.0179625645167334, 0.9461097873722394, 0.9495750327300724, 1.0040345436940032, 0.29048465315663957, 0.710073596605119, 0.9975925723816204, 1.0054259897429307, 0.9990488463218383, 0.9725623908381391, 0.025426467734330434, 0.4724478423808733, 0.09206675902806762, 0.4361057006592676, 0.9495750327300724, 0.9799684634661884, 0.951649152571355, 0.9927375342178031, 1.0028537096801844, 0.6299667481815107, 0.3695335673690425, 0.014776858068935224, 0.4834143568265952, 0.5013576844817308, 1.0096644775106183, 0.008814580388700491, 0.044072901943502454, 0.9431601015909524, 0.6699222076753751, 0.3298471938554328, 1.0116469449755328, 0.9985930333741375, 0.9950251541486644, 0.9956298492988432, 1.002933930327389, 0.9956298492988432, 0.002541440215514268, 0.9111063172618652, 0.002541440215514268, 0.08386752711197086, 0.9998344640527369, 0.08610691096509795, 0.12799675954271317, 0.25366630527555883, 0.5329319624596603, 0.9516491525713549, 0.24808169873617414, 0.4177467685614886, 0.33362711209347556, 1.0006453888220945, 0.9305408239595677, 1.000008052466645, 0.9851956160594815, 0.009851956160594814, 0.25016800489123103, 0.0887446133559107, 0.6617594013177824, 0.9998836084060498, 0.9495750327300724, 0.03881110602776499, 0.6869565766914404, 0.031048884822211992, 0.2432162644406606, 0.640843303238334, 0.35985816258767994, 0.9790545510338797, 0.9956298492988432, 0.06773208782915725, 0.9313162076509123, 1.0020563173851833, 0.007346405496202533, 0.991764741987342, 0.9997712449928859, 0.9978324719147906, 0.9956298492988434, 0.14905767915786008, 0.853226715179475, 0.004516157325984171, 0.4109703166645596, 0.42000263131652793, 0.15354934908346182, 0.0022580786629920854, 0.006774235988976257, 0.2523578245601705, 0.5733844449190267, 0.17510542928664888, 1.0052416490830043, 0.951649152571355, 0.9759618080754773, 0.9847319730253971, 0.014410711800371664, 0.9925035336360787, 0.9995182873945752, 1.001375203689569, 1.0030718582997962, 0.9759618080754773, 0.9976932545545882, 1.0012838810234375, 1.0049249133180682, 0.9461097873722394, 1.0136890578988278, 0.9892094415212704, 0.9956298492988432, 0.5575729653809364, 0.4406288228291295, 0.0020882882598536943, 1.0051626723947833, 0.29807537438842885, 0.47835463862335487, 0.22330045229098794, 0.9996502014753674, 0.9994515208470857, 1.0174018207822206, 1.0058506349334362, 1.0001732037935103, 0.005005644349310297, 0.022525399571896337, 0.4930559684070643, 0.30033866095861783, 0.1802031965751707, 0.9980710624528846, 1.0026243828180286, 1.0235949063555247, 1.0018577934061548, 1.003072217672612, 1.0073741566905885, 0.20083036589132475, 0.1935714370036865, 0.09678571850184325, 0.5081250221346771, 0.9984515699109298, 0.7848321466468878, 0.21335242821468797, 1.0009178610657534, 0.941066925558635, 0.013108322330553321, 0.983124174791499, 0.11871836070898976, 0.38924052691472055, 0.0019462026345736026, 0.24522153195627394, 0.24716773459084754, 0.9994541542527929, 1.0055160857357714, 0.9978048899718477, 0.9495750327300724, 1.0010363409262018, 0.991935408021264, 0.25031950793214813, 0.7509585237964443, 0.9989612470229332, 0.9255257710514, 0.1325338383597119, 0.000656108110691643, 0.8667188142236605, 0.8827429362044997, 0.11630734632424153, 1.0058506349334362, 0.9956298492988432, 0.027547140596275735, 0.03366872739544812, 0.10406697558593055, 0.397903141946205, 0.42851107594206694, 0.006121586799172385, 1.0002963657505912, 0.9747031974737292, 0.9942603086566394, 0.9998010169928953, 0.1487305653356412, 0.12609765321934796, 0.659587724531974, 0.06143219002993876, 0.951649152571355, 0.9592334512808526, 0.027938838386820947, 0.009312946128940316, 0.9893551345721862, 1.0011823714654027, 0.9975925723816204, 0.2567672972339131, 0.4735930148981064, 0.2453554173568503, 0.022823759754125608, 0.4132930908550441, 0.2699056919869676, 0.1227696029524054, 0.19212037103239013, 0.0009371725416214153, 0.0009371725416214153, 1.0052305795739966, 1.036832933734743, 1.0058506349334362, 0.9956298492988432, 0.9956298492988432, 0.9934152767408515, 0.9922614843172268, 0.10095070543891793, 0.03028521163167538, 0.0025237676359729485, 0.10599824071086383, 0.18423503742602523, 0.47194454792694135, 0.10599824071086383, 0.273883086814477, 0.23108885449971497, 0.4365011696105727, 0.059911925240666845, 0.9935791365698855, 0.39966878987768223, 0.6006997979598697, 1.005850634933436, 0.9758115364812205, 0.018765606470792704, 0.8556896829610335, 0.1451892241847241, 0.27473078501234904, 0.12130969727818011, 0.5530295022975857, 0.04816708568398328, 0.001783966136443825, 0.001783966136443825, 0.01142614442388181, 0.9826484204538356, 0.9972508569599281, 1.005584438795017, 0.30625575622648626, 0.69328226134787, 0.9947928914315044, 0.003123710729288587, 0.5872576171062543, 0.4092061055368049, 0.9934152767408515, 0.9072288170179, 1.0026303571733919, 0.9976033132263987, 0.9305408239595677, 0.013360569622089119, 0.3547973488532555, 0.630915787709764, 0.9998031861013593, 1.0045185499364302, 0.5869763482128472, 0.2834309469563592, 0.12800107281900092, 0.8276191784056204, 0.17177001815965706, 0.9108551000874304, 0.09039020077203508, 1.0151354443195284, 0.9334689128502303, 0.06891381235807069, 0.22626924992585734, 0.771372442929059, 1.0010168719884978, 1.003072217672612, 1.0108379380674966, 0.9990642852502066, 0.9635905367458466, 0.029878776333204547, 0.007469694083301137, 0.999184644606539, 0.9980338591153876, 0.996024829918467, 1.0051125881090714, 1.005850634933436, 0.9412552868884019, 0.05872051331046911, 0.9945989199370117, 1.0027146464457921, 0.972860773525261, 0.02665371982260989, 1.0017809207559663, 1.0030504985538198, 0.9305408239595677, 0.9255257710514, 0.9425760294638658, 0.060421540350247806, 0.007162015040590301, 0.9955200906420518, 0.9072288170179, 0.9977157757743615, 0.9495750327300726, 1.0000865637030916, 1.0045116260989209, 0.13554924590157044, 0.8625861102827209, 0.9861948849615293, 0.015018196217688263, 1.007782938871566, 0.17606206244609188, 0.8233490567331944, 1.007628514487317, 0.36022605904344424, 0.6396839434134706, 1.008923472275702, 0.9974391257159928, 1.0006548400182107, 0.9759618080754773, 1.000139556587982, 1.0011458041426042, 1.0005933404158351, 0.12930386347938255, 0.8653412402081756, 0.0049732255184377905, 0.9998836084060498, 0.9892094415212704, 0.9137842476316211, 0.9956413597674151, 0.9990488463218383, 0.9984515699109298, 1.008032018908778, 0.8178624721092894, 0.18494377510009055, 0.9840753436032842, 0.9999617180595451, 1.0058506349334362, 1.0058506349334362, 0.9965928613201861, 0.002285763443394922, 0.010016324489184396, 0.9916161244292553, 1.010617272874892, 0.9858286088364338, 0.0095711515421013, 0.9970431492920441, 1.0048565514272343, 0.9956298492988432, 0.9935888129719666, 0.9550006567297781, 0.042921377830551825, 0.9137842476316211, 0.9892094415212704, 0.9410669255586351, 0.941066925558635, 1.0049249133180682, 1.0132992875957187, 0.12550653889688046, 0.04706495208633018, 0.8236366615107781, 0.3541819737887088, 0.28393100378103103, 0.17562742501919446, 0.18587235814531414, 0.9976498482549322, 0.9991069899355359, 1.0024618620599355, 0.9413168349403861, 1.0027602557886852, 0.9816067586411358, 0.9305408239595677, 0.9211811705415625, 0.9413168349403861, 0.9979713184493917, 0.04950304120802397, 0.9515584587764607, 0.9956298492988432, 1.0121085417079023, 0.9976966922119043, 0.9975325816560212, 0.0035373495803405004, 0.17050496130307, 0.2501974975642875, 0.27336393252394375, 0.30487028406907624, 1.0058506349334362, 0.9410669255586351, 0.9759618080754773, 0.9495750327300726, 0.9955714211515713, 0.9950095140877652, 1.0068724422198472, 0.9971575074392596, 0.00234074532262737, 1.0058506349334362, 1.0003057536567477, 0.5616815205263781, 0.3926039199597643, 0.04585155269603087, 1.0068724422198472, 1.0038047205958773, 0.5037891420407024, 0.19168562477646237, 0.09584281238823118, 0.019660064079637166, 0.19168562477646237, 1.0197599045187515, 1.0017455404321036, 1.0020641048910313, 1.0012838810234375, 0.1309054231748674, 0.02618108463497348, 0.29453720214345164, 0.003272635579371685, 0.5432575061756997, 0.40382754529784787, 0.09593693065086994, 0.2164158668170787, 0.2844641548368818, 0.9928293654839443, 0.008273578045699535, 0.951649152571355, 1.0381627118960237, 0.9979462680866926, 0.999567832735512, 0.8628353056935871, 0.1357904743386629, 1.0000875487898144, 0.1453842271835717, 0.042496927945967114, 0.36234222774982483, 0.3399754235677369, 0.10959734049223098, 1.0283619678348888, 0.024425040295147537, 0.9770016118059015, 0.9759618080754773, 0.9305408239595677, 0.21038532587651054, 0.7894104262977032, 0.21463157032907648, 0.7837304310501126, 0.0016259967449172462, 0.5712663179131612, 0.12103099955787314, 0.3082256122073836, 0.1295695293765126, 0.21389255643106841, 0.5635246198280072, 0.09254966384036614, 0.9994541542527929, 0.9413168349403861, 1.0179625645167334, 0.9834884267561466, 1.0280072785855738, 0.9983863613529501, 1.0013700345153491, 1.0019653793634558, 1.0016450135511477, 1.0407207661094635, 0.9161663080650602, 0.91616630806506, 0.9983492601578564, 0.9999841690311773, 0.9978103853448737, 1.0065033402011652, 0.9869798255802454, 1.0080320189087777, 0.9769438694431444, 0.3227155206117447, 0.14974000156384953, 0.5266717296383673, 0.951649152571355, 1.0043932703055654, 0.9956298492988432, 1.0033692152111024, 1.0055094796607804, 0.9936315614957952, 0.6113081971950702, 0.09421212145913516, 0.293342287270489, 0.004936919801879173, 0.3307736267259046, 0.6615472534518092, 0.18962688989978455, 0.8092738135880568, 1.0080320189087777, 0.038806947646534626, 0.9590859918357844, 0.9995245303112132, 0.9986585943097906, 0.12905586281931752, 0.18157859768764442, 0.09304027319532193, 0.004501948702999448, 0.16207015330798014, 0.42918577635261407, 0.9972508569599281, 0.9998836084060498, 0.7572183583391463, 0.2423900035953352, 1.0016450135511477, 1.0028763746145737, 1.0058506349334362, 1.0527784806189284, 0.0021114200188058715, 0.19002780169252842, 0.8086738672026487, 0.9982575709281897, 1.0122938120874687, 0.9986304838214731, 1.0082327000120643, 1.0058506349334362, 1.001214212601113, 0.9913734370506376, 0.010013873101521593, 1.005968092838541, 0.3410556938941208, 0.16233655298890468, 0.10276350602049929, 0.05361574227156485, 0.05957304696840539, 0.2799933207515053, 1.0000798749445812, 0.3931775716616803, 0.3389995598185354, 0.10371219409973458, 0.16408197872495323, 1.0026529186390167, 0.9413168349403861, 0.9072288170179, 0.9413168349403861, 1.0022687883464272, 1.0033709385758978, 0.35443273549612253, 0.6450037168487995, 0.7607574496102228, 0.24007509680322606, 0.9413168349403861, 0.13340701332718943, 0.38784306967286003, 0.10039909250396731, 0.3795910894670545, 0.006727622128267942, 0.9956880749836554, 0.31035475356091297, 0.6900120249072725, 0.273826334577945, 0.6737569021852067, 0.05044169321172671, 0.9759618080754772, 1.0010938718027427, 0.11389846349738399, 0.032033942858639246, 0.21000029207330173, 0.6442381841570781, 0.9996031154617999, 0.03930908069798875, 0.9602646856222967, 0.86711828567397, 0.13222918139309806, 1.0012021996636362, 0.9790545510338797, 1.0040673903945962, 0.9956298492988432, 0.99795169871969, 0.941316834940386, 1.0051626723947833, 1.00891271059314, 0.9939378087807225, 0.005663463297895854, 0.9994695584604786, 1.00891271059314, 1.0007355057326042, 0.9775464426969744, 0.02187117527434865, 1.036832933734743, 0.8240270043098942, 0.015259759339072114, 0.002543293223178686, 0.15768417983707853, 0.1741663882140663, 0.10999982413519978, 0.16499973620279965, 0.268888458997155, 0.28111066167884385, 0.9994789600772959, 1.0038464311633482, 1.0016858576969667, 0.9940863623892945, 0.9960445579020364, 0.9989484778959198, 0.9925135004038151, 0.9161663080650602, 0.9161663080650599, 0.9956298492988432, 1.0017581554254897, 0.15206200675061918, 0.0015359798661678705, 0.5191611947647402, 0.3271637114937564, 1.0054323875965474, 0.9413168349403861, 0.16236141195705417, 0.8354847656956746, 1.0017359500751106, 0.9072288170179, 1.0058506349334362, 1.0134566890631453, 1.001999316422144, 0.9970828139847442, 1.0038047205958773, 1.0067227575743538, 0.2191292227335088, 0.6821947500194141, 0.09922832727555114, 0.9977157757743615, 1.0005286739020425, 0.9992460837410535, 0.5286860324621085, 0.06751206529642033, 0.15023811713851284, 0.25388340048090463, 0.9720308753763215, 0.9926240837648297, 0.005143129967693418, 0.9901148937616459, 1.0206324191451375, 0.9998031861013592, 0.07556996864836066, 0.9204034643069567, 0.0038753830076082387, 0.7713392346420811, 0.22968768320453084, 0.9913012005951614, 0.9989486154631727, 1.0058506349334362, 0.995871535720608, 1.0014008882344532, 0.11896505214899745, 0.8821370848029434, 1.00891271059314, 0.9952627335130841, 0.06004900483995755, 0.3271090526808214, 0.0031604739389451343, 0.6083912332469383, 0.9294616469761628, 0.07055319432492325, 0.0086117221764765, 0.8697839398241265, 0.120564110470671, 1.032119768042443, 0.3116357518246051, 0.6861979535368709, 0.004957132617820037, 0.2362899881160884, 0.20985194748771488, 0.28090418167646874, 0.2693375389015553, 0.9996123686960386, 0.8197239750120536, 0.022396829918362123, 0.15677780942853486, 1.0043634444681315, 1.0058506349334362, 0.17462606987117296, 0.043363520706264425, 0.49809449459898325, 0.10782280824260343, 0.07031922276691528, 0.10547883415037293, 0.08116366835740013, 0.5642807419133532, 0.0946909464169668, 0.1372052488898907, 0.0019324682942238125, 0.11981303424187638, 0.9607761940311705, 0.042701164179163136, 0.011084272939727254, 0.8054571669535138, 0.011084272939727254, 0.08128466822466653, 0.09236894116439377, 0.9957389455074513, 1.0058506349334362, 0.2283043283093992, 0.7736980014929639, 0.9911457296318168, 0.007029402337814304, 0.2335516203282828, 0.23540520461660253, 0.5319786907477553, 0.9137842476316211, 1.0091837731970554, 1.0058506349334362, 0.2153989465571487, 0.7846675910296131, 0.9981748987958455, 0.9944205140819199, 0.9969657788842766, 0.9962754441758137, 1.0093248587878008, 0.2027792475807879, 0.795518586663091, 0.999567832735512, 0.8477083646014817, 0.15232259676432874, 0.7605308967064102, 0.23966309770159985, 0.005679872988791415, 0.9939777730384977, 0.4439787951426834, 0.19530525003719065, 0.012490452037262192, 0.19984723259619508, 0.1487499288073952, 0.9203848389479642, 0.08121042696599684, 0.2546953130735938, 0.2687739484696216, 0.2303776701168185, 0.24701605740303317, 0.9495750327300724, 0.9977958450368091, 0.15417487272292366, 0.3276216045362128, 0.37044795807035824, 0.019271859090365457, 0.13062037827914366, 0.9956298492988432, 0.9997685918318977, 0.9995795680344614, 1.0012838810234375, 0.9997205217735626, 0.07245295514783771, 0.6779526517404815, 0.08970365875446573, 0.16043154354164063, 0.018910470085635643, 0.9833444444530535, 0.9997546042540809, 0.9950251541486644, 0.9461097873722394, 1.0005143063918414, 0.9255257710514, 0.7145670806606589, 0.28410498387712946, 0.0028697473118901966, 1.0053076080468621, 1.000330976118939, 0.9934152767408515, 0.9955714211515713, 0.004704828065906099, 0.5363503995132953, 0.22112691909758664, 0.237593817328258, 0.9986909826988692, 0.996688413466291, 1.00891271059314, 1.0062352373500678, 0.3305684370178602, 0.07318858384159267, 0.1988289861029934, 0.3976579722059868, 0.005612512343669079, 0.7043702991304694, 0.2918506418707921, 0.9991451729230718, 1.0030504985538198, 1.002120887341073, 1.0007355057326042, 1.0035244179956124, 0.9805859564770274, 0.005215882747218231, 0.015647648241654693, 1.0052416490830043, 0.9897151186742091, 0.9983019801162222, 1.001375203689569, 1.0010854721854512, 0.999114976089126, 0.007717850837091961, 0.995602757984863, 0.9211811705415625, 1.000965076910963, 0.9998434183872753, 0.8412897884756755, 0.16024567399536677, 1.0109121103913743, 0.27438790847547423, 0.7244803548343661, 1.0009857443965238, 1.0054323875965474, 0.01486835094949747, 0.09912233966331646, 0.8871449399866823, 0.9869798255802454, 1.0150629660218016, 0.9072288170179, 0.06495923084802972, 0.37772589789409877, 0.5569652570858845, 0.9956298492988434, 0.18355803889727595, 0.3860546056172867, 0.4297589005928286, 0.005087972311817273, 0.9972425731161856, 0.004749183440532456, 0.10448203569171402, 0.002374591720266228, 0.18046897074023333, 0.1709706038591684, 0.20184029622262936, 0.33481743255753815, 0.17652822401769486, 0.3530564480353897, 0.47074193071385295, 0.004573854862247101, 0.8004246008932425, 0.1921019042143782, 0.9918873881934192, 0.006085198700573124, 0.14719669041757044, 0.06061040193664666, 0.09524491732901617, 0.27707612313895613, 0.4213866039404958, 1.0161919938442572, 0.9956298492988432, 0.996688413466291, 0.9872274891214934, 0.9886664671772409, 0.013008769304963697, 1.0000798749445812, 0.1577045967982424, 0.842968618600129, 0.941316834940386, 0.9759618080754773, 0.9365622444548407, 0.042961570846552326, 0.01718462833862093, 1.001342843173883, 0.9305408239595677, 0.1378292867647687, 0.8614330422798043, 0.9305408239595677, 0.2686034065781886, 0.12209245753554027, 0.6104622876777013, 0.9759618080754773, 0.9994541542527928, 1.000139556587982, 1.0002840687343788, 0.9994541542527927, 0.05046907095856341, 0.41245413162688027, 0.0017403127916746004, 0.07831407562535701, 0.17925221754248383, 0.2558259803761663, 0.022624066291769804, 1.007782938871566, 0.9985728013830814, 0.9949059322336893, 0.9978457133757895, 1.0058506349334362, 0.9962754441758137, 0.9305408239595677, 0.9997662445552998, 1.0130458720920874, 1.0004516732160398, 0.9978116993010476, 0.4267475997036535, 0.08668310618980461, 0.3667362184953272, 0.11780011866819601, 1.004114552539193, 1.0268910926622392, 0.09071255344878912, 0.003023751781626304, 0.2539951496566095, 0.6531303848312816, 0.9972508569599281, 0.9841039638013126, 0.9892094415212707, 0.7885410176169669, 0.21067889783659424, 0.8690818563599755, 0.12955257486111435, 0.9410669255586351, 0.26265079171949834, 0.729149959101891, 0.007840322140880547, 0.9759618080754773, 0.9956298492988432, 0.08304669461792416, 0.9227410513102684, 0.02711910044618207, 0.9762876160625545, 1.0283619678348888, 1.0021208873410732, 0.999567832735512, 0.027573320971842032, 0.09893956348719787, 0.5125393780648283, 0.10867132383020095, 0.09893956348719787, 0.15246424537371475, 1.0058506349334362, 1.003973761543976, 0.951649152571355, 0.9072288170179, 0.06493735755279764, 0.8095523908248772, 0.12554555793540875, 0.9461097873722394, 0.9998461021827897, 0.389364837201246, 0.07928243291428085, 0.5320732164469515, 0.3011174297175922, 0.6985924369448139, 0.9997563981242684, 0.9495750327300725, 0.941316834940386, 0.9651366173701843, 0.03574580064334016, 0.999147139203216, 0.0021481069580900065, 0.3071792950068709, 0.4596948890312614, 0.2298474445156307, 0.9962754441758137, 0.9902407984485079, 0.008183808251640562, 0.996688413466291, 0.5087663088593087, 0.28137557917620937, 0.10469788992603139, 0.10469788992603139, 0.9956298492988432, 0.9326853258101165, 0.06642269382623975, 0.9983187934056034, 0.0025020521137985047, 0.9992764477770083, 1.000859264043956, 0.4647412435110369, 0.5354627370888034, 0.16880126531110215, 0.5626708843703405, 0.2688316447547182, 0.9868954174814051, 0.9979713184493917, 1.0339342488439642, 0.25049195051745043, 0.6107885916726874, 0.13897156158844853, 0.6251970966371219, 0.3758410291922582, 1.0045185499364302, 0.07844644349499748, 0.08334934621343483, 0.0029417416310624053, 0.8354546232217231, 0.9951835468124832, 0.0067242131541384005, 1.000560551824746, 1.0040712906030784, 0.013448356625000189, 0.9817300336250138, 0.6522298048989159, 0.1485275793334165, 0.0016144302101458315, 0.0565050573551041, 0.004843290630437495, 0.13561213765224983, 0.999652159143251, 0.9958329435489783, 0.9967084010817687, 0.9759618080754772, 1.0121085417079023, 0.9759618080754773, 0.9886412668872315, 0.011234559850991267, 0.18014516895720184, 0.32886966891024055, 0.4356999435243952, 0.05236778167360519, 0.09884296606708212, 0.017971448375833112, 0.017971448375833112, 0.23362882888583048, 0.6319959345501311, 0.1140762497927947, 0.8840909358941589, 0.007142398157711459, 0.9927933439218928, 0.001890202639895316, 0.9980269938647269, 1.0002779264556336, 1.0018722985553572, 0.09157462634865988, 0.8053180375955677, 0.008080114089587637, 0.09426799771185576, 0.9838426949022094, 0.40507302060459544, 0.1827077610419329, 0.41215471676901144, 0.9759618080754773, 0.9495750327300724, 0.9892094415212704, 0.9461097873722394, 1.007812599592168, 0.1954938250954833, 0.1184519235800219, 0.6750796620292305, 0.010593261458375943, 0.9986585943097906, 0.9948756641848874, 0.9039656364865739, 0.002045171123272792, 0.09407787167054842, 0.993025202683153, 1.0068738958341503, 0.1308198893724016, 0.5876512490855501, 0.28240484054994636, 1.0012388938139585, 0.9453683634193648, 0.04431414203528272, 0.029424147775395038, 0.9709968765880362, 0.1339214209596267, 0.15597906676474166, 0.7105713041504899, 1.063475227382363, 1.0004937017864464, 0.6518805745314753, 0.34841892776682304, 0.9956298492988432, 1.0028972204616087, 0.9956298492988432, 0.9956298492988432, 0.995469974617495, 0.12430694285705976, 0.8701485999994183, 0.9993709123586926, 1.0058506349334362, 0.5280996055202358, 0.10177919670026364, 0.10177919670026364, 0.26693034606295557, 0.2849582573277239, 0.7149551486246485, 0.0019090853879605582, 0.07636341551842232, 0.920179156996989, 1.0058406449546284, 0.3516044901569824, 0.6491159818282752, 0.9945489424060941, 0.10874369979559625, 0.11398436002670934, 0.23582971040008827, 0.542408333920203, 1.003063941256368, 1.0003239830931425, 0.13930433133870365, 0.8619455501582288, 0.22445467436045055, 0.007359169651162314, 0.5445785541860112, 0.22445467436045055, 1.0049193237877094, 0.941316834940386, 0.1148973770080751, 0.8863511940622937, 0.276035057394227, 0.7245920256598458, 0.9790545510338797, 0.9305408239595677, 1.0026529186390167, 0.014636298397962667, 0.9806319926634987, 1.0047803027187496, 0.02697640743125106, 0.9711506675250382, 1.0004451237691836, 0.7457468578423996, 0.2542318833553635, 0.9410669255586351, 0.19605042285159416, 0.8028731602493856, 1.0005684011366487, 0.08056357519656011, 0.14361332969821586, 0.4658676304844563, 0.22417690489477596, 0.08406633933554099, 1.0283619678348888, 1.0058506349334362, 1.0027265872303106, 0.9956298492988434, 1.0027265872303106, 0.9982711882546916, 0.9993940250789767, 0.9992473714349152, 1.036832933734743, 0.9770156490962001, 1.0005104978726942, 0.9990274666436663, 0.9242615502894709, 0.07544992247260987, 0.9979462680866927, 1.0001732037935103, 0.9939407605817634, 1.0019714406956512, 1.0016065413728161, 1.0038047205958773, 0.013445534233429741, 0.981523999040371, 0.9998836084060498, 0.9955714211515713, 1.000011455217846, 1.0026981114842026, 1.0226192660170013, 1.0015611123765706, 1.0010368766971756, 0.9986714422262528, 0.9948756641848873, 0.1933390437200409, 0.8070345889475256, 0.2211670957988207, 0.42557910858257925, 0.09717948148736061, 0.25635277013045127, 0.9420824530355939, 0.0584675796678747, 0.8207922080806209, 0.18174684607499464], \"Term\": [\"abandon\", \"ability\", \"ability\", \"ability\", \"ability\", \"abuse\", \"acceptable\", \"acceptable\", \"acceptance\", \"access\", \"accomplish\", \"ace\", \"achieve\", \"achieve\", \"achieve\", \"achieve\", \"acid\", \"acid\", \"activate\", \"activation\", \"activation\", \"active\", \"active\", \"active\", \"active\", \"active\", \"active\", \"activity\", \"activity\", \"acute\", \"acute\", \"acute\", \"acute_ischemic_stroke\", \"ad\", \"addition\", \"addition\", \"addition\", \"addition\", \"addition\", \"addition\", \"addition\", \"additive\", \"adjust\", \"admission\", \"adolescent\", \"adsorption\", \"adult\", \"adult\", \"adult\", \"adult\", \"advanced\", \"advanced\", \"adverse_event\", \"agalsidase\", \"age\", \"aggregate\", \"agreement\", \"aim\", \"airway\", \"albuminuria\", \"alcohol\", \"algorithm\", \"allo\", \"alloimmune\", \"alteplase\", \"amenable\", \"amyotrophic_lateral_sclerosis\", \"analysis\", \"analysis\", \"analysis\", \"analysis\", \"animal\", \"animal\", \"anomaly\", \"antibiotic\", \"antioxidant\", \"antithrombotic\", \"anxiety\", \"apoptosis\", \"app\", \"application\", \"application\", \"application\", \"apply\", \"apply\", \"apply\", \"apply\", \"approach\", \"approach\", \"approach\", \"approve\", \"area\", \"area\", \"area\", \"area\", \"area\", \"area_curve\", \"arm\", \"artery\", \"article\", \"artificial\", \"aspect\", \"aspect\", \"aspect\", \"aspiration\", \"assay\", \"assay\", \"assess\", \"assess\", \"assess\", \"assess\", \"assessment\", \"assessment\", \"assessment\", \"associate\", \"association\", \"association\", \"asthma\", \"atrial_fibrillation\", \"attend\", \"attending\", \"attention\", \"attention\", \"automate\", \"awareness\", \"axial\", \"baby\", \"back\", \"bacterial\", \"bacterial\", \"barrier\", \"barrier\", \"barrier\", \"base\", \"base\", \"baseline\", \"baseline\", \"beat\", \"behavior\", \"behavior\", \"behavior\", \"belong\", \"bias\", \"bias\", \"bicultural\", \"bind\", \"bind\", \"binding\", \"bioceramic\", \"biofilm\", \"biological\", \"biological\", \"biological\", \"biological\", \"biological\", \"biological\", \"biomarker\", \"biomarker\", \"biometric\", \"biopsy\", \"biorithm\", \"bird\", \"birth\", \"blood\", \"blood\", \"body\", \"body\", \"body_mass_index\", \"body_weight\", \"bone\", \"brain\", \"breath\", \"breathing\", \"bridge\", \"burden\", \"burden\", \"calcify\", \"calcium\", \"calibration\", \"cancer\", \"cancer\", \"candidate\", \"candidate\", \"capacitive\", \"capping\", \"carcass\", \"cardiac\", \"cardiovascular\", \"care\", \"caregiver\", \"caregiver\", \"case\", \"case\", \"catalase\", \"categorization\", \"causative_agent\", \"cdc\", \"cell\", \"cellular\", \"centre\", \"centre\", \"cerebellum\", \"change\", \"change\", \"change\", \"change\", \"channel\", \"chaperone\", \"character\", \"chart\", \"checklist\", \"chemical\", \"chemical\", \"chemotherapy\", \"chest\", \"child\", \"child\", \"chromatographic\", \"chromosome\", \"cisplatin\", \"citrulline\", \"clade\", \"classification\", \"cleaning\", \"clinic\", \"clinical\", \"clinical\", \"clinical\", \"clinician\", \"clone\", \"cluster\", \"cluster\", \"cluster\", \"cluster\", \"coagulation\", \"coagulogram\", \"cognitive\", \"cognitive\", \"cohort\", \"coli\", \"collagen\", \"collect\", \"collect\", \"collect\", \"collect\", \"collect\", \"colonoscopy\", \"column\", \"commander\", \"commentary\", \"communication\", \"communication\", \"community\", \"community\", \"comorbid\", \"comorbiditie\", \"compare\", \"compare\", \"compare\", \"comparison\", \"comparison\", \"complex\", \"complex\", \"complex\", \"complex\", \"complex\", \"complication\", \"complication\", \"complication\", \"component\", \"component\", \"component\", \"component\", \"composition\", \"compound\", \"compound\", \"computational\", \"concentration\", \"concentration\", \"concentration\", \"condition\", \"condition\", \"condition\", \"condition\", \"condition\", \"condition\", \"condition\", \"conduct\", \"conduct\", \"confidence\", \"confirm\", \"confirm\", \"confirm\", \"confirm\", \"conflict\", \"conglomerate\", \"connectivity\", \"consensus\", \"conservation\", \"constellation\", \"consumer\", \"consumption\", \"content\", \"content\", \"content\", \"control\", \"control\", \"control\", \"control\", \"convenience_sampling\", \"coronary_artery\", \"correction\", \"correction\", \"correlation\", \"correlation_coefficient\", \"cortex\", \"cortical\", \"cost\", \"cost\", \"country\", \"country\", \"country\", \"country\", \"covid\", \"crisis\", \"criterion\", \"criterion\", \"crop\", \"crossfit\", \"crown\", \"culturally_adapt\", \"current\", \"current\", \"current\", \"current\", \"curriculum\", \"cuspidate\", \"cusps\", \"cut\", \"cutaneous\", \"cuticle\", \"cuticular\", \"cycle\", \"cycle\", \"cytokine\", \"cytoplasmic\", \"cytostatic\", \"damage\", \"damage\", \"data\", \"data\", \"database\", \"database\", \"database\", \"dataset\", \"datum\", \"datum\", \"day\", \"day\", \"deacylate\", \"death\", \"death\", \"decade\", \"decision_maker\", \"decrease\", \"decrease\", \"deep\", \"deep\", \"deep_learning\", \"deficiency\", \"deidentified\", \"demonstrate\", \"demonstrate\", \"demonstrate\", \"demonstrate\", \"demonstration\", \"density\", \"density\", \"dental\", \"dentinal\", \"depolarization\", \"depression\", \"describe\", \"describe\", \"description\", \"design\", \"design\", \"design\", \"detect\", \"detect\", \"detection\", \"detection\", \"determine\", \"determine\", \"develop\", \"develop\", \"develop\", \"develop\", \"develop\", \"development\", \"development\", \"development\", \"device\", \"device\", \"diabetes\", \"diabetes\", \"diabetes_mellitus\", \"diabetic\", \"diagnose\", \"diagnose\", \"diagnose\", \"diagnosis\", \"diagnosis\", \"diagnostic\", \"diagnostic\", \"diagnostic_accuracy\", \"dialogue\", \"die\", \"die\", \"diet\", \"diet\", \"dietary\", \"dietary\", \"difference\", \"difference\", \"difference\", \"difference\", \"differentiation\", \"differentiation\", \"diglycidyl\", \"dilate_cardiomyopathy\", \"disability\", \"disadvantaged\", \"discipline\", \"discussion\", \"disease\", \"disease\", \"disease\", \"disorder\", \"disorder\", \"disorder\", \"disorder\", \"disorder\", \"distant_metastasis\", \"distribution\", \"distribution\", \"distribution\", \"district\", \"divide\", \"dkv\", \"dna\", \"dna\", \"dna\", \"domestic_violence\", \"dose\", \"dose\", \"dose\", \"dose\", \"dosed\", \"dosing\", \"drive\", \"drive\", \"drought\", \"drug\", \"drug\", \"duration\", \"dyad\", \"dynamic\", \"dynamic\", \"dynamic\", \"dynamical\", \"dysfunction\", \"early\", \"early\", \"early\", \"early\", \"early\", \"ecological\", \"ecosystem\", \"ed\", \"education\", \"education\", \"educational\", \"effect\", \"effect\", \"effect\", \"effect\", \"efficacy\", \"efficacy\", \"elderly\", \"electrode\", \"element\", \"element\", \"emergence\", \"emergency\", \"emotional\", \"emotional\", \"enamel\", \"endometritis\", \"endoscopic\", \"energy\", \"energy\", \"enhance\", \"enhance\", \"enhance\", \"enhance\", \"environment\", \"environment\", \"environment\", \"environmental\", \"enzymatic\", \"epithelial\", \"epitope\", \"eruption\", \"establish\", \"establish\", \"establish\", \"establish\", \"estimate\", \"estimate\", \"estimate\", \"estimation\", \"ethical\", \"evaluate\", \"evaluate\", \"evaluate\", \"evaluation\", \"evaluation\", \"evaluative\", \"evidence\", \"evident\", \"evolution\", \"evolutionary\", \"examinate\", \"examiner\", \"exercise\", \"exogenous\", \"experience\", \"experience\", \"exploitation\", \"expose\", \"exposure\", \"express\", \"express\", \"expression\", \"extension\", \"extract\", \"extract\", \"extract\", \"eye\", \"facility\", \"factor\", \"factor\", \"factor\", \"faecalis\", \"failure\", \"family\", \"family\", \"family\", \"fatigue\", \"fatty_acid\", \"fauna\", \"fear\", \"feature\", \"feature\", \"feature\", \"feed\", \"feed\", \"fetal\", \"fiber\", \"fibrosis\", \"field\", \"field\", \"field\", \"filtering\", \"filtration\", \"financing\", \"find\", \"find\", \"find\", \"find\", \"find\", \"finding\", \"finding\", \"finding\", \"finding\", \"fish\", \"fissure\", \"fixation\", \"flexibility\", \"fluorescence\", \"follicle\", \"follow\", \"follow\", \"follow\", \"food\", \"food\", \"foot\", \"forest\", \"form\", \"form\", \"form\", \"form\", \"form\", \"formulation\", \"fracture\", \"fragmentary\", \"frailty\", \"free\", \"free\", \"free\", \"fruit\", \"function\", \"function\", \"function\", \"function\", \"functional\", \"functional\", \"functional\", \"functional\", \"fundamental\", \"future\", \"future\", \"future\", \"future\", \"galactosidase\", \"gastric\", \"gb\", \"gene\", \"gene\", \"genera\", \"generalization\", \"generic\", \"genetic\", \"genome\", \"genomic\", \"genotype\", \"genus\", \"germinate\", \"gingival\", \"gingivitis\", \"glandular\", \"glia\", \"glomerular\", \"glucose\", \"gold_standard\", \"good\", \"good\", \"good\", \"good\", \"grab\", \"groove\", \"group\", \"grow\", \"grow\", \"growth\", \"growth\", \"growth\", \"guideline\", \"guideline\", \"gum\", \"gun\", \"gut\", \"habitat\", \"habitat\", \"hardware\", \"hasty\", \"heal\", \"health\", \"healthcare\", \"healthcare_professional\", \"healthcare_worker\", \"hear_loss\", \"helper\", \"hemodialysis\", \"hidden\", \"high\", \"high\", \"high\", \"high\", \"hispanic\", \"histogenesis\", \"histopathology\", \"historically\", \"hitherto\", \"hla\", \"holding\", \"hormone\", \"hospital\", \"hospital\", \"hospitalization\", \"hospitalize\", \"host\", \"hour\", \"hour\", \"human\", \"human\", \"human\", \"humiliation\", \"humoral\", \"hydroxide\", \"hygiene\", \"hypertension\", \"identification\", \"identification\", \"identify\", \"identify\", \"identify\", \"igan\", \"illustrate\", \"illustrate\", \"illustrate\", \"image\", \"image\", \"immediately\", \"immune\", \"immunoassay\", \"immunogenicity\", \"immunological\", \"immunotherapy\", \"impact\", \"impact\", \"impact\", \"impact\", \"implant\", \"important\", \"important\", \"important\", \"important\", \"impregnation\", \"improve\", \"improve\", \"improve\", \"incidence\", \"incipient\", \"include\", \"incorporate\", \"incorporate\", \"increase\", \"increase\", \"increase\", \"increased\", \"indifference\", \"individual\", \"individual\", \"individual\", \"individual\", \"induce\", \"induce\", \"induced\", \"induction\", \"industry\", \"industry\", \"infant\", \"infect\", \"infect\", \"infection\", \"infectious\", \"infiltrate\", \"inflammatory\", \"inflammatory\", \"influence\", \"influence\", \"influence\", \"influence\", \"influence\", \"influence\", \"information\", \"information\", \"information\", \"informative\", \"informatively\", \"informatization\", \"inhibitor\", \"inhibitor\", \"initiative\", \"injury\", \"instrument\", \"insurance\", \"insurer\", \"intake\", \"integral\", \"integration\", \"integumentary\", \"intelligent\", \"intensive_care\", \"interact\", \"interaction\", \"interaction\", \"interaction\", \"interleukin\", \"intervention\", \"intervention\", \"intervention\", \"interview\", \"intestinal\", \"intolerance\", \"intracranial_hemorrhage\", \"inverse\", \"involve\", \"involve\", \"involve\", \"involve\", \"involve\", \"ion\", \"iron\", \"irrigation\", \"isolate\", \"job\", \"journal\", \"key\", \"key\", \"key\", \"key\", \"kinetic\", \"knowledge\", \"knowledge\", \"land\", \"landing\", \"landscape\", \"landscape\", \"large\", \"large\", \"large\", \"large\", \"large\", \"larvae\", \"laser\", \"lateral\", \"laziness\", \"leaf\", \"leg\", \"length\", \"length\", \"lesion\", \"leucocyte\", \"level\", \"level\", \"level\", \"life\", \"life\", \"life_expectancy\", \"ligand\", \"limit\", \"limit\", \"limit\", \"limit\", \"limit\", \"limit\", \"lipid\", \"lipid_metabolism\", \"liquid\", \"literature\", \"live\", \"live\", \"live\", \"live\", \"llness\", \"load\", \"load\", \"load\", \"loci\", \"lockdown\", \"logistic_regression\", \"loss\", \"loss\", \"loss\", \"loss\", \"low\", \"low\", \"low\", \"low\", \"low\", \"low\", \"lumbar\", \"luminescence\", \"lymph_node\", \"lymphocyte\", \"lysosomal\", \"machine_learn\", \"machine_learning\", \"major\", \"major\", \"major\", \"major\", \"major\", \"major\", \"major\", \"make\", \"make\", \"make\", \"make\", \"malaria\", \"male\", \"male\", \"malignancy\", \"malignant\", \"malignant\", \"man\", \"man\", \"management\", \"management\", \"management\", \"management\", \"management\", \"management\", \"manifestation\", \"manifestation\", \"mapping\", \"marine\", \"marker\", \"marker\", \"mask\", \"material\", \"material\", \"material\", \"mathematical\", \"matherial\", \"matrix\", \"maxillary\", \"maximally\", \"measure\", \"measure\", \"measure\", \"measurement\", \"mechanical\", \"mechanism\", \"mechanism\", \"mechanism\", \"mediate\", \"mediate\", \"medical\", \"medical\", \"medicinal\", \"medicine\", \"medicine\", \"membrane\", \"membrane\", \"memory\", \"mental\", \"mental_disorder\", \"mental_health\", \"meta_analysis\", \"meta_analysis\", \"meta_analysis\", \"metabolic\", \"metabolism\", \"metabolite\", \"metal\", \"metastatic\", \"method\", \"method\", \"methodological\", \"methodology\", \"metric\", \"metric\", \"migraine\", \"milk\", \"mineralization\", \"miscarriage\", \"mitochondrial\", \"mitochondrial\", \"mm\", \"mm\", \"mmunity\", \"mobility\", \"mobilization\", \"model\", \"modeling\", \"moderate\", \"moderate\", \"modify\", \"modify\", \"molar\", \"monitor\", \"monitor\", \"monomer\", \"month\", \"month\", \"mood\", \"morphological\", \"mortality\", \"mother_daughter\", \"motor\", \"mouse\", \"movement\", \"multi\", \"multi\", \"multi\", \"muscle\", \"musculature\", \"muslim\", \"mutant\", \"mutation\", \"nanoparticle\", \"nasopharyngeal\", \"natural\", \"natural\", \"necrosis\", \"neonatal\", \"nephritis\", \"nerve\", \"network\", \"network\", \"neural\", \"neural\", \"neural_network\", \"neurological\", \"neurological\", \"neuron\", \"neutralize\", \"neutrophil\", \"newly\", \"noise\", \"noise\", \"non_alcoholic\", \"non_hispanic\", \"nonproteinuric\", \"nordic\", \"nose\", \"notable\", \"note\", \"note\", \"note\", \"number\", \"number\", \"number\", \"number\", \"nurse\", \"nutrient\", \"object\", \"obligatory\", \"odd\", \"odontogenic\", \"odontoglyphic\", \"offence\", \"offline\", \"oil\", \"old_adult\", \"old_adult\", \"oncohematology\", \"opinion\", \"optical\", \"oral\", \"oral\", \"outcome\", \"outcome\", \"outcome\", \"outcome\", \"overall_survival\", \"overground\", \"oversight\", \"overwhelming\", \"oxidation\", \"oxidative_stress\", \"pace\", \"pain\", \"pain\", \"pancrea\", \"pandemic\", \"paper\", \"paper\", \"paper\", \"paradigm\", \"parallel\", \"parameter\", \"parameter\", \"parameter\", \"parameter\", \"parameter\", \"paramount\", \"parasite\", \"parent\", \"parietal\", \"part\", \"part\", \"part\", \"part\", \"part\", \"participant\", \"participant\", \"participant\", \"participant\", \"particle\", \"particle\", \"paste\", \"patent\", \"path\", \"pathogen\", \"pathway\", \"pathway\", \"patient\", \"pattern\", \"pattern\", \"pattern\", \"pattern\", \"pattern\", \"pave_way\", \"peak\", \"peak\", \"pedagogical\", \"pellicle\", \"people\", \"people\", \"perform\", \"perform\", \"perform\", \"performance\", \"performance\", \"performance\", \"period\", \"period\", \"period\", \"period\", \"periodontal\", \"perivulnar\", \"permanent_tooth\", \"personality_trait\", \"pg\", \"phylogenetic\", \"physical\", \"physical_activity\", \"physician\", \"pillar\", \"pit\", \"pitted\", \"placebo\", \"plant\", \"plasma\", \"plastic\", \"plasticity\", \"player\", \"pneumoniae\", \"point\", \"point\", \"point\", \"polar\", \"pollution\", \"polyfilament\", \"polymer\", \"polymorphism\", \"polyp\", \"population\", \"population\", \"population\", \"position\", \"position\", \"position\", \"positive\", \"positive\", \"positivity\", \"post\", \"post\", \"postoperative\", \"postpartum\", \"potential\", \"potential\", \"potential\", \"potential\", \"potential\", \"potential\", \"powerful\", \"pr\", \"practice\", \"practice\", \"practitioner\", \"precision\", \"precision_medicine\", \"precondition\", \"predict\", \"predict\", \"predict\", \"prediction\", \"predominant\", \"pregnancy\", \"prenatal\", \"preoperative\", \"preparation\", \"prepare\", \"prepare\", \"prescribe\", \"present\", \"present\", \"present\", \"present\", \"present\", \"present\", \"prevalence\", \"primary\", \"primary\", \"primary\", \"primary\", \"primer\", \"primordia\", \"primordium\", \"primosome\", \"probe\", \"probiotic\", \"problem\", \"problem\", \"procedure\", \"procedure\", \"proceeding\", \"process\", \"process\", \"process\", \"process\", \"processing\", \"processing\", \"product\", \"product\", \"production\", \"production\", \"production\", \"profession\", \"professional\", \"profile\", \"profile\", \"profile\", \"profile\", \"prognosis\", \"prognostic\", \"prognostic\", \"program\", \"program\", \"programme\", \"proinflammatory\", \"proliferation\", \"promoter\", \"prone\", \"pronounce\", \"pronounced\", \"proof_concept\", \"property\", \"property\", \"propose\", \"prospect\", \"prosthesis\", \"protein\", \"protein\", \"proteinase\", \"protocol\", \"protocol\", \"protocol\", \"protocol\", \"provide\", \"provide\", \"provide\", \"provide\", \"provide\", \"provider\", \"provision\", \"psychological\", \"psychosocial\", \"publication\", \"publish\", \"pulp\", \"pulpitis\", \"puppy\", \"purulent\", \"qualitative\", \"quality\", \"quality\", \"quality\", \"quality\", \"quarantine\", \"questioning\", \"questionnaire\", \"questionnaire\", \"rabbit\", \"radii\", \"radiotherapy\", \"randomization\", \"randomize\", \"randomize_control_trial\", \"randomized\", \"randomly_assign\", \"range\", \"range\", \"range\", \"rank\", \"rare\", \"rat\", \"rate\", \"rate\", \"rate\", \"rate\", \"rater\", \"reaction\", \"reaction\", \"read\", \"real_life\", \"real_time\", \"receive\", \"receive\", \"receive\", \"recent\", \"recent\", \"recent_advance\", \"receptor\", \"recipient\", \"recognition\", \"recommendation\", \"record\", \"record\", \"recording\", \"recurrence\", \"reduce\", \"reduce\", \"reduce\", \"reduce\", \"reduction\", \"reduction\", \"reference\", \"reference\", \"reference\", \"refinement\", \"regard\", \"regard\", \"region\", \"region\", \"region\", \"region\", \"region\", \"regulate\", \"regulation\", \"regulation\", \"regulation\", \"regulatory\", \"relapse\", \"relate\", \"relate\", \"relate\", \"relate\", \"relate\", \"relate\", \"relationship\", \"relationship\", \"relationship\", \"relationship\", \"relationship\", \"relationship\", \"release\", \"release\", \"relevant\", \"relevant\", \"relevant\", \"relevant\", \"relevant\", \"reliability\", \"remission\", \"removal\", \"removal\", \"renal\", \"renal\", \"report\", \"report\", \"report\", \"reprint\", \"reproducible\", \"rescreene\", \"research\", \"research\", \"researcher\", \"resection\", \"residue\", \"resilience\", \"resin\", \"resistance\", \"resistance\", \"resistant\", \"resolution\", \"resolution\", \"resource\", \"resource\", \"respiratory\", \"respiratory\", \"response\", \"response\", \"response\", \"response\", \"response\", \"restoration\", \"restoration\", \"result\", \"result\", \"result\", \"result\", \"rethinking\", \"retrieve\", \"reveal\", \"reveal\", \"reveal\", \"reveal\", \"reveal\", \"reversibly\", \"review\", \"reward\", \"rhythm\", \"risk\", \"role\", \"role\", \"role\", \"role\", \"room\", \"room\", \"root\", \"rotation\", \"runner\", \"rural\", \"sable\", \"safety\", \"safety\", \"safety\", \"saliva\", \"sample\", \"save\", \"scaffold\", \"scale\", \"scale\", \"scale\", \"scale\", \"school\", \"scientific\", \"scientist\", \"scope_review\", \"score\", \"score\", \"score\", \"score\", \"screen\", \"screen\", \"screen\", \"search\", \"season\", \"seasonality\", \"section\", \"seed\", \"seek\", \"seek\", \"seek\", \"segmentation\", \"selectively\", \"sensitivity\", \"sensitivity_specificity\", \"separation\", \"sequence\", \"sequencing\", \"sequencing\", \"serially\", \"serum\", \"service\", \"set\", \"set\", \"setup\", \"severe\", \"severe\", \"sex\", \"sexual\", \"shape\", \"shape\", \"shape\", \"shed_light\", \"shock\", \"shooter\", \"show\", \"show\", \"show\", \"signal_pathway\", \"significantly\", \"significantly\", \"significantly\", \"simulation\", \"simulation\", \"site\", \"site\", \"site\", \"site\", \"site\", \"site\", \"site\", \"size\", \"size\", \"size\", \"skin\", \"skin\", \"skin\", \"sleep\", \"sleep\", \"small\", \"small\", \"small\", \"small\", \"small\", \"smart\", \"smartly\", \"smartphone\", \"smear\", \"smoker\", \"smoker\", \"smoking\", \"social\", \"social\", \"social_isolation_loneliness\", \"socio_cultural\", \"software\", \"software\", \"software\", \"soil\", \"solute\", \"solution\", \"solution\", \"somatically\", \"source\", \"source\", \"source\", \"southeast_asian\", \"sp\", \"span\", \"specie\", \"species\", \"specific\", \"specific\", \"specific\", \"specific\", \"specific\", \"specific\", \"specific\", \"speciman\", \"specimen\", \"spectroscopy\", \"spectrum\", \"spinal\", \"sport\", \"st_nd\", \"stability\", \"stabilization\", \"stabilize\", \"staff\", \"stage\", \"stage\", \"stage\", \"stage\", \"stakeholder\", \"stand_alone\", \"standard\", \"standard\", \"standard\", \"standard\", \"state_art\", \"statement\", \"statin\", \"statistical\", \"statistical\", \"status\", \"status\", \"steatohepatitis\", \"step\", \"step\", \"step\", \"stereotype\", \"stimulate\", \"stimulation\", \"stimulation\", \"stimulus\", \"stimulus\", \"stomatitis\", \"storage\", \"strain\", \"strategy\", \"strategy\", \"strategy\", \"strategy\", \"strategy\", \"strategy\", \"stratification\", \"stratify\", \"strengthening\", \"strep\", \"stress\", \"stress\", \"stress\", \"stride\", \"stroke\", \"structure\", \"structure\", \"structure\", \"student\", \"student\", \"study\", \"sub_internship\", \"subjectively\", \"substrate\", \"substrate\", \"subtype\", \"suggest\", \"suggest\", \"suggest\", \"suggest\", \"suicide\", \"summarize\", \"summarize\", \"summary\", \"support\", \"support\", \"support\", \"support\", \"suppress\", \"surface\", \"surface\", \"surgery\", \"surgery\", \"surgical\", \"surveillance\", \"survey\", \"survey\", \"survival\", \"survival\", \"survival\", \"suspension\", \"sustainable\", \"symbiotic\", \"symptom\", \"symptom\", \"symptom\", \"syndrome\", \"syndrome\", \"synthesize\", \"system\", \"system\", \"system\", \"system\", \"systematic\", \"systematic\", \"systematic_review\", \"systematic_review_meta_analysis\", \"systematically\", \"systematically\", \"target\", \"target\", \"target\", \"target\", \"target\", \"target\", \"task\", \"taxon\", \"taxonomic\", \"teach\", \"teaching\", \"team_member\", \"technical\", \"technical\", \"technique\", \"technique\", \"technique\", \"technique\", \"technology\", \"technology\", \"technology\", \"technology\", \"technology\", \"temperature\", \"temperature\", \"temporal\", \"temporal\", \"test\", \"test\", \"testing\", \"theme\", \"therapeutic\", \"therapeutic\", \"therapeutic\", \"therapeutic\", \"therapist\", \"therapy\", \"therapy\", \"therapy\", \"thoughtful\", \"threatening\", \"thrombolyze\", \"thrombolyzed\", \"throughput\", \"time\", \"time\", \"time\", \"time\", \"timely\", \"tinnitus\", \"tissue\", \"tissue\", \"tissue\", \"titanium\", \"tobacco\", \"tool\", \"tool\", \"tool\", \"tooth\", \"top\", \"top\", \"topic\", \"topic\", \"total\", \"total\", \"total\", \"totally\", \"toxicity\", \"training\", \"training\", \"transcript\", \"transcription\", \"transcriptional\", \"transcriptomic\", \"transformation\", \"transition\", \"transition\", \"transmission\", \"transplant\", \"treat\", \"treat\", \"treat\", \"treat\", \"treatment\", \"treatment\", \"trial\", \"trial\", \"trial\", \"true\", \"tumor\", \"tumor\", \"tumour\", \"type\", \"type\", \"type\", \"type\", \"ultimately\", \"undergo\", \"underlie\", \"underlie\", \"understanding\", \"understanding\", \"understanding\", \"understanding\", \"undertake\", \"uneven\", \"unit\", \"unit\", \"urban\", \"urban\", \"urea\", \"uremia\", \"urgently_need\", \"urinary\", \"urinary\", \"urine\", \"utility\", \"utility\", \"vaccination\", \"vaccine\", \"vaccine\", \"valgus\", \"validate\", \"validate\", \"variant\", \"variation\", \"variation\", \"variation\", \"variation\", \"variation\", \"varie\", \"vasculitis\", \"ventilation\", \"viability\", \"video\", \"violence\", \"viral\", \"virtual\", \"virtual_sub_internship\", \"virtually\", \"virus\", \"vision\", \"visit\", \"visit\", \"visual\", \"visualization\", \"vitamin\", \"vivo\", \"vulnerable\", \"waitlist\", \"walk\", \"walk\", \"walking\", \"wastewater\", \"water\", \"wave\", \"weakness\", \"web\", \"week\", \"wind\", \"window\", \"woman\", \"woman\", \"work\", \"work\", \"work\", \"work\", \"year\", \"year\", \"yield\", \"yield\"]}, \"R\": 30, \"lambda.step\": 0.01, \"plot.opts\": {\"xlab\": \"PC1\", \"ylab\": \"PC2\"}, \"topic.order\": [10, 6, 13, 11, 7, 5, 14, 9, 15, 3, 4, 2, 1, 8, 12]};\n",
              "\n",
              "function LDAvis_load_lib(url, callback){\n",
              "  var s = document.createElement('script');\n",
              "  s.src = url;\n",
              "  s.async = true;\n",
              "  s.onreadystatechange = s.onload = callback;\n",
              "  s.onerror = function(){console.warn(\"failed to load library \" + url);};\n",
              "  document.getElementsByTagName(\"head\")[0].appendChild(s);\n",
              "}\n",
              "\n",
              "if(typeof(LDAvis) !== \"undefined\"){\n",
              "   // already loaded: just create the visualization\n",
              "   !function(LDAvis){\n",
              "       new LDAvis(\"#\" + \"ldavis_el192441398388248514086287167485\", ldavis_el192441398388248514086287167485_data);\n",
              "   }(LDAvis);\n",
              "}else if(typeof define === \"function\" && define.amd){\n",
              "   // require.js is available: use it to load d3/LDAvis\n",
              "   require.config({paths: {d3: \"https://d3js.org/d3.v5\"}});\n",
              "   require([\"d3\"], function(d3){\n",
              "      window.d3 = d3;\n",
              "      LDAvis_load_lib(\"https://cdn.jsdelivr.net/gh/bmabey/pyLDAvis@3.3.1/pyLDAvis/js/ldavis.v3.0.0.js\", function(){\n",
              "        new LDAvis(\"#\" + \"ldavis_el192441398388248514086287167485\", ldavis_el192441398388248514086287167485_data);\n",
              "      });\n",
              "    });\n",
              "}else{\n",
              "    // require.js not available: dynamically load d3 & LDAvis\n",
              "    LDAvis_load_lib(\"https://d3js.org/d3.v5.js\", function(){\n",
              "         LDAvis_load_lib(\"https://cdn.jsdelivr.net/gh/bmabey/pyLDAvis@3.3.1/pyLDAvis/js/ldavis.v3.0.0.js\", function(){\n",
              "                 new LDAvis(\"#\" + \"ldavis_el192441398388248514086287167485\", ldavis_el192441398388248514086287167485_data);\n",
              "            })\n",
              "         });\n",
              "}\n",
              "</script>"
            ]
          },
          "metadata": {},
          "execution_count": 44
        }
      ]
    },
    {
      "cell_type": "markdown",
      "metadata": {
        "id": "aqEb9HL-JMFI"
      },
      "source": [
        "Those were the topics for the chosen LDA model."
      ]
    },
    {
      "cell_type": "markdown",
      "metadata": {
        "id": "8elTXI8hJMFJ"
      },
      "source": [
        "# 12. Finding the top n dominant topics in each sentence\n",
        "\n",
        "One of the practical application of topic modeling is to determine what topics a given document is about.\n",
        "\n",
        "To find that, we find the topics number that has the highest percentage contribution in that document.\n",
        "\n",
        "The `format_topics_sentences()` function below nicely aggregates this information in a presentable table."
      ]
    },
    {
      "cell_type": "code",
      "execution_count": 45,
      "metadata": {
        "id": "2va-5pS2JMFJ"
      },
      "outputs": [],
      "source": [
        "def format_topics_sentences(ldamodel=lda_model, corpus=corpus, texts=data, n=1):\n",
        "\n",
        "    \"\"\"\n",
        "    Find the top n dominant topics in each article and aggregates this information in a presentable table \n",
        "\n",
        "    Parameters:\n",
        "    ----------\n",
        "    ldamodel : Gensim lda_model\n",
        "    corpus : Gensim corpus\n",
        "    texts : List of input articles text\n",
        "    n: number of dominant topics\n",
        "\n",
        "    Returns:\n",
        "    -------\n",
        "    sent_topics_df : a pandas Dataframe that aggregates information in a \n",
        "                     presentable way with columns ['Document_No', 'Dominant_Topics', 'Topic_Perc_Contribs','Text']\n",
        "    \n",
        "    \"\"\"\n",
        "    # Init output\n",
        "    sent_topics_df = pd.DataFrame()\n",
        "\n",
        "    # Get main topic in each document\n",
        "    for i, row in enumerate(ldamodel[corpus]):\n",
        "        row = sorted(row, key=lambda x: (x[1]), reverse=True)\n",
        "        # Get the Dominant topic, Perc Contribution and Keywords for each document\n",
        "        topics = []\n",
        "        percenges = []\n",
        "        for j, (topic_num, prop_topic) in enumerate(row):\n",
        "            if j < n:  # => dominant topic\n",
        "                topics.append(int(topic_num))\n",
        "                percenges.append(round(prop_topic,4))\n",
        "            else:\n",
        "                break\n",
        "\n",
        "        if n == 1:\n",
        "          sent_topics_df = sent_topics_df.append(pd.Series([topics[0],percenges[0]]), ignore_index=True)\n",
        "        else:\n",
        "          sent_topics_df = sent_topics_df.append(pd.Series([topics,percenges]), ignore_index=True)\n",
        "          \n",
        "    sent_topics_df.columns = ['Dominant_Topics', 'Perc_Contributions']\n",
        "\n",
        "    # Add original text to the end of the output\n",
        "    contents = pd.Series(texts)\n",
        "    sent_topics_df = pd.concat([sent_topics_df, contents], axis=1)\n",
        "    return(sent_topics_df)\n"
      ]
    },
    {
      "cell_type": "code",
      "source": [
        "df_topic_sents_keywords = format_topics_sentences(ldamodel=optimal_model, corpus=corpus, texts=data, n=3)\n",
        "\n",
        "# Format\n",
        "df_dominant_topic = df_topic_sents_keywords.reset_index()\n",
        "df_dominant_topic.columns = ['Document_No', 'Dominant_Topics', 'Topic_Perc_Contribs','Text']\n",
        "\n",
        "# Show\n",
        "df_dominant_topic.head(10)"
      ],
      "metadata": {
        "colab": {
          "base_uri": "https://localhost:8080/",
          "height": 363
        },
        "id": "k874_6QOQMsQ",
        "outputId": "f90b9731-b96b-4502-ce88-1d728d193ca8"
      },
      "execution_count": 46,
      "outputs": [
        {
          "output_type": "execute_result",
          "data": {
            "text/plain": [
              "   Document_No Dominant_Topics       Topic_Perc_Contribs  \\\n",
              "0            0       [8, 6, 3]  [0.1928, 0.1634, 0.1126]   \n",
              "1            1      [8, 13, 7]  [0.3012, 0.1082, 0.1031]   \n",
              "2            2      [5, 13, 6]   [0.2648, 0.1522, 0.118]   \n",
              "3            3      [5, 8, 12]  [0.3083, 0.1477, 0.1445]   \n",
              "4            4       [5, 3, 9]  [0.3041, 0.0994, 0.0852]   \n",
              "5            5      [8, 9, 13]  [0.2294, 0.2065, 0.1412]   \n",
              "6            6     [12, 10, 8]    [0.161, 0.1239, 0.104]   \n",
              "7            7      [12, 5, 3]   [0.1538, 0.127, 0.0923]   \n",
              "8            8     [12, 0, 13]   [0.1988, 0.1254, 0.091]   \n",
              "9            9     [12, 10, 6]   [0.1539, 0.139, 0.0927]   \n",
              "\n",
              "                                                Text  \n",
              "0  [ Stable Coordination Variability in Overgroun...  \n",
              "1  [ Weak Hip Strength Increases Dynamic Knee Val...  \n",
              "2  [ Current and Future Projections of Amyotrophi...  \n",
              "3  [ Disparities between Asian and Non-Asian Thro...  \n",
              "4  [\"Maternal Factors Predicting Loss to Follow-U...  \n",
              "5  [ Testing the feasibility and acceptability of...  \n",
              "6  [\"Lupus nephritis and ANCA-associated vasculit...  \n",
              "7  [ Precision medicine in diabetic nephropathy a...  \n",
              "8  [ Precision medicine in immunoglobulin A\\xa0ne...  \n",
              "9  [\"Precision medicine in transplantation and he...  "
            ],
            "text/html": [
              "\n",
              "  <div id=\"df-c6519e71-f5f3-401b-bc59-eecf7925b7ac\">\n",
              "    <div class=\"colab-df-container\">\n",
              "      <div>\n",
              "<style scoped>\n",
              "    .dataframe tbody tr th:only-of-type {\n",
              "        vertical-align: middle;\n",
              "    }\n",
              "\n",
              "    .dataframe tbody tr th {\n",
              "        vertical-align: top;\n",
              "    }\n",
              "\n",
              "    .dataframe thead th {\n",
              "        text-align: right;\n",
              "    }\n",
              "</style>\n",
              "<table border=\"1\" class=\"dataframe\">\n",
              "  <thead>\n",
              "    <tr style=\"text-align: right;\">\n",
              "      <th></th>\n",
              "      <th>Document_No</th>\n",
              "      <th>Dominant_Topics</th>\n",
              "      <th>Topic_Perc_Contribs</th>\n",
              "      <th>Text</th>\n",
              "    </tr>\n",
              "  </thead>\n",
              "  <tbody>\n",
              "    <tr>\n",
              "      <th>0</th>\n",
              "      <td>0</td>\n",
              "      <td>[8, 6, 3]</td>\n",
              "      <td>[0.1928, 0.1634, 0.1126]</td>\n",
              "      <td>[ Stable Coordination Variability in Overgroun...</td>\n",
              "    </tr>\n",
              "    <tr>\n",
              "      <th>1</th>\n",
              "      <td>1</td>\n",
              "      <td>[8, 13, 7]</td>\n",
              "      <td>[0.3012, 0.1082, 0.1031]</td>\n",
              "      <td>[ Weak Hip Strength Increases Dynamic Knee Val...</td>\n",
              "    </tr>\n",
              "    <tr>\n",
              "      <th>2</th>\n",
              "      <td>2</td>\n",
              "      <td>[5, 13, 6]</td>\n",
              "      <td>[0.2648, 0.1522, 0.118]</td>\n",
              "      <td>[ Current and Future Projections of Amyotrophi...</td>\n",
              "    </tr>\n",
              "    <tr>\n",
              "      <th>3</th>\n",
              "      <td>3</td>\n",
              "      <td>[5, 8, 12]</td>\n",
              "      <td>[0.3083, 0.1477, 0.1445]</td>\n",
              "      <td>[ Disparities between Asian and Non-Asian Thro...</td>\n",
              "    </tr>\n",
              "    <tr>\n",
              "      <th>4</th>\n",
              "      <td>4</td>\n",
              "      <td>[5, 3, 9]</td>\n",
              "      <td>[0.3041, 0.0994, 0.0852]</td>\n",
              "      <td>[\"Maternal Factors Predicting Loss to Follow-U...</td>\n",
              "    </tr>\n",
              "    <tr>\n",
              "      <th>5</th>\n",
              "      <td>5</td>\n",
              "      <td>[8, 9, 13]</td>\n",
              "      <td>[0.2294, 0.2065, 0.1412]</td>\n",
              "      <td>[ Testing the feasibility and acceptability of...</td>\n",
              "    </tr>\n",
              "    <tr>\n",
              "      <th>6</th>\n",
              "      <td>6</td>\n",
              "      <td>[12, 10, 8]</td>\n",
              "      <td>[0.161, 0.1239, 0.104]</td>\n",
              "      <td>[\"Lupus nephritis and ANCA-associated vasculit...</td>\n",
              "    </tr>\n",
              "    <tr>\n",
              "      <th>7</th>\n",
              "      <td>7</td>\n",
              "      <td>[12, 5, 3]</td>\n",
              "      <td>[0.1538, 0.127, 0.0923]</td>\n",
              "      <td>[ Precision medicine in diabetic nephropathy a...</td>\n",
              "    </tr>\n",
              "    <tr>\n",
              "      <th>8</th>\n",
              "      <td>8</td>\n",
              "      <td>[12, 0, 13]</td>\n",
              "      <td>[0.1988, 0.1254, 0.091]</td>\n",
              "      <td>[ Precision medicine in immunoglobulin A\\xa0ne...</td>\n",
              "    </tr>\n",
              "    <tr>\n",
              "      <th>9</th>\n",
              "      <td>9</td>\n",
              "      <td>[12, 10, 6]</td>\n",
              "      <td>[0.1539, 0.139, 0.0927]</td>\n",
              "      <td>[\"Precision medicine in transplantation and he...</td>\n",
              "    </tr>\n",
              "  </tbody>\n",
              "</table>\n",
              "</div>\n",
              "      <button class=\"colab-df-convert\" onclick=\"convertToInteractive('df-c6519e71-f5f3-401b-bc59-eecf7925b7ac')\"\n",
              "              title=\"Convert this dataframe to an interactive table.\"\n",
              "              style=\"display:none;\">\n",
              "        \n",
              "  <svg xmlns=\"http://www.w3.org/2000/svg\" height=\"24px\"viewBox=\"0 0 24 24\"\n",
              "       width=\"24px\">\n",
              "    <path d=\"M0 0h24v24H0V0z\" fill=\"none\"/>\n",
              "    <path d=\"M18.56 5.44l.94 2.06.94-2.06 2.06-.94-2.06-.94-.94-2.06-.94 2.06-2.06.94zm-11 1L8.5 8.5l.94-2.06 2.06-.94-2.06-.94L8.5 2.5l-.94 2.06-2.06.94zm10 10l.94 2.06.94-2.06 2.06-.94-2.06-.94-.94-2.06-.94 2.06-2.06.94z\"/><path d=\"M17.41 7.96l-1.37-1.37c-.4-.4-.92-.59-1.43-.59-.52 0-1.04.2-1.43.59L10.3 9.45l-7.72 7.72c-.78.78-.78 2.05 0 2.83L4 21.41c.39.39.9.59 1.41.59.51 0 1.02-.2 1.41-.59l7.78-7.78 2.81-2.81c.8-.78.8-2.07 0-2.86zM5.41 20L4 18.59l7.72-7.72 1.47 1.35L5.41 20z\"/>\n",
              "  </svg>\n",
              "      </button>\n",
              "      \n",
              "  <style>\n",
              "    .colab-df-container {\n",
              "      display:flex;\n",
              "      flex-wrap:wrap;\n",
              "      gap: 12px;\n",
              "    }\n",
              "\n",
              "    .colab-df-convert {\n",
              "      background-color: #E8F0FE;\n",
              "      border: none;\n",
              "      border-radius: 50%;\n",
              "      cursor: pointer;\n",
              "      display: none;\n",
              "      fill: #1967D2;\n",
              "      height: 32px;\n",
              "      padding: 0 0 0 0;\n",
              "      width: 32px;\n",
              "    }\n",
              "\n",
              "    .colab-df-convert:hover {\n",
              "      background-color: #E2EBFA;\n",
              "      box-shadow: 0px 1px 2px rgba(60, 64, 67, 0.3), 0px 1px 3px 1px rgba(60, 64, 67, 0.15);\n",
              "      fill: #174EA6;\n",
              "    }\n",
              "\n",
              "    [theme=dark] .colab-df-convert {\n",
              "      background-color: #3B4455;\n",
              "      fill: #D2E3FC;\n",
              "    }\n",
              "\n",
              "    [theme=dark] .colab-df-convert:hover {\n",
              "      background-color: #434B5C;\n",
              "      box-shadow: 0px 1px 3px 1px rgba(0, 0, 0, 0.15);\n",
              "      filter: drop-shadow(0px 1px 2px rgba(0, 0, 0, 0.3));\n",
              "      fill: #FFFFFF;\n",
              "    }\n",
              "  </style>\n",
              "\n",
              "      <script>\n",
              "        const buttonEl =\n",
              "          document.querySelector('#df-c6519e71-f5f3-401b-bc59-eecf7925b7ac button.colab-df-convert');\n",
              "        buttonEl.style.display =\n",
              "          google.colab.kernel.accessAllowed ? 'block' : 'none';\n",
              "\n",
              "        async function convertToInteractive(key) {\n",
              "          const element = document.querySelector('#df-c6519e71-f5f3-401b-bc59-eecf7925b7ac');\n",
              "          const dataTable =\n",
              "            await google.colab.kernel.invokeFunction('convertToInteractive',\n",
              "                                                     [key], {});\n",
              "          if (!dataTable) return;\n",
              "\n",
              "          const docLinkHtml = 'Like what you see? Visit the ' +\n",
              "            '<a target=\"_blank\" href=https://colab.research.google.com/notebooks/data_table.ipynb>data table notebook</a>'\n",
              "            + ' to learn more about interactive tables.';\n",
              "          element.innerHTML = '';\n",
              "          dataTable['output_type'] = 'display_data';\n",
              "          await google.colab.output.renderOutput(dataTable, element);\n",
              "          const docLink = document.createElement('div');\n",
              "          docLink.innerHTML = docLinkHtml;\n",
              "          element.appendChild(docLink);\n",
              "        }\n",
              "      </script>\n",
              "    </div>\n",
              "  </div>\n",
              "  "
            ]
          },
          "metadata": {},
          "execution_count": 46
        }
      ]
    },
    {
      "cell_type": "markdown",
      "source": [
        "# 13. Finding the most representative document for each topic.\n",
        "\n",
        "Sometimes just the topic keywords may not be enough to make sense of what a topic is about. So, to help with understanding the topic, you can find the documents a given topic has contributed to the most and infer the topic by reading that document."
      ],
      "metadata": {
        "id": "aCo6mjpqyQVg"
      }
    },
    {
      "cell_type": "code",
      "source": [
        "# Group top 5 sentences under each topic\n",
        "df_topic_sents_keywords = format_topics_sentences(ldamodel=optimal_model, corpus=corpus, texts=data, n=1)\n",
        "\n",
        "sent_topics_sorteddf_mallet = pd.DataFrame()\n",
        "sent_topics_outdf_grpd =  df_topic_sents_keywords.groupby('Dominant_Topics')\n",
        "for i, grp in sent_topics_outdf_grpd:\n",
        "    sent_topics_sorteddf_mallet = pd.concat([sent_topics_sorteddf_mallet,\n",
        "                                             grp.sort_values(['Perc_Contributions'], ascending=[0]).head(1)],\n",
        "                                            axis=0)\n",
        "\n",
        "# Reset Index\n",
        "sent_topics_sorteddf_mallet.reset_index(drop=True, inplace=True)\n",
        "\n",
        "# Format\n",
        "sent_topics_sorteddf_mallet.columns = [\n",
        "    'Topic_Num', \"Topic_Perc_Contrib\",\"Text\"]\n",
        "\n",
        "# Show\n",
        "sent_topics_sorteddf_mallet\n"
      ],
      "metadata": {
        "colab": {
          "base_uri": "https://localhost:8080/",
          "height": 519
        },
        "id": "pXxLYJh5QmaN",
        "outputId": "b1e7c2d9-b4ac-4618-b53c-0620620b8ef0"
      },
      "execution_count": 47,
      "outputs": [
        {
          "output_type": "execute_result",
          "data": {
            "text/plain": [
              "    Topic_Num  Topic_Perc_Contrib  \\\n",
              "0         0.0              0.4877   \n",
              "1         1.0              0.6677   \n",
              "2         2.0              0.6520   \n",
              "3         3.0              0.5945   \n",
              "4         4.0              0.5940   \n",
              "5         5.0              0.5694   \n",
              "6         6.0              0.6056   \n",
              "7         7.0              0.5097   \n",
              "8         8.0              0.6688   \n",
              "9         9.0              0.6692   \n",
              "10       10.0              0.5880   \n",
              "11       11.0              0.6648   \n",
              "12       12.0              0.5678   \n",
              "13       13.0              0.5599   \n",
              "14       14.0              0.5955   \n",
              "\n",
              "                                                 Text  \n",
              "0   [ Influence of insecticide resistance on the b...  \n",
              "1   [ Adaptation of ELISA detection of Plasmodium ...  \n",
              "2   [ Quantification of multi-scale links of anthr...  \n",
              "3   [ HD-tDCS over motor cortex facilitates figura...  \n",
              "4   [\"Comparison of Emotional Behaviour of Spanish...  \n",
              "5   [ Association between body composite indices a...  \n",
              "6   [ A heuristic model-based approach for compens...  \n",
              "7   [ Brain-derived Neurotropic factor (BDNF) medi...  \n",
              "8   [ Initial treatment with a single pill contain...  \n",
              "9   [\"Community s experience and perceptions of ma...  \n",
              "10  [ Formin-like protein 2 promotes cell prolifer...  \n",
              "11  [ Unraveling cryptic diversity among shallow-w...  \n",
              "12  [ Clinical and radiographic outcomes following...  \n",
              "13  [ Cross-sectional study of preprints and final...  \n",
              "14  [ A petal-shaped MOF assembled with a gold nan...  "
            ],
            "text/html": [
              "\n",
              "  <div id=\"df-501de286-bd26-4c0f-b204-d87c5896e8a5\">\n",
              "    <div class=\"colab-df-container\">\n",
              "      <div>\n",
              "<style scoped>\n",
              "    .dataframe tbody tr th:only-of-type {\n",
              "        vertical-align: middle;\n",
              "    }\n",
              "\n",
              "    .dataframe tbody tr th {\n",
              "        vertical-align: top;\n",
              "    }\n",
              "\n",
              "    .dataframe thead th {\n",
              "        text-align: right;\n",
              "    }\n",
              "</style>\n",
              "<table border=\"1\" class=\"dataframe\">\n",
              "  <thead>\n",
              "    <tr style=\"text-align: right;\">\n",
              "      <th></th>\n",
              "      <th>Topic_Num</th>\n",
              "      <th>Topic_Perc_Contrib</th>\n",
              "      <th>Text</th>\n",
              "    </tr>\n",
              "  </thead>\n",
              "  <tbody>\n",
              "    <tr>\n",
              "      <th>0</th>\n",
              "      <td>0.0</td>\n",
              "      <td>0.4877</td>\n",
              "      <td>[ Influence of insecticide resistance on the b...</td>\n",
              "    </tr>\n",
              "    <tr>\n",
              "      <th>1</th>\n",
              "      <td>1.0</td>\n",
              "      <td>0.6677</td>\n",
              "      <td>[ Adaptation of ELISA detection of Plasmodium ...</td>\n",
              "    </tr>\n",
              "    <tr>\n",
              "      <th>2</th>\n",
              "      <td>2.0</td>\n",
              "      <td>0.6520</td>\n",
              "      <td>[ Quantification of multi-scale links of anthr...</td>\n",
              "    </tr>\n",
              "    <tr>\n",
              "      <th>3</th>\n",
              "      <td>3.0</td>\n",
              "      <td>0.5945</td>\n",
              "      <td>[ HD-tDCS over motor cortex facilitates figura...</td>\n",
              "    </tr>\n",
              "    <tr>\n",
              "      <th>4</th>\n",
              "      <td>4.0</td>\n",
              "      <td>0.5940</td>\n",
              "      <td>[\"Comparison of Emotional Behaviour of Spanish...</td>\n",
              "    </tr>\n",
              "    <tr>\n",
              "      <th>5</th>\n",
              "      <td>5.0</td>\n",
              "      <td>0.5694</td>\n",
              "      <td>[ Association between body composite indices a...</td>\n",
              "    </tr>\n",
              "    <tr>\n",
              "      <th>6</th>\n",
              "      <td>6.0</td>\n",
              "      <td>0.6056</td>\n",
              "      <td>[ A heuristic model-based approach for compens...</td>\n",
              "    </tr>\n",
              "    <tr>\n",
              "      <th>7</th>\n",
              "      <td>7.0</td>\n",
              "      <td>0.5097</td>\n",
              "      <td>[ Brain-derived Neurotropic factor (BDNF) medi...</td>\n",
              "    </tr>\n",
              "    <tr>\n",
              "      <th>8</th>\n",
              "      <td>8.0</td>\n",
              "      <td>0.6688</td>\n",
              "      <td>[ Initial treatment with a single pill contain...</td>\n",
              "    </tr>\n",
              "    <tr>\n",
              "      <th>9</th>\n",
              "      <td>9.0</td>\n",
              "      <td>0.6692</td>\n",
              "      <td>[\"Community s experience and perceptions of ma...</td>\n",
              "    </tr>\n",
              "    <tr>\n",
              "      <th>10</th>\n",
              "      <td>10.0</td>\n",
              "      <td>0.5880</td>\n",
              "      <td>[ Formin-like protein 2 promotes cell prolifer...</td>\n",
              "    </tr>\n",
              "    <tr>\n",
              "      <th>11</th>\n",
              "      <td>11.0</td>\n",
              "      <td>0.6648</td>\n",
              "      <td>[ Unraveling cryptic diversity among shallow-w...</td>\n",
              "    </tr>\n",
              "    <tr>\n",
              "      <th>12</th>\n",
              "      <td>12.0</td>\n",
              "      <td>0.5678</td>\n",
              "      <td>[ Clinical and radiographic outcomes following...</td>\n",
              "    </tr>\n",
              "    <tr>\n",
              "      <th>13</th>\n",
              "      <td>13.0</td>\n",
              "      <td>0.5599</td>\n",
              "      <td>[ Cross-sectional study of preprints and final...</td>\n",
              "    </tr>\n",
              "    <tr>\n",
              "      <th>14</th>\n",
              "      <td>14.0</td>\n",
              "      <td>0.5955</td>\n",
              "      <td>[ A petal-shaped MOF assembled with a gold nan...</td>\n",
              "    </tr>\n",
              "  </tbody>\n",
              "</table>\n",
              "</div>\n",
              "      <button class=\"colab-df-convert\" onclick=\"convertToInteractive('df-501de286-bd26-4c0f-b204-d87c5896e8a5')\"\n",
              "              title=\"Convert this dataframe to an interactive table.\"\n",
              "              style=\"display:none;\">\n",
              "        \n",
              "  <svg xmlns=\"http://www.w3.org/2000/svg\" height=\"24px\"viewBox=\"0 0 24 24\"\n",
              "       width=\"24px\">\n",
              "    <path d=\"M0 0h24v24H0V0z\" fill=\"none\"/>\n",
              "    <path d=\"M18.56 5.44l.94 2.06.94-2.06 2.06-.94-2.06-.94-.94-2.06-.94 2.06-2.06.94zm-11 1L8.5 8.5l.94-2.06 2.06-.94-2.06-.94L8.5 2.5l-.94 2.06-2.06.94zm10 10l.94 2.06.94-2.06 2.06-.94-2.06-.94-.94-2.06-.94 2.06-2.06.94z\"/><path d=\"M17.41 7.96l-1.37-1.37c-.4-.4-.92-.59-1.43-.59-.52 0-1.04.2-1.43.59L10.3 9.45l-7.72 7.72c-.78.78-.78 2.05 0 2.83L4 21.41c.39.39.9.59 1.41.59.51 0 1.02-.2 1.41-.59l7.78-7.78 2.81-2.81c.8-.78.8-2.07 0-2.86zM5.41 20L4 18.59l7.72-7.72 1.47 1.35L5.41 20z\"/>\n",
              "  </svg>\n",
              "      </button>\n",
              "      \n",
              "  <style>\n",
              "    .colab-df-container {\n",
              "      display:flex;\n",
              "      flex-wrap:wrap;\n",
              "      gap: 12px;\n",
              "    }\n",
              "\n",
              "    .colab-df-convert {\n",
              "      background-color: #E8F0FE;\n",
              "      border: none;\n",
              "      border-radius: 50%;\n",
              "      cursor: pointer;\n",
              "      display: none;\n",
              "      fill: #1967D2;\n",
              "      height: 32px;\n",
              "      padding: 0 0 0 0;\n",
              "      width: 32px;\n",
              "    }\n",
              "\n",
              "    .colab-df-convert:hover {\n",
              "      background-color: #E2EBFA;\n",
              "      box-shadow: 0px 1px 2px rgba(60, 64, 67, 0.3), 0px 1px 3px 1px rgba(60, 64, 67, 0.15);\n",
              "      fill: #174EA6;\n",
              "    }\n",
              "\n",
              "    [theme=dark] .colab-df-convert {\n",
              "      background-color: #3B4455;\n",
              "      fill: #D2E3FC;\n",
              "    }\n",
              "\n",
              "    [theme=dark] .colab-df-convert:hover {\n",
              "      background-color: #434B5C;\n",
              "      box-shadow: 0px 1px 3px 1px rgba(0, 0, 0, 0.15);\n",
              "      filter: drop-shadow(0px 1px 2px rgba(0, 0, 0, 0.3));\n",
              "      fill: #FFFFFF;\n",
              "    }\n",
              "  </style>\n",
              "\n",
              "      <script>\n",
              "        const buttonEl =\n",
              "          document.querySelector('#df-501de286-bd26-4c0f-b204-d87c5896e8a5 button.colab-df-convert');\n",
              "        buttonEl.style.display =\n",
              "          google.colab.kernel.accessAllowed ? 'block' : 'none';\n",
              "\n",
              "        async function convertToInteractive(key) {\n",
              "          const element = document.querySelector('#df-501de286-bd26-4c0f-b204-d87c5896e8a5');\n",
              "          const dataTable =\n",
              "            await google.colab.kernel.invokeFunction('convertToInteractive',\n",
              "                                                     [key], {});\n",
              "          if (!dataTable) return;\n",
              "\n",
              "          const docLinkHtml = 'Like what you see? Visit the ' +\n",
              "            '<a target=\"_blank\" href=https://colab.research.google.com/notebooks/data_table.ipynb>data table notebook</a>'\n",
              "            + ' to learn more about interactive tables.';\n",
              "          element.innerHTML = '';\n",
              "          dataTable['output_type'] = 'display_data';\n",
              "          await google.colab.output.renderOutput(dataTable, element);\n",
              "          const docLink = document.createElement('div');\n",
              "          docLink.innerHTML = docLinkHtml;\n",
              "          element.appendChild(docLink);\n",
              "        }\n",
              "      </script>\n",
              "    </div>\n",
              "  </div>\n",
              "  "
            ]
          },
          "metadata": {},
          "execution_count": 47
        }
      ]
    },
    {
      "cell_type": "markdown",
      "source": [
        "# 14. Saving the model"
      ],
      "metadata": {
        "id": "vboBD5l6-PUi"
      }
    },
    {
      "cell_type": "code",
      "source": [
        "#optimal_model.save(\"/content/models/LDA_model.model\")"
      ],
      "metadata": {
        "id": "9kCa4Nf77Kk0"
      },
      "execution_count": 48,
      "outputs": []
    }
  ],
  "metadata": {
    "colab": {
      "collapsed_sections": [],
      "name": "Topic_Modeling_with_Gensim.ipynb",
      "provenance": []
    },
    "kernelspec": {
      "display_name": "Python 3",
      "language": "python",
      "name": "python3"
    },
    "language_info": {
      "codemirror_mode": {
        "name": "ipython",
        "version": 3
      },
      "file_extension": ".py",
      "mimetype": "text/x-python",
      "name": "python",
      "nbconvert_exporter": "python",
      "pygments_lexer": "ipython3",
      "version": "3.7.3"
    }
  },
  "nbformat": 4,
  "nbformat_minor": 0
}